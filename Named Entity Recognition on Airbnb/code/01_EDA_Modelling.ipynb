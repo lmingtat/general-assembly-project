{
 "cells": [
  {
   "cell_type": "markdown",
   "id": "sudden-cincinnati",
   "metadata": {},
   "source": [
    "## Problem Statement"
   ]
  },
  {
   "cell_type": "markdown",
   "id": "civil-workplace",
   "metadata": {},
   "source": [
    "Currently a lot of travel accomodation services has their own filters when recommending places to stay.\n",
    "However, these searches are based on the physical traits of the property or rental.\n",
    "When users do searches on airbnb/hotels in certain areas, they would need to filter by area and read the comments of the place/organisation individually. This usually takes up a lot of time!\n",
    "\n",
    "Hence, another way that can change this experience is to:\n",
    "Allows searches based on experiences / user reviews (especially local attractions; Chinatown, LittleIndia, etc..)\n",
    "Thus, users will be able to read up and search for reviews and location at the same time.\n",
    "\n",
    "**The idea is to build a Named Entity Recognition (NER) model using deep learning, and then compare it to existing pre-trained model to analyse their efficiency, as in how well these models can learn the local areas in Singapore.**"
   ]
  },
  {
   "cell_type": "markdown",
   "id": "hidden-thermal",
   "metadata": {},
   "source": [
    "## Executive Summary"
   ]
  },
  {
   "cell_type": "markdown",
   "id": "hawaiian-welsh",
   "metadata": {},
   "source": [
    "*  \n",
    "*  \n",
    "*  \n",
    "*  \n",
    "*  \n",
    "*  \n",
    "*  \n",
    "*  "
   ]
  },
  {
   "cell_type": "markdown",
   "id": "stunning-california",
   "metadata": {},
   "source": [
    "## Imports"
   ]
  },
  {
   "cell_type": "code",
   "execution_count": 1,
   "id": "pressing-glory",
   "metadata": {},
   "outputs": [],
   "source": [
    "# Imports\n",
    "import pandas as pd\n",
    "import numpy as np\n",
    "import matplotlib.pyplot as plt\n",
    "import seaborn as sns\n",
    "import time"
   ]
  },
  {
   "cell_type": "code",
   "execution_count": 2,
   "id": "perfect-marriage",
   "metadata": {},
   "outputs": [],
   "source": [
    "# Imports for pre-processing and EDA\n",
    "import regex as re\n",
    "import nltk\n",
    "from nltk.stem import WordNetLemmatizer\n",
    "from nltk.corpus import wordnet\n",
    "from nltk.corpus import stopwords\n",
    "from wordcloud import WordCloud, STOPWORDS\n",
    "from textblob import TextBlob\n",
    "from bs4 import BeautifulSoup\n",
    "from sklearn.feature_extraction.text import CountVectorizer, TfidfVectorizer"
   ]
  },
  {
   "cell_type": "code",
   "execution_count": 3,
   "id": "thrown-retrieval",
   "metadata": {},
   "outputs": [],
   "source": [
    "# Imports for spacy retraining\n",
    "from tqdm import tqdm\n",
    "import spacy\n",
    "from spacy.tokens import DocBin\n",
    "\n",
    "# Import gcld3 for language detection\n",
    "import gcld3\n",
    "\n",
    "# Import google trans module\n",
    "from google_trans_new import google_translator"
   ]
  },
  {
   "cell_type": "code",
   "execution_count": 4,
   "id": "bacterial-yeast",
   "metadata": {},
   "outputs": [],
   "source": [
    "# Show max columns and rows\n",
    "pd.set_option('display.max_columns', 100)\n",
    "pd.set_option('display.max_rows', 100)\n",
    "\n",
    "# Display max\n",
    "pd.set_option('display.max_colwidth', None)"
   ]
  },
  {
   "cell_type": "markdown",
   "id": "vertical-grain",
   "metadata": {},
   "source": [
    "## Load Data / Data Cleaning"
   ]
  },
  {
   "cell_type": "code",
   "execution_count": 5,
   "id": "fabulous-hollywood",
   "metadata": {},
   "outputs": [],
   "source": [
    "# Load review.csv\n",
    "review = pd.read_csv('../data/reviews.csv')"
   ]
  },
  {
   "cell_type": "code",
   "execution_count": 6,
   "id": "enhanced-viewer",
   "metadata": {},
   "outputs": [
    {
     "data": {
      "text/html": [
       "<div>\n",
       "<style scoped>\n",
       "    .dataframe tbody tr th:only-of-type {\n",
       "        vertical-align: middle;\n",
       "    }\n",
       "\n",
       "    .dataframe tbody tr th {\n",
       "        vertical-align: top;\n",
       "    }\n",
       "\n",
       "    .dataframe thead th {\n",
       "        text-align: right;\n",
       "    }\n",
       "</style>\n",
       "<table border=\"1\" class=\"dataframe\">\n",
       "  <thead>\n",
       "    <tr style=\"text-align: right;\">\n",
       "      <th></th>\n",
       "      <th>listing_id</th>\n",
       "      <th>id</th>\n",
       "      <th>date</th>\n",
       "      <th>reviewer_id</th>\n",
       "      <th>reviewer_name</th>\n",
       "      <th>comments</th>\n",
       "    </tr>\n",
       "  </thead>\n",
       "  <tbody>\n",
       "    <tr>\n",
       "      <th>0</th>\n",
       "      <td>49091</td>\n",
       "      <td>8243238</td>\n",
       "      <td>2013-10-21</td>\n",
       "      <td>8557223</td>\n",
       "      <td>Jared</td>\n",
       "      <td>Fran was absolutely gracious and welcoming. Made my stay a great experience. Would definitely recommend this cozy and peaceful place to anyone.</td>\n",
       "    </tr>\n",
       "    <tr>\n",
       "      <th>1</th>\n",
       "      <td>50646</td>\n",
       "      <td>11909864</td>\n",
       "      <td>2014-04-18</td>\n",
       "      <td>1356099</td>\n",
       "      <td>James</td>\n",
       "      <td>A comfortable room in a smart condo development. Everything was kept very clean and I had the use of my own bathroom. Sujatha and her husband are great hosts - very friendly and accommodating. I'll be staying here again.</td>\n",
       "    </tr>\n",
       "    <tr>\n",
       "      <th>2</th>\n",
       "      <td>50646</td>\n",
       "      <td>13823948</td>\n",
       "      <td>2014-06-05</td>\n",
       "      <td>15222393</td>\n",
       "      <td>Welli</td>\n",
       "      <td>Stayed over at Sujatha's house for 3 good nights with my boyfriend. Sujatha and her husband are great hosts, very welcoming and friendly. The room is comfortable and clean. I'm happy to have my own bathroom as i'm particular with shared bathroom. \\r\\nThe location is accessible. A few minutes walk from the house to nearest bus stop which can bring you to town.\\r\\nGood place, good hosts, good price.\\r\\nHighly recommended!</td>\n",
       "    </tr>\n",
       "    <tr>\n",
       "      <th>3</th>\n",
       "      <td>50646</td>\n",
       "      <td>15117222</td>\n",
       "      <td>2014-07-02</td>\n",
       "      <td>5543172</td>\n",
       "      <td>Cyril</td>\n",
       "      <td>It's been a lovely stay at Sujatha's. The room is clean and the location is just perfect for a stop-over in Singapore. I really enjoyed relaxing at the swimming pool after spending most of the day in the city. Thank you Sujatha.</td>\n",
       "    </tr>\n",
       "    <tr>\n",
       "      <th>4</th>\n",
       "      <td>50646</td>\n",
       "      <td>15426462</td>\n",
       "      <td>2014-07-08</td>\n",
       "      <td>817532</td>\n",
       "      <td>Jake</td>\n",
       "      <td>We had a great experience. A nice place, an amazing complex and easy access to public transit</td>\n",
       "    </tr>\n",
       "  </tbody>\n",
       "</table>\n",
       "</div>"
      ],
      "text/plain": [
       "   listing_id        id        date  reviewer_id reviewer_name  \\\n",
       "0       49091   8243238  2013-10-21      8557223         Jared   \n",
       "1       50646  11909864  2014-04-18      1356099         James   \n",
       "2       50646  13823948  2014-06-05     15222393         Welli   \n",
       "3       50646  15117222  2014-07-02      5543172         Cyril   \n",
       "4       50646  15426462  2014-07-08       817532          Jake   \n",
       "\n",
       "                                                                                                                                                                                                                                                                                                                                                                                                                                  comments  \n",
       "0                                                                                                                                                                                                                                                                                          Fran was absolutely gracious and welcoming. Made my stay a great experience. Would definitely recommend this cozy and peaceful place to anyone.  \n",
       "1                                                                                                                                                                                                             A comfortable room in a smart condo development. Everything was kept very clean and I had the use of my own bathroom. Sujatha and her husband are great hosts - very friendly and accommodating. I'll be staying here again.  \n",
       "2  Stayed over at Sujatha's house for 3 good nights with my boyfriend. Sujatha and her husband are great hosts, very welcoming and friendly. The room is comfortable and clean. I'm happy to have my own bathroom as i'm particular with shared bathroom. \\r\\nThe location is accessible. A few minutes walk from the house to nearest bus stop which can bring you to town.\\r\\nGood place, good hosts, good price.\\r\\nHighly recommended!  \n",
       "3                                                                                                                                                                                                     It's been a lovely stay at Sujatha's. The room is clean and the location is just perfect for a stop-over in Singapore. I really enjoyed relaxing at the swimming pool after spending most of the day in the city. Thank you Sujatha.  \n",
       "4                                                                                                                                                                                                                                                                                                                                            We had a great experience. A nice place, an amazing complex and easy access to public transit  "
      ]
     },
     "execution_count": 6,
     "metadata": {},
     "output_type": "execute_result"
    }
   ],
   "source": [
    "# Check reviews\n",
    "review.head(5)"
   ]
  },
  {
   "cell_type": "code",
   "execution_count": 7,
   "id": "interested-apache",
   "metadata": {},
   "outputs": [
    {
     "name": "stdout",
     "output_type": "stream",
     "text": [
      "<class 'pandas.core.frame.DataFrame'>\n",
      "RangeIndex: 53325 entries, 0 to 53324\n",
      "Data columns (total 6 columns):\n",
      " #   Column         Non-Null Count  Dtype \n",
      "---  ------         --------------  ----- \n",
      " 0   listing_id     53325 non-null  int64 \n",
      " 1   id             53325 non-null  int64 \n",
      " 2   date           53325 non-null  object\n",
      " 3   reviewer_id    53325 non-null  int64 \n",
      " 4   reviewer_name  53325 non-null  object\n",
      " 5   comments       53232 non-null  object\n",
      "dtypes: int64(3), object(3)\n",
      "memory usage: 2.4+ MB\n"
     ]
    }
   ],
   "source": [
    "# Check data types of columns\n",
    "review.info()"
   ]
  },
  {
   "cell_type": "code",
   "execution_count": 8,
   "id": "configured-sound",
   "metadata": {},
   "outputs": [
    {
     "data": {
      "text/plain": [
       "comments         93\n",
       "listing_id        0\n",
       "id                0\n",
       "date              0\n",
       "reviewer_id       0\n",
       "reviewer_name     0\n",
       "dtype: int64"
      ]
     },
     "execution_count": 8,
     "metadata": {},
     "output_type": "execute_result"
    }
   ],
   "source": [
    "# Check if df contains NA\n",
    "review.isnull().sum().sort_values(ascending=False)"
   ]
  },
  {
   "cell_type": "markdown",
   "id": "conditional-rochester",
   "metadata": {},
   "source": [
    "A total of 93 people provided reviews but didnt input any comments.\n",
    "We will drop them out instead."
   ]
  },
  {
   "cell_type": "code",
   "execution_count": 9,
   "id": "charitable-edmonton",
   "metadata": {},
   "outputs": [],
   "source": [
    "# Drop NA\n",
    "review.dropna(inplace=True)"
   ]
  },
  {
   "cell_type": "code",
   "execution_count": 10,
   "id": "understanding-criterion",
   "metadata": {},
   "outputs": [
    {
     "data": {
      "text/plain": [
       "listing_id       0\n",
       "id               0\n",
       "date             0\n",
       "reviewer_id      0\n",
       "reviewer_name    0\n",
       "comments         0\n",
       "dtype: int64"
      ]
     },
     "execution_count": 10,
     "metadata": {},
     "output_type": "execute_result"
    }
   ],
   "source": [
    "# Check NA count\n",
    "review.isnull().sum()"
   ]
  },
  {
   "cell_type": "markdown",
   "id": "transparent-breakfast",
   "metadata": {},
   "source": [
    "Create a 'length' of words in comments column"
   ]
  },
  {
   "cell_type": "code",
   "execution_count": 11,
   "id": "decreased-laundry",
   "metadata": {},
   "outputs": [],
   "source": [
    "# Create a 'length' column - length of review words\n",
    "review['length'] = review['comments'].map(lambda x: len(x.split()))"
   ]
  },
  {
   "cell_type": "markdown",
   "id": "chemical-taxation",
   "metadata": {},
   "source": [
    "Use gcld3 package to detect the language of comments"
   ]
  },
  {
   "cell_type": "code",
   "execution_count": 13,
   "id": "solar-refrigerator",
   "metadata": {},
   "outputs": [],
   "source": [
    "# Instantiate gcld3 identifier\n",
    "detector = gcld3.NNetLanguageIdentifier(min_num_bytes=0, \n",
    "                                        max_num_bytes=1000)"
   ]
  },
  {
   "cell_type": "code",
   "execution_count": 14,
   "id": "interested-spectacular",
   "metadata": {},
   "outputs": [],
   "source": [
    "# Run gcld3 identifier through all reviews and append into 'language' column\n",
    "\n",
    "lang_list = []\n",
    "for sentence in review['comments']:\n",
    "    try:\n",
    "        result = detector.FindLanguage(text=sentence)\n",
    "        lang_list.append(result.language)\n",
    "    except:\n",
    "        det = 'No words'\n",
    "        lang_list.append(det)\n",
    "        continue\n",
    "review['language'] = lang_list"
   ]
  },
  {
   "cell_type": "code",
   "execution_count": 15,
   "id": "breathing-drama",
   "metadata": {},
   "outputs": [
    {
     "data": {
      "text/html": [
       "<div>\n",
       "<style scoped>\n",
       "    .dataframe tbody tr th:only-of-type {\n",
       "        vertical-align: middle;\n",
       "    }\n",
       "\n",
       "    .dataframe tbody tr th {\n",
       "        vertical-align: top;\n",
       "    }\n",
       "\n",
       "    .dataframe thead th {\n",
       "        text-align: right;\n",
       "    }\n",
       "</style>\n",
       "<table border=\"1\" class=\"dataframe\">\n",
       "  <thead>\n",
       "    <tr style=\"text-align: right;\">\n",
       "      <th></th>\n",
       "      <th>listing_id</th>\n",
       "      <th>id</th>\n",
       "      <th>date</th>\n",
       "      <th>reviewer_id</th>\n",
       "      <th>reviewer_name</th>\n",
       "      <th>comments</th>\n",
       "      <th>length</th>\n",
       "      <th>language</th>\n",
       "    </tr>\n",
       "  </thead>\n",
       "  <tbody>\n",
       "    <tr>\n",
       "      <th>0</th>\n",
       "      <td>49091</td>\n",
       "      <td>8243238</td>\n",
       "      <td>2013-10-21</td>\n",
       "      <td>8557223</td>\n",
       "      <td>Jared</td>\n",
       "      <td>Fran was absolutely gracious and welcoming. Made my stay a great experience. Would definitely recommend this cozy and peaceful place to anyone.</td>\n",
       "      <td>22</td>\n",
       "      <td>en</td>\n",
       "    </tr>\n",
       "    <tr>\n",
       "      <th>1</th>\n",
       "      <td>50646</td>\n",
       "      <td>11909864</td>\n",
       "      <td>2014-04-18</td>\n",
       "      <td>1356099</td>\n",
       "      <td>James</td>\n",
       "      <td>A comfortable room in a smart condo development. Everything was kept very clean and I had the use of my own bathroom. Sujatha and her husband are great hosts - very friendly and accommodating. I'll be staying here again.</td>\n",
       "      <td>39</td>\n",
       "      <td>en</td>\n",
       "    </tr>\n",
       "    <tr>\n",
       "      <th>2</th>\n",
       "      <td>50646</td>\n",
       "      <td>13823948</td>\n",
       "      <td>2014-06-05</td>\n",
       "      <td>15222393</td>\n",
       "      <td>Welli</td>\n",
       "      <td>Stayed over at Sujatha's house for 3 good nights with my boyfriend. Sujatha and her husband are great hosts, very welcoming and friendly. The room is comfortable and clean. I'm happy to have my own bathroom as i'm particular with shared bathroom. \\r\\nThe location is accessible. A few minutes walk from the house to nearest bus stop which can bring you to town.\\r\\nGood place, good hosts, good price.\\r\\nHighly recommended!</td>\n",
       "      <td>71</td>\n",
       "      <td>en</td>\n",
       "    </tr>\n",
       "    <tr>\n",
       "      <th>3</th>\n",
       "      <td>50646</td>\n",
       "      <td>15117222</td>\n",
       "      <td>2014-07-02</td>\n",
       "      <td>5543172</td>\n",
       "      <td>Cyril</td>\n",
       "      <td>It's been a lovely stay at Sujatha's. The room is clean and the location is just perfect for a stop-over in Singapore. I really enjoyed relaxing at the swimming pool after spending most of the day in the city. Thank you Sujatha.</td>\n",
       "      <td>42</td>\n",
       "      <td>en</td>\n",
       "    </tr>\n",
       "    <tr>\n",
       "      <th>4</th>\n",
       "      <td>50646</td>\n",
       "      <td>15426462</td>\n",
       "      <td>2014-07-08</td>\n",
       "      <td>817532</td>\n",
       "      <td>Jake</td>\n",
       "      <td>We had a great experience. A nice place, an amazing complex and easy access to public transit</td>\n",
       "      <td>17</td>\n",
       "      <td>en</td>\n",
       "    </tr>\n",
       "  </tbody>\n",
       "</table>\n",
       "</div>"
      ],
      "text/plain": [
       "   listing_id        id        date  reviewer_id reviewer_name  \\\n",
       "0       49091   8243238  2013-10-21      8557223         Jared   \n",
       "1       50646  11909864  2014-04-18      1356099         James   \n",
       "2       50646  13823948  2014-06-05     15222393         Welli   \n",
       "3       50646  15117222  2014-07-02      5543172         Cyril   \n",
       "4       50646  15426462  2014-07-08       817532          Jake   \n",
       "\n",
       "                                                                                                                                                                                                                                                                                                                                                                                                                                  comments  \\\n",
       "0                                                                                                                                                                                                                                                                                          Fran was absolutely gracious and welcoming. Made my stay a great experience. Would definitely recommend this cozy and peaceful place to anyone.   \n",
       "1                                                                                                                                                                                                             A comfortable room in a smart condo development. Everything was kept very clean and I had the use of my own bathroom. Sujatha and her husband are great hosts - very friendly and accommodating. I'll be staying here again.   \n",
       "2  Stayed over at Sujatha's house for 3 good nights with my boyfriend. Sujatha and her husband are great hosts, very welcoming and friendly. The room is comfortable and clean. I'm happy to have my own bathroom as i'm particular with shared bathroom. \\r\\nThe location is accessible. A few minutes walk from the house to nearest bus stop which can bring you to town.\\r\\nGood place, good hosts, good price.\\r\\nHighly recommended!   \n",
       "3                                                                                                                                                                                                     It's been a lovely stay at Sujatha's. The room is clean and the location is just perfect for a stop-over in Singapore. I really enjoyed relaxing at the swimming pool after spending most of the day in the city. Thank you Sujatha.   \n",
       "4                                                                                                                                                                                                                                                                                                                                            We had a great experience. A nice place, an amazing complex and easy access to public transit   \n",
       "\n",
       "   length language  \n",
       "0      22       en  \n",
       "1      39       en  \n",
       "2      71       en  \n",
       "3      42       en  \n",
       "4      17       en  "
      ]
     },
     "execution_count": 15,
     "metadata": {},
     "output_type": "execute_result"
    }
   ],
   "source": [
    "# Check df\n",
    "review.head()"
   ]
  },
  {
   "cell_type": "code",
   "execution_count": 16,
   "id": "interpreted-talent",
   "metadata": {},
   "outputs": [
    {
     "data": {
      "text/plain": [
       "en    43533\n",
       "zh     4194\n",
       "ko      736\n",
       "ja      728\n",
       "fr      611\n",
       "de      494\n",
       "uk      311\n",
       "lt      302\n",
       "es      214\n",
       "ru      171\n",
       "sr      140\n",
       "mr      127\n",
       "hi      120\n",
       "no      118\n",
       "it       89\n",
       "nl       76\n",
       "tg       72\n",
       "la       70\n",
       "fy       69\n",
       "ne       69\n",
       "Name: language, dtype: int64"
      ]
     },
     "execution_count": 16,
     "metadata": {},
     "output_type": "execute_result"
    }
   ],
   "source": [
    "# Check value counts of languages\n",
    "review['language'].value_counts().head(20)"
   ]
  },
  {
   "cell_type": "markdown",
   "id": "limited-farming",
   "metadata": {},
   "source": [
    "Most languages are written in English, followed by Chinese. Followed by Korean, Japanese, French and German."
   ]
  },
  {
   "cell_type": "code",
   "execution_count": 17,
   "id": "religious-hygiene",
   "metadata": {},
   "outputs": [
    {
     "data": {
      "text/plain": [
       "74                                                                              弾丸旅行のため､深夜に到着し､深夜に出発した我々を暖かく迎えてくれ､また送り出してくれました｡短期滞在で他の宿泊者との交流ができなかったのが残念です｡お世話になりました｡\n",
       "365                                                                                                                                                     Good location\n",
       "375      駅から歩いてすぐです｡駅前にはﾓｰﾙもたくさんあるし､空港までのｱｸｾｽも抜群です｡部屋はﾘﾋﾞﾝｸﾞに赤いｿﾌｧがあったりと､男友達の家に泊めてもらったような感じです｡ｵｰﾅｰのﾗｳﾙ氏も素敵な方です｡ﾁｪｯｸｱｳﾄ後も部屋に荷物を置かせていただき､ｺｲﾝﾛｯｶｰが少ないので夜のﾌﾗｲﾄまで大変助かりました｡\n",
       "382                                                                    立地はとてもいいです｡\\n布団のｼｰﾂなどは､洗っているのかが不明な匂いだったので､もっていた布類で覆って寝ました｡ｷｯﾁﾝはｵｰﾅｰの使用済みの食器などがおいてあり､清潔とはいえません｡\n",
       "485                      在这里住了7天,干净,卫生,安静｡房东非常友好,中文沟通无障碍,强烈推荐!\\nStayed here for 7 days, clean, hygienic and quiet. The landlord is very friendly. Highly recommended!\n",
       "                                                                                     ...                                                                             \n",
       "53249                                                                                                                                                               -\n",
       "53254                                                                                                                                                      Good value\n",
       "53291                                                                                                                                                               .\n",
       "53306                                                                                                                                                        Perfect!\n",
       "53315                                                                                                                                                               .\n",
       "Name: comments, Length: 728, dtype: object"
      ]
     },
     "execution_count": 17,
     "metadata": {},
     "output_type": "execute_result"
    }
   ],
   "source": [
    "review[review['language']=='ja']['comments']"
   ]
  },
  {
   "cell_type": "markdown",
   "id": "pharmaceutical-treasure",
   "metadata": {},
   "source": [
    "There are quite some reviews misclassified with the wrong languages:\n",
    "\n",
    "- english (en) as japanese (ja) as shown above\n",
    "\n",
    "This problem is inherent with other language detector packages as well. Main reason is because of the short length of sentences or mixed languages present inside any review."
   ]
  },
  {
   "cell_type": "markdown",
   "id": "furnished-credits",
   "metadata": {},
   "source": [
    "In order to get a consistent review, we will remove comments that are less than 10 words, except for chinese written reviews. This is because in chinese, sentences are written continuously without whitespace, which will only get recognized as length of '1'.\n",
    "\n",
    "We only want reviews that are more than 10 words because a good review should include enough detail to give others a feel for what happened or was experienced. "
   ]
  },
  {
   "cell_type": "code",
   "execution_count": 18,
   "id": "uniform-anchor",
   "metadata": {},
   "outputs": [
    {
     "data": {
      "text/html": [
       "<div>\n",
       "<style scoped>\n",
       "    .dataframe tbody tr th:only-of-type {\n",
       "        vertical-align: middle;\n",
       "    }\n",
       "\n",
       "    .dataframe tbody tr th {\n",
       "        vertical-align: top;\n",
       "    }\n",
       "\n",
       "    .dataframe thead th {\n",
       "        text-align: right;\n",
       "    }\n",
       "</style>\n",
       "<table border=\"1\" class=\"dataframe\">\n",
       "  <thead>\n",
       "    <tr style=\"text-align: right;\">\n",
       "      <th></th>\n",
       "      <th>listing_id</th>\n",
       "      <th>id</th>\n",
       "      <th>date</th>\n",
       "      <th>reviewer_id</th>\n",
       "      <th>reviewer_name</th>\n",
       "      <th>comments</th>\n",
       "      <th>length</th>\n",
       "      <th>language</th>\n",
       "    </tr>\n",
       "  </thead>\n",
       "  <tbody>\n",
       "    <tr>\n",
       "      <th>47</th>\n",
       "      <td>71609</td>\n",
       "      <td>49743263</td>\n",
       "      <td>2015-10-05</td>\n",
       "      <td>45520800</td>\n",
       "      <td>俊銘</td>\n",
       "      <td>預定兩間房六人入住兩天~一間房間有雙人床及單人床,另一間卻是雙人床和一壞掉床架在用釘上木板,兩間共用一個衛浴設備,跟房東反應卻推給菲傭說她搞不清楚狀況,明顯得再推卸責任,第二天一大早便退房不願意再繼續住宿,真是讓人失望.</td>\n",
       "      <td>1</td>\n",
       "      <td>zh</td>\n",
       "    </tr>\n",
       "    <tr>\n",
       "      <th>52</th>\n",
       "      <td>71609</td>\n",
       "      <td>506771460</td>\n",
       "      <td>2019-08-11</td>\n",
       "      <td>175659770</td>\n",
       "      <td>Chun Yan</td>\n",
       "      <td>出行方便,房东人非常好｡也很热情｡是个不错的选择</td>\n",
       "      <td>1</td>\n",
       "      <td>zh</td>\n",
       "    </tr>\n",
       "    <tr>\n",
       "      <th>75</th>\n",
       "      <td>71896</td>\n",
       "      <td>42917808</td>\n",
       "      <td>2015-08-16</td>\n",
       "      <td>38113704</td>\n",
       "      <td>Xiaohui</td>\n",
       "      <td>房间和描述的一样的,离机场很近,坐9路两站就到地铁,还满方便的｡这个房间与2号是共用卫生间的,清洁度不错,早餐是鸡蛋炒米粉,稍简单了些｡</td>\n",
       "      <td>1</td>\n",
       "      <td>zh</td>\n",
       "    </tr>\n",
       "    <tr>\n",
       "      <th>96</th>\n",
       "      <td>71903</td>\n",
       "      <td>42912798</td>\n",
       "      <td>2015-08-16</td>\n",
       "      <td>38113704</td>\n",
       "      <td>Xiaohui</td>\n",
       "      <td>房间和描述的一样的,离机场很近,坐9路两站就到地铁,还满方便的｡这个房间与3号是共用卫生间的,清洁度不错,早餐是鸡蛋炒米粉,稍简单了些｡</td>\n",
       "      <td>1</td>\n",
       "      <td>zh</td>\n",
       "    </tr>\n",
       "    <tr>\n",
       "      <th>97</th>\n",
       "      <td>71903</td>\n",
       "      <td>45702083</td>\n",
       "      <td>2015-09-05</td>\n",
       "      <td>41241807</td>\n",
       "      <td>Jian</td>\n",
       "      <td>房子坐落于simmei(四美)的排屋区｡房子很安静,房间整齐｡居住下来才知道房东太太是出租车司机,这一点大大的方便了前往机场的我们!居住很愉快,但也有两点遗憾:1､屋子不好找,若以后能配上地图就更好了;2､有蚊子｡</td>\n",
       "      <td>1</td>\n",
       "      <td>zh</td>\n",
       "    </tr>\n",
       "  </tbody>\n",
       "</table>\n",
       "</div>"
      ],
      "text/plain": [
       "    listing_id         id        date  reviewer_id reviewer_name  \\\n",
       "47       71609   49743263  2015-10-05     45520800            俊銘   \n",
       "52       71609  506771460  2019-08-11    175659770      Chun Yan   \n",
       "75       71896   42917808  2015-08-16     38113704       Xiaohui   \n",
       "96       71903   42912798  2015-08-16     38113704       Xiaohui   \n",
       "97       71903   45702083  2015-09-05     41241807          Jian   \n",
       "\n",
       "                                                                                                          comments  \\\n",
       "47  預定兩間房六人入住兩天~一間房間有雙人床及單人床,另一間卻是雙人床和一壞掉床架在用釘上木板,兩間共用一個衛浴設備,跟房東反應卻推給菲傭說她搞不清楚狀況,明顯得再推卸責任,第二天一大早便退房不願意再繼續住宿,真是讓人失望.   \n",
       "52                                                                                        出行方便,房东人非常好｡也很热情｡是个不错的选择   \n",
       "75                                            房间和描述的一样的,离机场很近,坐9路两站就到地铁,还满方便的｡这个房间与2号是共用卫生间的,清洁度不错,早餐是鸡蛋炒米粉,稍简单了些｡   \n",
       "96                                            房间和描述的一样的,离机场很近,坐9路两站就到地铁,还满方便的｡这个房间与3号是共用卫生间的,清洁度不错,早餐是鸡蛋炒米粉,稍简单了些｡   \n",
       "97     房子坐落于simmei(四美)的排屋区｡房子很安静,房间整齐｡居住下来才知道房东太太是出租车司机,这一点大大的方便了前往机场的我们!居住很愉快,但也有两点遗憾:1､屋子不好找,若以后能配上地图就更好了;2､有蚊子｡   \n",
       "\n",
       "    length language  \n",
       "47       1       zh  \n",
       "52       1       zh  \n",
       "75       1       zh  \n",
       "96       1       zh  \n",
       "97       1       zh  "
      ]
     },
     "execution_count": 18,
     "metadata": {},
     "output_type": "execute_result"
    }
   ],
   "source": [
    "# Example of reviews given in Chinese (length == 1)\n",
    "review[(review['length']<10) & (review['language']=='zh')].head()"
   ]
  },
  {
   "cell_type": "code",
   "execution_count": 19,
   "id": "wireless-ranking",
   "metadata": {},
   "outputs": [],
   "source": [
    "# tbd = to-be-dropped\n",
    "# Create a list of indexes of which length is less than 10 and not Chinese then drop them\n",
    "\n",
    "tbd = list(review[(review['length']<10) & (review['language']!='zh')].index)\n",
    "review = review.drop(tbd)"
   ]
  },
  {
   "cell_type": "markdown",
   "id": "identified-harvard",
   "metadata": {},
   "source": [
    "Next, is to translate the non-english comments into english to be processed the NER recognition model.\n",
    "\n",
    "For this task, we will use the GoogleTranslator API to perform translation."
   ]
  },
  {
   "cell_type": "code",
   "execution_count": 20,
   "id": "connected-green",
   "metadata": {},
   "outputs": [],
   "source": [
    "# Simple function to translate text to EN\n",
    "\n",
    "def trans(df):\n",
    "#    try:\n",
    "    if df['language'] != 'en':\n",
    "        translator = google_translator(url_suffix='sg', proxies=None)\n",
    "        translate_text = translator.translate(df['comments'],lang_tgt='en')\n",
    "        print(translate_text)\n",
    "        time.sleep(2)\n",
    "        return translate_text\n",
    "    else:\n",
    "        print(df['comments'])\n",
    "        return df['comments']\n",
    "#    except:\n",
    "#        print('fail')"
   ]
  },
  {
   "cell_type": "markdown",
   "id": "alternative-pantyhose",
   "metadata": {},
   "source": [
    "==============================================================================================  \n",
    "BELOW CODE IS COMMENTED OUT, BECAUSE IT WILL TAKE A FEW HOURS TO COMPLETE THE TRANSLATION DUE   \n",
    "API LIMIT PER HOUR. LIMIT IS AT 5000 PER HOUR.\n",
    "\n",
    "review['re_comments'] = review.apply(trans, axis=1)\n",
    "\n",
    "=============================================================================================="
   ]
  },
  {
   "cell_type": "code",
   "execution_count": 21,
   "id": "worldwide-transport",
   "metadata": {},
   "outputs": [],
   "source": [
    "# Since we skipped above code, we will just call out the saved csv\n",
    "review = pd.read_csv('../data/cleaned_review.csv')\n",
    "review = review.drop(columns=['nltk','spacy','spacy_retrain','lstm'])"
   ]
  },
  {
   "cell_type": "code",
   "execution_count": 22,
   "id": "nutritional-guinea",
   "metadata": {},
   "outputs": [
    {
     "data": {
      "text/html": [
       "<div>\n",
       "<style scoped>\n",
       "    .dataframe tbody tr th:only-of-type {\n",
       "        vertical-align: middle;\n",
       "    }\n",
       "\n",
       "    .dataframe tbody tr th {\n",
       "        vertical-align: top;\n",
       "    }\n",
       "\n",
       "    .dataframe thead th {\n",
       "        text-align: right;\n",
       "    }\n",
       "</style>\n",
       "<table border=\"1\" class=\"dataframe\">\n",
       "  <thead>\n",
       "    <tr style=\"text-align: right;\">\n",
       "      <th></th>\n",
       "      <th>listing_id</th>\n",
       "      <th>id</th>\n",
       "      <th>date</th>\n",
       "      <th>reviewer_id</th>\n",
       "      <th>reviewer_name</th>\n",
       "      <th>comments</th>\n",
       "      <th>length</th>\n",
       "      <th>language</th>\n",
       "      <th>re_comments</th>\n",
       "    </tr>\n",
       "  </thead>\n",
       "  <tbody>\n",
       "    <tr>\n",
       "      <th>15</th>\n",
       "      <td>50646</td>\n",
       "      <td>21279532</td>\n",
       "      <td>2014-10-14</td>\n",
       "      <td>18046573</td>\n",
       "      <td>Cora</td>\n",
       "      <td>Wir hatten ein paar tolle Tage bei Sujatha. Sie ist eine freundliche und nette Person, die stehts ihre Hilfe angeboten hat. Ihre Kinder sind ebenfalls nette und hiflsbereite Menschen. Die Unterkunft war im großen und ganzen sauber und schön. Insbesondere die große Poolanlage mit 25 Meter Bahn lädt zum Schwimmen ein. Vielen Dank für die schöne Zeit! Gruß Cora und Annika.</td>\n",
       "      <td>61</td>\n",
       "      <td>de</td>\n",
       "      <td>We had a few great days at Sujatha. She is a friendly and nice person who has offered your help stands. Her children are also nice and hi-lins-ready people. The accommodation was on the whole clean and beautiful. Especially the large pool area with 25 meters of train invites you to swim. Thank you for the wonderful time! Greeting Cora and Annika.</td>\n",
       "    </tr>\n",
       "    <tr>\n",
       "      <th>44</th>\n",
       "      <td>71609</td>\n",
       "      <td>49743263</td>\n",
       "      <td>2015-10-05</td>\n",
       "      <td>45520800</td>\n",
       "      <td>俊銘</td>\n",
       "      <td>預定兩間房六人入住兩天~一間房間有雙人床及單人床,另一間卻是雙人床和一壞掉床架在用釘上木板,兩間共用一個衛浴設備,跟房東反應卻推給菲傭說她搞不清楚狀況,明顯得再推卸責任,第二天一大早便退房不願意再繼續住宿,真是讓人失望.</td>\n",
       "      <td>1</td>\n",
       "      <td>zh</td>\n",
       "      <td>Book two rooms and six people stay for two days ~ one room has double beds and single beds, and the other is double bed and a broken bed frame in the wooden board with nail, two bathrooms, and the landlord response However, it is pushed to the Philippine Aviator, she is unclear, and she is obvious to shirk responsibility. After the next morning, she is not willing to continue to stay again, it is really disappointing.</td>\n",
       "    </tr>\n",
       "    <tr>\n",
       "      <th>47</th>\n",
       "      <td>71609</td>\n",
       "      <td>506771460</td>\n",
       "      <td>2019-08-11</td>\n",
       "      <td>175659770</td>\n",
       "      <td>Chun Yan</td>\n",
       "      <td>出行方便,房东人非常好｡也很热情｡是个不错的选择</td>\n",
       "      <td>1</td>\n",
       "      <td>zh</td>\n",
       "      <td>It is convenient to travel, the landlord is very good. It is also very enthusiastic. It is a good choice.</td>\n",
       "    </tr>\n",
       "    <tr>\n",
       "      <th>67</th>\n",
       "      <td>71896</td>\n",
       "      <td>42917808</td>\n",
       "      <td>2015-08-16</td>\n",
       "      <td>38113704</td>\n",
       "      <td>Xiaohui</td>\n",
       "      <td>房间和描述的一样的,离机场很近,坐9路两站就到地铁,还满方便的｡这个房间与2号是共用卫生间的,清洁度不错,早餐是鸡蛋炒米粉,稍简单了些｡</td>\n",
       "      <td>1</td>\n",
       "      <td>zh</td>\n",
       "      <td>The rooms are the same, close to the airport, sitting on the 9-way station to go to the subway, is still convenient. This room and the No. 2 are shared toilet, the cleanliness is good, the breakfast is the egg fried rice noodles, slightly simple .</td>\n",
       "    </tr>\n",
       "    <tr>\n",
       "      <th>87</th>\n",
       "      <td>71903</td>\n",
       "      <td>42912798</td>\n",
       "      <td>2015-08-16</td>\n",
       "      <td>38113704</td>\n",
       "      <td>Xiaohui</td>\n",
       "      <td>房间和描述的一样的,离机场很近,坐9路两站就到地铁,还满方便的｡这个房间与3号是共用卫生间的,清洁度不错,早餐是鸡蛋炒米粉,稍简单了些｡</td>\n",
       "      <td>1</td>\n",
       "      <td>zh</td>\n",
       "      <td>The rooms are the same, close to the airport, sitting on the 9-way station to go to the subway, is still convenient. This room is shared with the 3rd, the cleanliness is good, the breakfast is a fried rice noodle, slightly simple .</td>\n",
       "    </tr>\n",
       "  </tbody>\n",
       "</table>\n",
       "</div>"
      ],
      "text/plain": [
       "    listing_id         id        date  reviewer_id reviewer_name  \\\n",
       "15       50646   21279532  2014-10-14     18046573          Cora   \n",
       "44       71609   49743263  2015-10-05     45520800            俊銘   \n",
       "47       71609  506771460  2019-08-11    175659770      Chun Yan   \n",
       "67       71896   42917808  2015-08-16     38113704       Xiaohui   \n",
       "87       71903   42912798  2015-08-16     38113704       Xiaohui   \n",
       "\n",
       "                                                                                                                                                                                                                                                                                                                                                                                comments  \\\n",
       "15  Wir hatten ein paar tolle Tage bei Sujatha. Sie ist eine freundliche und nette Person, die stehts ihre Hilfe angeboten hat. Ihre Kinder sind ebenfalls nette und hiflsbereite Menschen. Die Unterkunft war im großen und ganzen sauber und schön. Insbesondere die große Poolanlage mit 25 Meter Bahn lädt zum Schwimmen ein. Vielen Dank für die schöne Zeit! Gruß Cora und Annika.   \n",
       "44                                                                                                                                                                                                                                                                        預定兩間房六人入住兩天~一間房間有雙人床及單人床,另一間卻是雙人床和一壞掉床架在用釘上木板,兩間共用一個衛浴設備,跟房東反應卻推給菲傭說她搞不清楚狀況,明顯得再推卸責任,第二天一大早便退房不願意再繼續住宿,真是讓人失望.   \n",
       "47                                                                                                                                                                                                                                                                                                                                                              出行方便,房东人非常好｡也很热情｡是个不错的选择   \n",
       "67                                                                                                                                                                                                                                                                                                                  房间和描述的一样的,离机场很近,坐9路两站就到地铁,还满方便的｡这个房间与2号是共用卫生间的,清洁度不错,早餐是鸡蛋炒米粉,稍简单了些｡   \n",
       "87                                                                                                                                                                                                                                                                                                                  房间和描述的一样的,离机场很近,坐9路两站就到地铁,还满方便的｡这个房间与3号是共用卫生间的,清洁度不错,早餐是鸡蛋炒米粉,稍简单了些｡   \n",
       "\n",
       "    length language  \\\n",
       "15      61       de   \n",
       "44       1       zh   \n",
       "47       1       zh   \n",
       "67       1       zh   \n",
       "87       1       zh   \n",
       "\n",
       "                                                                                                                                                                                                                                                                                                                                                                                                                               re_comments  \n",
       "15                                                                           We had a few great days at Sujatha. She is a friendly and nice person who has offered your help stands. Her children are also nice and hi-lins-ready people. The accommodation was on the whole clean and beautiful. Especially the large pool area with 25 meters of train invites you to swim. Thank you for the wonderful time! Greeting Cora and Annika.   \n",
       "44  Book two rooms and six people stay for two days ~ one room has double beds and single beds, and the other is double bed and a broken bed frame in the wooden board with nail, two bathrooms, and the landlord response However, it is pushed to the Philippine Aviator, she is unclear, and she is obvious to shirk responsibility. After the next morning, she is not willing to continue to stay again, it is really disappointing.   \n",
       "47                                                                                                                                                                                                                                                                                                                              It is convenient to travel, the landlord is very good. It is also very enthusiastic. It is a good choice.   \n",
       "67                                                                                                                                                                                The rooms are the same, close to the airport, sitting on the 9-way station to go to the subway, is still convenient. This room and the No. 2 are shared toilet, the cleanliness is good, the breakfast is the egg fried rice noodles, slightly simple .   \n",
       "87                                                                                                                                                                                                The rooms are the same, close to the airport, sitting on the 9-way station to go to the subway, is still convenient. This room is shared with the 3rd, the cleanliness is good, the breakfast is a fried rice noodle, slightly simple .   "
      ]
     },
     "execution_count": 22,
     "metadata": {},
     "output_type": "execute_result"
    }
   ],
   "source": [
    "# Check the first few converted reviews using GoogleTranslator\n",
    "review[review['language']!='en'].head()"
   ]
  },
  {
   "cell_type": "markdown",
   "id": "worst-wrestling",
   "metadata": {},
   "source": [
    "Overall, the translated reviews are quite good and readable. However, we do see some context lost, as noticed by the review translated from German (de). \n",
    "\n",
    "---> 'Her children are also nice and hi-lins-ready people' \n",
    "There is no such word for 'hilins-ready'\n",
    "\n",
    "The translator is not perfect, but for this task, we will deem is as more than enough."
   ]
  },
  {
   "cell_type": "markdown",
   "id": "determined-digit",
   "metadata": {},
   "source": [
    "## EDA"
   ]
  },
  {
   "cell_type": "code",
   "execution_count": 23,
   "id": "returning-tender",
   "metadata": {},
   "outputs": [],
   "source": [
    "# Dictionary of English contractions\n",
    "# Expand the words in reviews\n",
    "\n",
    "contractions_dict = { \"ain't\": \"are not\",\"'s\":\" is\",\"aren't\": \"are not\",\n",
    "                     \"can't\": \"cannot\",\"can't've\": \"cannot have\",\n",
    "                     \"'cause\": \"because\",\"could've\": \"could have\",\"couldn't\": \"could not\",\n",
    "                     \"couldn't've\": \"could not have\", \"didn't\": \"did not\",\"doesn't\": \"does not\",\n",
    "                     \"don't\": \"do not\",\"hadn't\": \"had not\",\"hadn't've\": \"had not have\",\n",
    "                     \"hasn't\": \"has not\",\"haven't\": \"have not\",\"he'd\": \"he would\",\n",
    "                     \"he'd've\": \"he would have\",\"he'll\": \"he will\", \"he'll've\": \"he will have\",\n",
    "                     \"how'd\": \"how did\",\"how'd'y\": \"how do you\",\"how'll\": \"how will\",\n",
    "                     \"I'd\": \"I would\", \"I'd've\": \"I would have\",\"I'll\": \"I will\",\n",
    "                     \"I'll've\": \"I will have\",\"I'm\": \"I am\",\"I've\": \"I have\", \"isn't\": \"is not\",\n",
    "                     \"it'd\": \"it would\",\"it'd've\": \"it would have\",\"it'll\": \"it will\",\n",
    "                     \"it'll've\": \"it will have\", \"let's\": \"let us\",\"ma'am\": \"madam\",\n",
    "                     \"mayn't\": \"may not\",\"might've\": \"might have\",\"mightn't\": \"might not\", \n",
    "                     \"mightn't've\": \"might not have\",\"must've\": \"must have\",\"mustn't\": \"must not\",\n",
    "                     \"mustn't've\": \"must not have\", \"needn't\": \"need not\",\n",
    "                     \"needn't've\": \"need not have\",\"o'clock\": \"of the clock\",\"oughtn't\": \"ought not\",\n",
    "                     \"oughtn't've\": \"ought not have\",\"shan't\": \"shall not\",\"sha'n't\": \"shall not\",\n",
    "                     \"shan't've\": \"shall not have\",\"she'd\": \"she would\",\"she'd've\": \"she would have\",\n",
    "                     \"she'll\": \"she will\", \"she'll've\": \"she will have\",\"should've\": \"should have\",\n",
    "                     \"shouldn't\": \"should not\", \"shouldn't've\": \"should not have\",\"so've\": \"so have\",\n",
    "                     \"that'd\": \"that would\",\"that'd've\": \"that would have\", \"there'd\": \"there would\",\n",
    "                     \"there'd've\": \"there would have\", \"they'd\": \"they would\",\n",
    "                     \"they'd've\": \"they would have\",\"they'll\": \"they will\",\n",
    "                     \"they'll've\": \"they will have\", \"they're\": \"they are\",\"they've\": \"they have\",\n",
    "                     \"to've\": \"to have\",\"wasn't\": \"was not\",\"we'd\": \"we would\",\n",
    "                     \"we'd've\": \"we would have\",\"we'll\": \"we will\",\"we'll've\": \"we will have\",\n",
    "                     \"we're\": \"we are\",\"we've\": \"we have\", \"weren't\": \"were not\",\"what'll\": \"what will\",\n",
    "                     \"what'll've\": \"what will have\",\"what're\": \"what are\", \"what've\": \"what have\",\n",
    "                     \"when've\": \"when have\",\"where'd\": \"where did\", \"where've\": \"where have\",\n",
    "                     \"who'll\": \"who will\",\"who'll've\": \"who will have\",\"who've\": \"who have\",\n",
    "                     \"why've\": \"why have\",\"will've\": \"will have\",\"won't\": \"will not\",\n",
    "                     \"won't've\": \"will not have\", \"would've\": \"would have\",\"wouldn't\": \"would not\",\n",
    "                     \"wouldn't've\": \"would not have\",\"y'all\": \"you all\", \"y'all'd\": \"you all would\",\n",
    "                     \"y'all'd've\": \"you all would have\",\"y'all're\": \"you all are\",\n",
    "                     \"y'all've\": \"you all have\", \"you'd\": \"you would\",\"you'd've\": \"you would have\",\n",
    "                     \"you'll\": \"you will\",\"you'll've\": \"you will have\", \"you're\": \"you are\",\n",
    "                     \"you've\": \"you have\"}\n",
    "\n",
    "# Regular expression for finding contractions\n",
    "contractions_re=re.compile('(%s)' % '|'.join(contractions_dict.keys()))\n",
    "\n",
    "# Replace contractions with full words\n",
    "def expand_contractions(text,contractions_dict=contractions_dict):\n",
    "    def replace(match):\n",
    "        return contractions_dict[match.group(0)]\n",
    "    return contractions_re.sub(replace, text)"
   ]
  },
  {
   "cell_type": "code",
   "execution_count": 24,
   "id": "primary-marathon",
   "metadata": {},
   "outputs": [],
   "source": [
    "# Pre-process the reviews so that we can analyse the words\n",
    "\n",
    "def review_to_words(raw_review):\n",
    "    \n",
    "    # 1. Remove HTML.\n",
    "    review_text = BeautifulSoup(raw_review).get_text()\n",
    "    \n",
    "    # 2. Remove word contractions\n",
    "    review_text = expand_contractions(review_text)\n",
    "    \n",
    "    # 3 Remove HTTPS://\n",
    "    review_text = re.sub(r'\\w+:\\/{2}[\\d\\w-]+(\\.[\\d\\w-]+)*(?:(?:\\/[^\\s/]*))*', '',review_text)\n",
    "    \n",
    "    # 4. Remove non-letters.\n",
    "    letters_only = re.sub(\"[^a-zA-Z]\", \" \", review_text)\n",
    "    \n",
    "    # 5. Convert to lower case, split into individual words.\n",
    "    words = letters_only.lower().split()\n",
    "    \n",
    "    # 6. In Python, searching a set is much faster than searching\n",
    "    # a list, so convert the stopwords to a set.\n",
    "    stops = set(stopwords.words('english'))\n",
    "    \n",
    "    # 7. Remove stopwords.\n",
    "    meaningful_words = [w for w in words if w not in stops]\n",
    "    \n",
    "    # 8. Lemmatize each word\n",
    "    lemmatizer = WordNetLemmatizer()\n",
    "    meaningful_words = [lemmatizer.lemmatize(w) for w in meaningful_words]  #Noun\n",
    "    meaningful_words = [lemmatizer.lemmatize(w, wordnet.VERB) for w in meaningful_words]  #Verb\n",
    "    meaningful_words = [lemmatizer.lemmatize(w, wordnet.ADJ) for w in meaningful_words]  #Adjective\n",
    "    meaningful_words = [lemmatizer.lemmatize(w, wordnet.ADV) for w in meaningful_words]  #Adverb\n",
    "    \n",
    "    # 9. Join the words back into one string separated by space, \n",
    "    # and return the result.\n",
    "    return(\" \".join(meaningful_words))"
   ]
  },
  {
   "cell_type": "code",
   "execution_count": 25,
   "id": "infectious-austria",
   "metadata": {},
   "outputs": [],
   "source": [
    "# Run function to remove stopwords, lemmatize, etc.\n",
    "features = [review_to_words(s) for s in review['re_comments']]"
   ]
  },
  {
   "cell_type": "code",
   "execution_count": 26,
   "id": "brave-oxygen",
   "metadata": {},
   "outputs": [
    {
     "data": {
      "text/plain": [
       "'fran absolutely gracious welcome make stay great experience would definitely recommend cozy peaceful place anyone'"
      ]
     },
     "execution_count": 26,
     "metadata": {},
     "output_type": "execute_result"
    }
   ],
   "source": [
    "# Check processed review [0]\n",
    "features[0]"
   ]
  },
  {
   "cell_type": "code",
   "execution_count": 27,
   "id": "tight-programming",
   "metadata": {},
   "outputs": [
    {
     "data": {
      "text/plain": [
       "'paul provide incorrect date availability put spot last minute even will accommodate request stay even though advertise bad experience avoid'"
      ]
     },
     "execution_count": 27,
     "metadata": {},
     "output_type": "execute_result"
    }
   ],
   "source": [
    "# Check processed review [1000]\n",
    "features[1000]"
   ]
  },
  {
   "cell_type": "code",
   "execution_count": 28,
   "id": "living-honolulu",
   "metadata": {},
   "outputs": [],
   "source": [
    "# Instantiate a CountVectorizer.\n",
    "cvec = CountVectorizer()\n",
    "\n",
    "# Fit the vectorizer on our corpus.\n",
    "cvec.fit(features)\n",
    "\n",
    "# Transform the corpus.\n",
    "features_cvec = cvec.transform(features)\n",
    "\n",
    "# Convert into DF\n",
    "lf_df = pd.DataFrame(features_cvec.toarray(), columns=cvec.get_feature_names())"
   ]
  },
  {
   "cell_type": "code",
   "execution_count": 29,
   "id": "velvet-extraction",
   "metadata": {},
   "outputs": [],
   "source": [
    "# Create a list of top30 single words\n",
    "list1 = lf_df.sum().sort_values(ascending=False).head(30)"
   ]
  },
  {
   "cell_type": "code",
   "execution_count": 30,
   "id": "starting-observer",
   "metadata": {},
   "outputs": [
    {
     "data": {
      "image/png": "[encoded data removed]",
      "text/plain": [
       "<Figure size 1440x720 with 1 Axes>"
      ]
     },
     "metadata": {
      "needs_background": "light"
     },
     "output_type": "display_data"
    }
   ],
   "source": [
    "# Plot the top30 single words\n",
    "plt.figure(figsize=(20,10))\n",
    "plt.title('top30 single words',fontsize=25)\n",
    "plt.xlabel('frequency (%)',fontsize=20)\n",
    "plt.ylabel('top words',fontsize=20)\n",
    "plt.tick_params(labelsize=15)\n",
    "\n",
    "sns.barplot(x=list1.values,y=list1.index);"
   ]
  },
  {
   "cell_type": "markdown",
   "id": "executive-biotechnology",
   "metadata": {},
   "source": [
    "**Only 1 location entity ('singapore') in our top words!**"
   ]
  },
  {
   "cell_type": "code",
   "execution_count": 31,
   "id": "statutory-developer",
   "metadata": {},
   "outputs": [],
   "source": [
    "# Check for top words\n",
    "# Check for n-gram \n",
    "\n",
    "def get_top_ngram(corpus, n=None):\n",
    "    vec = CountVectorizer(ngram_range=(n, n)).fit(corpus)\n",
    "    bag_of_words = vec.transform(corpus)\n",
    "    sum_words = bag_of_words.sum(axis=0) \n",
    "    words_freq = [(word, sum_words[0, idx]) \n",
    "                  for word, idx in vec.vocabulary_.items()]\n",
    "    words_freq =sorted(words_freq, key = lambda x: x[1], reverse=True)\n",
    "    return words_freq[:30]"
   ]
  },
  {
   "cell_type": "code",
   "execution_count": 32,
   "id": "together-cowboy",
   "metadata": {},
   "outputs": [
    {
     "data": {
      "image/png": "[encoded data removed]",
      "text/plain": [
       "<Figure size 1440x720 with 1 Axes>"
      ]
     },
     "metadata": {
      "needs_background": "light"
     },
     "output_type": "display_data"
    }
   ],
   "source": [
    "# Plot the top30 2-gram words in reviews\n",
    "plt.figure(figsize=(20,10))\n",
    "plt.title('top30 2-gram words',fontsize=25)\n",
    "plt.xlabel('frequency (%)',fontsize=20)\n",
    "plt.ylabel('n-gram word',fontsize=20)\n",
    "plt.tick_params(labelsize=15)\n",
    "\n",
    "top_tri_grams=get_top_ngram(features,n=2)\n",
    "x,y=map(list,zip(*top_tri_grams))\n",
    "sns.barplot(x=y,y=x);"
   ]
  },
  {
   "cell_type": "markdown",
   "id": "cosmetic-purchase",
   "metadata": {},
   "source": [
    "Do not see any words that are of our interest. Example - (Tiong Bahru, Orchard Road, Sentosa Beach..)"
   ]
  },
  {
   "cell_type": "markdown",
   "id": "herbal-landscape",
   "metadata": {},
   "source": [
    "## Named Entity Recognition"
   ]
  },
  {
   "cell_type": "markdown",
   "id": "located-place",
   "metadata": {},
   "source": [
    "Before we start running models, we need a way to compare between models.\n",
    "\n",
    "To see how well the models perform, we will create a list of local places that we can use to compare the performances from each model. ie; How many can each model recognize out of the views."
   ]
  },
  {
   "cell_type": "code",
   "execution_count": 33,
   "id": "english-theme",
   "metadata": {},
   "outputs": [],
   "source": [
    "# List of local attractions\n",
    "\n",
    "# Based on https://en.wikipedia.org/wiki/List_of_tourist_attractions_in_Singapore\n",
    "# and https://www.stb.gov.sg/content/stb/en/home-pages/approved-attractions.html\n",
    "\n",
    "local_list = ['Marina Bay Sands','East Coast Park','Boat Quay','Clarke Quay',\n",
    "              'Arab Street','Little India','Bugis Junction','Tanjong Pagar','Tiong Bahru',\n",
    "              'Farrer Park','Holland Village','Jalan Besar']"
   ]
  },
  {
   "cell_type": "code",
   "execution_count": 34,
   "id": "irish-wedding",
   "metadata": {},
   "outputs": [],
   "source": [
    "# Create a df - count of entities recognized\n",
    "count = pd.DataFrame()\n",
    "count['place'] = local_list\n",
    "\n",
    "# Sweep through the review csv if review contains interested place\n",
    "count['count'] = [len(review[review['re_comments'].str.contains(local)]) for local in local_list]"
   ]
  },
  {
   "cell_type": "markdown",
   "id": "numerous-elements",
   "metadata": {},
   "source": [
    "We will refrain from using certain words such as 'Chinatown' or 'Orchard' because it is quite difficult to ascertain accurately if the review contains 'Chinatown' or 'Chinatown Point' or 'Chinatown Complex'.   \n",
    "Hence, we picked words that will most probably not have an extension to the words."
   ]
  },
  {
   "cell_type": "markdown",
   "id": "mexican-effect",
   "metadata": {},
   "source": [
    "### NLTK\n",
    "\n",
    "Identify named entities (NE) using NLTK model.  \n",
    "Natural Language Toolkit [NLTK](https://www.nltk.org) is a leading platform for building Python programs to work with human language data. "
   ]
  },
  {
   "cell_type": "code",
   "execution_count": 35,
   "id": "australian-newton",
   "metadata": {},
   "outputs": [],
   "source": [
    "# Simple function to use NLTK model to extract entities\n",
    "def nltk_ne(text):\n",
    "\n",
    "    entities = []\n",
    "\n",
    "    sentence = nltk.sent_tokenize(text)\n",
    "    for sent in sentence:\n",
    "        for chunk in nltk.ne_chunk(nltk.pos_tag(nltk.word_tokenize(sent)), binary=False):\n",
    "            if hasattr(chunk, 'label'):\n",
    "                entities.append(' '.join(c[0] for c in chunk))\n",
    "\n",
    "    entities_labels = list(set(entities))\n",
    "    return entities_labels"
   ]
  },
  {
   "cell_type": "code",
   "execution_count": 36,
   "id": "sunset-ozone",
   "metadata": {},
   "outputs": [],
   "source": [
    "# Run the function through comments column and add entities to 'nltk' column in csv file\n",
    "review['nltk'] = [nltk_ne(review) for review in review['re_comments']]"
   ]
  },
  {
   "cell_type": "code",
   "execution_count": 38,
   "id": "adult-summit",
   "metadata": {},
   "outputs": [
    {
     "data": {
      "text/html": [
       "<div>\n",
       "<style scoped>\n",
       "    .dataframe tbody tr th:only-of-type {\n",
       "        vertical-align: middle;\n",
       "    }\n",
       "\n",
       "    .dataframe tbody tr th {\n",
       "        vertical-align: top;\n",
       "    }\n",
       "\n",
       "    .dataframe thead th {\n",
       "        text-align: right;\n",
       "    }\n",
       "</style>\n",
       "<table border=\"1\" class=\"dataframe\">\n",
       "  <thead>\n",
       "    <tr style=\"text-align: right;\">\n",
       "      <th></th>\n",
       "      <th>listing_id</th>\n",
       "      <th>id</th>\n",
       "      <th>date</th>\n",
       "      <th>reviewer_id</th>\n",
       "      <th>reviewer_name</th>\n",
       "      <th>comments</th>\n",
       "      <th>length</th>\n",
       "      <th>language</th>\n",
       "      <th>re_comments</th>\n",
       "      <th>nltk</th>\n",
       "    </tr>\n",
       "  </thead>\n",
       "  <tbody>\n",
       "    <tr>\n",
       "      <th>0</th>\n",
       "      <td>49091</td>\n",
       "      <td>8243238</td>\n",
       "      <td>2013-10-21</td>\n",
       "      <td>8557223</td>\n",
       "      <td>Jared</td>\n",
       "      <td>Fran was absolutely gracious and welcoming. Made my stay a great experience. Would definitely recommend this cozy and peaceful place to anyone.</td>\n",
       "      <td>22</td>\n",
       "      <td>en</td>\n",
       "      <td>Fran was absolutely gracious and welcoming. Made my stay a great experience. Would definitely recommend this cozy and peaceful place to anyone.</td>\n",
       "      <td>[Fran]</td>\n",
       "    </tr>\n",
       "    <tr>\n",
       "      <th>1</th>\n",
       "      <td>50646</td>\n",
       "      <td>11909864</td>\n",
       "      <td>2014-04-18</td>\n",
       "      <td>1356099</td>\n",
       "      <td>James</td>\n",
       "      <td>A comfortable room in a smart condo development. Everything was kept very clean and I had the use of my own bathroom. Sujatha and her husband are great hosts - very friendly and accommodating. I'll be staying here again.</td>\n",
       "      <td>39</td>\n",
       "      <td>en</td>\n",
       "      <td>A comfortable room in a smart condo development. Everything was kept very clean and I had the use of my own bathroom. Sujatha and her husband are great hosts - very friendly and accommodating. I'll be staying here again.</td>\n",
       "      <td>[Sujatha]</td>\n",
       "    </tr>\n",
       "  </tbody>\n",
       "</table>\n",
       "</div>"
      ],
      "text/plain": [
       "   listing_id        id        date  reviewer_id reviewer_name  \\\n",
       "0       49091   8243238  2013-10-21      8557223         Jared   \n",
       "1       50646  11909864  2014-04-18      1356099         James   \n",
       "\n",
       "                                                                                                                                                                                                                       comments  \\\n",
       "0                                                                               Fran was absolutely gracious and welcoming. Made my stay a great experience. Would definitely recommend this cozy and peaceful place to anyone.   \n",
       "1  A comfortable room in a smart condo development. Everything was kept very clean and I had the use of my own bathroom. Sujatha and her husband are great hosts - very friendly and accommodating. I'll be staying here again.   \n",
       "\n",
       "   length language  \\\n",
       "0      22       en   \n",
       "1      39       en   \n",
       "\n",
       "                                                                                                                                                                                                                    re_comments  \\\n",
       "0                                                                               Fran was absolutely gracious and welcoming. Made my stay a great experience. Would definitely recommend this cozy and peaceful place to anyone.   \n",
       "1  A comfortable room in a smart condo development. Everything was kept very clean and I had the use of my own bathroom. Sujatha and her husband are great hosts - very friendly and accommodating. I'll be staying here again.   \n",
       "\n",
       "        nltk  \n",
       "0     [Fran]  \n",
       "1  [Sujatha]  "
      ]
     },
     "execution_count": 38,
     "metadata": {},
     "output_type": "execute_result"
    }
   ],
   "source": [
    "# Check df\n",
    "review.head(2)"
   ]
  },
  {
   "cell_type": "code",
   "execution_count": 39,
   "id": "artistic-arctic",
   "metadata": {},
   "outputs": [],
   "source": [
    "# *.explode un-nests the words inside list of entities recognized\n",
    "# Creates a list of entities and counts of entities\n",
    "\n",
    "nltk_list = review.explode('nltk')['nltk'].value_counts()"
   ]
  },
  {
   "cell_type": "code",
   "execution_count": 40,
   "id": "silver-private",
   "metadata": {},
   "outputs": [],
   "source": [
    "# Create temporary df to get count of entities obtained by NLTK model\n",
    "\n",
    "nltk_df = pd.DataFrame()\n",
    "nltk_df['place'] = nltk_list.index\n",
    "nltk_df['nltk_count'] = nltk_list.values"
   ]
  },
  {
   "cell_type": "code",
   "execution_count": 41,
   "id": "premium-james",
   "metadata": {},
   "outputs": [
    {
     "data": {
      "text/html": [
       "<div>\n",
       "<style scoped>\n",
       "    .dataframe tbody tr th:only-of-type {\n",
       "        vertical-align: middle;\n",
       "    }\n",
       "\n",
       "    .dataframe tbody tr th {\n",
       "        vertical-align: top;\n",
       "    }\n",
       "\n",
       "    .dataframe thead th {\n",
       "        text-align: right;\n",
       "    }\n",
       "</style>\n",
       "<table border=\"1\" class=\"dataframe\">\n",
       "  <thead>\n",
       "    <tr style=\"text-align: right;\">\n",
       "      <th></th>\n",
       "      <th>place</th>\n",
       "      <th>nltk_count</th>\n",
       "    </tr>\n",
       "  </thead>\n",
       "  <tbody>\n",
       "    <tr>\n",
       "      <th>0</th>\n",
       "      <td>Singapore</td>\n",
       "      <td>7926</td>\n",
       "    </tr>\n",
       "    <tr>\n",
       "      <th>1</th>\n",
       "      <td>MRT</td>\n",
       "      <td>5455</td>\n",
       "    </tr>\n",
       "    <tr>\n",
       "      <th>2</th>\n",
       "      <td>Great</td>\n",
       "      <td>4214</td>\n",
       "    </tr>\n",
       "    <tr>\n",
       "      <th>3</th>\n",
       "      <td>Good</td>\n",
       "      <td>1833</td>\n",
       "    </tr>\n",
       "    <tr>\n",
       "      <th>4</th>\n",
       "      <td>Location</td>\n",
       "      <td>1371</td>\n",
       "    </tr>\n",
       "    <tr>\n",
       "      <th>...</th>\n",
       "      <td>...</td>\n",
       "      <td>...</td>\n",
       "    </tr>\n",
       "    <tr>\n",
       "      <th>9123</th>\n",
       "      <td>Rome2Rio</td>\n",
       "      <td>1</td>\n",
       "    </tr>\n",
       "    <tr>\n",
       "      <th>9124</th>\n",
       "      <td>Zamzam</td>\n",
       "      <td>1</td>\n",
       "    </tr>\n",
       "    <tr>\n",
       "      <th>9125</th>\n",
       "      <td>Who May Concern</td>\n",
       "      <td>1</td>\n",
       "    </tr>\n",
       "    <tr>\n",
       "      <th>9126</th>\n",
       "      <td>Heat</td>\n",
       "      <td>1</td>\n",
       "    </tr>\n",
       "    <tr>\n",
       "      <th>9127</th>\n",
       "      <td>Sentosa Express</td>\n",
       "      <td>1</td>\n",
       "    </tr>\n",
       "  </tbody>\n",
       "</table>\n",
       "<p>9128 rows × 2 columns</p>\n",
       "</div>"
      ],
      "text/plain": [
       "                place  nltk_count\n",
       "0           Singapore        7926\n",
       "1                 MRT        5455\n",
       "2               Great        4214\n",
       "3                Good        1833\n",
       "4            Location        1371\n",
       "...               ...         ...\n",
       "9123         Rome2Rio           1\n",
       "9124           Zamzam           1\n",
       "9125  Who May Concern           1\n",
       "9126             Heat           1\n",
       "9127  Sentosa Express           1\n",
       "\n",
       "[9128 rows x 2 columns]"
      ]
     },
     "execution_count": 41,
     "metadata": {},
     "output_type": "execute_result"
    }
   ],
   "source": [
    "# Check df\n",
    "nltk_df"
   ]
  },
  {
   "cell_type": "code",
   "execution_count": 42,
   "id": "distributed-tuesday",
   "metadata": {},
   "outputs": [],
   "source": [
    "# Compare NE's recognized from NLTK to true count\n",
    "count = count.merge(nltk_df, how='left', on='place')\n",
    "\n",
    "count.fillna(0, inplace=True)\n",
    "count['nltk_count'] = count['nltk_count'].map(lambda x: int(x))"
   ]
  },
  {
   "cell_type": "code",
   "execution_count": 43,
   "id": "promotional-procurement",
   "metadata": {},
   "outputs": [
    {
     "data": {
      "text/html": [
       "<div>\n",
       "<style scoped>\n",
       "    .dataframe tbody tr th:only-of-type {\n",
       "        vertical-align: middle;\n",
       "    }\n",
       "\n",
       "    .dataframe tbody tr th {\n",
       "        vertical-align: top;\n",
       "    }\n",
       "\n",
       "    .dataframe thead th {\n",
       "        text-align: right;\n",
       "    }\n",
       "</style>\n",
       "<table border=\"1\" class=\"dataframe\">\n",
       "  <thead>\n",
       "    <tr style=\"text-align: right;\">\n",
       "      <th></th>\n",
       "      <th>place</th>\n",
       "      <th>count</th>\n",
       "      <th>nltk_count</th>\n",
       "    </tr>\n",
       "  </thead>\n",
       "  <tbody>\n",
       "    <tr>\n",
       "      <th>5</th>\n",
       "      <td>Little India</td>\n",
       "      <td>517</td>\n",
       "      <td>374</td>\n",
       "    </tr>\n",
       "    <tr>\n",
       "      <th>3</th>\n",
       "      <td>Clarke Quay</td>\n",
       "      <td>192</td>\n",
       "      <td>170</td>\n",
       "    </tr>\n",
       "    <tr>\n",
       "      <th>9</th>\n",
       "      <td>Farrer Park</td>\n",
       "      <td>135</td>\n",
       "      <td>91</td>\n",
       "    </tr>\n",
       "    <tr>\n",
       "      <th>8</th>\n",
       "      <td>Tiong Bahru</td>\n",
       "      <td>111</td>\n",
       "      <td>77</td>\n",
       "    </tr>\n",
       "    <tr>\n",
       "      <th>0</th>\n",
       "      <td>Marina Bay Sands</td>\n",
       "      <td>86</td>\n",
       "      <td>72</td>\n",
       "    </tr>\n",
       "    <tr>\n",
       "      <th>11</th>\n",
       "      <td>Jalan Besar</td>\n",
       "      <td>91</td>\n",
       "      <td>62</td>\n",
       "    </tr>\n",
       "    <tr>\n",
       "      <th>6</th>\n",
       "      <td>Bugis Junction</td>\n",
       "      <td>50</td>\n",
       "      <td>46</td>\n",
       "    </tr>\n",
       "    <tr>\n",
       "      <th>2</th>\n",
       "      <td>Boat Quay</td>\n",
       "      <td>57</td>\n",
       "      <td>43</td>\n",
       "    </tr>\n",
       "    <tr>\n",
       "      <th>7</th>\n",
       "      <td>Tanjong Pagar</td>\n",
       "      <td>49</td>\n",
       "      <td>36</td>\n",
       "    </tr>\n",
       "    <tr>\n",
       "      <th>4</th>\n",
       "      <td>Arab Street</td>\n",
       "      <td>38</td>\n",
       "      <td>35</td>\n",
       "    </tr>\n",
       "    <tr>\n",
       "      <th>1</th>\n",
       "      <td>East Coast Park</td>\n",
       "      <td>54</td>\n",
       "      <td>25</td>\n",
       "    </tr>\n",
       "    <tr>\n",
       "      <th>10</th>\n",
       "      <td>Holland Village</td>\n",
       "      <td>55</td>\n",
       "      <td>25</td>\n",
       "    </tr>\n",
       "  </tbody>\n",
       "</table>\n",
       "</div>"
      ],
      "text/plain": [
       "               place  count  nltk_count\n",
       "5       Little India    517         374\n",
       "3        Clarke Quay    192         170\n",
       "9        Farrer Park    135          91\n",
       "8        Tiong Bahru    111          77\n",
       "0   Marina Bay Sands     86          72\n",
       "11       Jalan Besar     91          62\n",
       "6     Bugis Junction     50          46\n",
       "2          Boat Quay     57          43\n",
       "7      Tanjong Pagar     49          36\n",
       "4        Arab Street     38          35\n",
       "1    East Coast Park     54          25\n",
       "10   Holland Village     55          25"
      ]
     },
     "execution_count": 43,
     "metadata": {},
     "output_type": "execute_result"
    }
   ],
   "source": [
    "# Check df\n",
    "count.sort_values('nltk_count', ascending=False)"
   ]
  },
  {
   "cell_type": "markdown",
   "id": "expensive-inventory",
   "metadata": {},
   "source": [
    "The NLTK model numbers are poorer than the actual count, which is expected. However, we need to have more models to run any further evaluation."
   ]
  },
  {
   "cell_type": "markdown",
   "id": "robust-prince",
   "metadata": {},
   "source": [
    "### Pre-trained spaCy\n",
    "\n",
    "Identify named entities (NE) using spaCy model.  \n",
    "[spaCy](https://spacy.io/usage/spacy-101) is a free, open-source library for advanced Natural Language Processing (NLP) in Python. spaCy is designed specifically for production use and helps to build applications that process and “understand” large volumes of text."
   ]
  },
  {
   "cell_type": "code",
   "execution_count": 44,
   "id": "cutting-vacation",
   "metadata": {},
   "outputs": [],
   "source": [
    "# Load the trained pipeline and weights from spaCy\n",
    "nlp = spacy.load('en_core_web_md')"
   ]
  },
  {
   "cell_type": "code",
   "execution_count": 45,
   "id": "intellectual-organ",
   "metadata": {},
   "outputs": [],
   "source": [
    "# Simple function to use spaCy 'medium' base model to extract entities\n",
    "def spacy_ne(text):\n",
    "\n",
    "    doc = nlp(text)\n",
    "    entities = []\n",
    "    #labels = []\n",
    "\n",
    "    for ent in doc.ents:\n",
    "        entities.append(ent.text)\n",
    "        #labels.append(ent.label_)\n",
    "        \n",
    "    return list(set(entities))"
   ]
  },
  {
   "cell_type": "code",
   "execution_count": 46,
   "id": "looking-graduate",
   "metadata": {},
   "outputs": [],
   "source": [
    "# Run the function through comments column and add entities to 'spacy' column in csv file\n",
    "review['spacy'] = [spacy_ne(rev) for rev in review['re_comments']]"
   ]
  },
  {
   "cell_type": "code",
   "execution_count": 47,
   "id": "christian-clinton",
   "metadata": {},
   "outputs": [
    {
     "data": {
      "text/html": [
       "<div>\n",
       "<style scoped>\n",
       "    .dataframe tbody tr th:only-of-type {\n",
       "        vertical-align: middle;\n",
       "    }\n",
       "\n",
       "    .dataframe tbody tr th {\n",
       "        vertical-align: top;\n",
       "    }\n",
       "\n",
       "    .dataframe thead th {\n",
       "        text-align: right;\n",
       "    }\n",
       "</style>\n",
       "<table border=\"1\" class=\"dataframe\">\n",
       "  <thead>\n",
       "    <tr style=\"text-align: right;\">\n",
       "      <th></th>\n",
       "      <th>listing_id</th>\n",
       "      <th>id</th>\n",
       "      <th>date</th>\n",
       "      <th>reviewer_id</th>\n",
       "      <th>reviewer_name</th>\n",
       "      <th>comments</th>\n",
       "      <th>length</th>\n",
       "      <th>language</th>\n",
       "      <th>re_comments</th>\n",
       "      <th>nltk</th>\n",
       "      <th>spacy</th>\n",
       "    </tr>\n",
       "  </thead>\n",
       "  <tbody>\n",
       "    <tr>\n",
       "      <th>0</th>\n",
       "      <td>49091</td>\n",
       "      <td>8243238</td>\n",
       "      <td>2013-10-21</td>\n",
       "      <td>8557223</td>\n",
       "      <td>Jared</td>\n",
       "      <td>Fran was absolutely gracious and welcoming. Made my stay a great experience. Would definitely recommend this cozy and peaceful place to anyone.</td>\n",
       "      <td>22</td>\n",
       "      <td>en</td>\n",
       "      <td>Fran was absolutely gracious and welcoming. Made my stay a great experience. Would definitely recommend this cozy and peaceful place to anyone.</td>\n",
       "      <td>[Fran]</td>\n",
       "      <td>[Fran]</td>\n",
       "    </tr>\n",
       "  </tbody>\n",
       "</table>\n",
       "</div>"
      ],
      "text/plain": [
       "   listing_id       id        date  reviewer_id reviewer_name  \\\n",
       "0       49091  8243238  2013-10-21      8557223         Jared   \n",
       "\n",
       "                                                                                                                                          comments  \\\n",
       "0  Fran was absolutely gracious and welcoming. Made my stay a great experience. Would definitely recommend this cozy and peaceful place to anyone.   \n",
       "\n",
       "   length language  \\\n",
       "0      22       en   \n",
       "\n",
       "                                                                                                                                       re_comments  \\\n",
       "0  Fran was absolutely gracious and welcoming. Made my stay a great experience. Would definitely recommend this cozy and peaceful place to anyone.   \n",
       "\n",
       "     nltk   spacy  \n",
       "0  [Fran]  [Fran]  "
      ]
     },
     "execution_count": 47,
     "metadata": {},
     "output_type": "execute_result"
    }
   ],
   "source": [
    "# Check df\n",
    "review.head(1)"
   ]
  },
  {
   "cell_type": "code",
   "execution_count": 48,
   "id": "accessible-recommendation",
   "metadata": {},
   "outputs": [],
   "source": [
    "# *.explode un-nests the words inside list of entities recognized\n",
    "# Creates a list of entities and counts of entities\n",
    "spacy_list = review.explode('spacy')['spacy'].value_counts()\n",
    "\n",
    "# Create temporary df to get count of entities obtained by spacy model\n",
    "spacy_df = pd.DataFrame()\n",
    "spacy_df['place'] = spacy_list.index\n",
    "spacy_df['spacy_count'] = spacy_list.values"
   ]
  },
  {
   "cell_type": "code",
   "execution_count": 50,
   "id": "fabulous-poison",
   "metadata": {},
   "outputs": [],
   "source": [
    "# Compare NER's recognized from spaCy to true count\n",
    "count = count.merge(spacy_df, how='left', on='place')\n",
    "\n",
    "# For entities not recognized, change Null values to 0\n",
    "count.fillna(0, inplace=True)\n",
    "count['spacy_count'] = count['spacy_count'].map(lambda x: int(x))"
   ]
  },
  {
   "cell_type": "code",
   "execution_count": 51,
   "id": "outdoor-hygiene",
   "metadata": {},
   "outputs": [
    {
     "data": {
      "text/html": [
       "<div>\n",
       "<style scoped>\n",
       "    .dataframe tbody tr th:only-of-type {\n",
       "        vertical-align: middle;\n",
       "    }\n",
       "\n",
       "    .dataframe tbody tr th {\n",
       "        vertical-align: top;\n",
       "    }\n",
       "\n",
       "    .dataframe thead th {\n",
       "        text-align: right;\n",
       "    }\n",
       "</style>\n",
       "<table border=\"1\" class=\"dataframe\">\n",
       "  <thead>\n",
       "    <tr style=\"text-align: right;\">\n",
       "      <th></th>\n",
       "      <th>place</th>\n",
       "      <th>count</th>\n",
       "      <th>nltk_count</th>\n",
       "      <th>spacy_count</th>\n",
       "    </tr>\n",
       "  </thead>\n",
       "  <tbody>\n",
       "    <tr>\n",
       "      <th>0</th>\n",
       "      <td>Marina Bay Sands</td>\n",
       "      <td>86</td>\n",
       "      <td>72</td>\n",
       "      <td>60</td>\n",
       "    </tr>\n",
       "    <tr>\n",
       "      <th>1</th>\n",
       "      <td>East Coast Park</td>\n",
       "      <td>54</td>\n",
       "      <td>25</td>\n",
       "      <td>36</td>\n",
       "    </tr>\n",
       "    <tr>\n",
       "      <th>2</th>\n",
       "      <td>Boat Quay</td>\n",
       "      <td>57</td>\n",
       "      <td>43</td>\n",
       "      <td>41</td>\n",
       "    </tr>\n",
       "    <tr>\n",
       "      <th>3</th>\n",
       "      <td>Clarke Quay</td>\n",
       "      <td>192</td>\n",
       "      <td>170</td>\n",
       "      <td>162</td>\n",
       "    </tr>\n",
       "    <tr>\n",
       "      <th>4</th>\n",
       "      <td>Arab Street</td>\n",
       "      <td>38</td>\n",
       "      <td>35</td>\n",
       "      <td>2</td>\n",
       "    </tr>\n",
       "    <tr>\n",
       "      <th>5</th>\n",
       "      <td>Little India</td>\n",
       "      <td>517</td>\n",
       "      <td>374</td>\n",
       "      <td>391</td>\n",
       "    </tr>\n",
       "    <tr>\n",
       "      <th>6</th>\n",
       "      <td>Bugis Junction</td>\n",
       "      <td>50</td>\n",
       "      <td>46</td>\n",
       "      <td>44</td>\n",
       "    </tr>\n",
       "    <tr>\n",
       "      <th>7</th>\n",
       "      <td>Tanjong Pagar</td>\n",
       "      <td>49</td>\n",
       "      <td>36</td>\n",
       "      <td>31</td>\n",
       "    </tr>\n",
       "    <tr>\n",
       "      <th>8</th>\n",
       "      <td>Tiong Bahru</td>\n",
       "      <td>111</td>\n",
       "      <td>77</td>\n",
       "      <td>88</td>\n",
       "    </tr>\n",
       "    <tr>\n",
       "      <th>9</th>\n",
       "      <td>Farrer Park</td>\n",
       "      <td>135</td>\n",
       "      <td>91</td>\n",
       "      <td>79</td>\n",
       "    </tr>\n",
       "    <tr>\n",
       "      <th>10</th>\n",
       "      <td>Holland Village</td>\n",
       "      <td>55</td>\n",
       "      <td>25</td>\n",
       "      <td>47</td>\n",
       "    </tr>\n",
       "    <tr>\n",
       "      <th>11</th>\n",
       "      <td>Jalan Besar</td>\n",
       "      <td>91</td>\n",
       "      <td>62</td>\n",
       "      <td>36</td>\n",
       "    </tr>\n",
       "  </tbody>\n",
       "</table>\n",
       "</div>"
      ],
      "text/plain": [
       "               place  count  nltk_count  spacy_count\n",
       "0   Marina Bay Sands     86          72           60\n",
       "1    East Coast Park     54          25           36\n",
       "2          Boat Quay     57          43           41\n",
       "3        Clarke Quay    192         170          162\n",
       "4        Arab Street     38          35            2\n",
       "5       Little India    517         374          391\n",
       "6     Bugis Junction     50          46           44\n",
       "7      Tanjong Pagar     49          36           31\n",
       "8        Tiong Bahru    111          77           88\n",
       "9        Farrer Park    135          91           79\n",
       "10   Holland Village     55          25           47\n",
       "11       Jalan Besar     91          62           36"
      ]
     },
     "execution_count": 51,
     "metadata": {},
     "output_type": "execute_result"
    }
   ],
   "source": [
    "# Check df\n",
    "count"
   ]
  },
  {
   "cell_type": "markdown",
   "id": "hearing-liabilities",
   "metadata": {},
   "source": [
    "The numbers from the spacy model is quite comparable to the NLTK model, as well as the actual count.  \n",
    "To see if we can improve further on this, let's consider to retrain the current pipeline."
   ]
  },
  {
   "cell_type": "markdown",
   "id": "collaborative-houston",
   "metadata": {},
   "source": [
    "### Re-trained spaCy"
   ]
  },
  {
   "cell_type": "markdown",
   "id": "adverse-complement",
   "metadata": {},
   "source": [
    "One of the advantage of the spaCy model is that it allows us to re-train the pipeline (en_core_web_md) using our own training set.\n",
    "\n",
    "Previously in spaCy v2 the training was performed in a loop using Python. However, with the latest v3.0 update, all training has since been changed to be ran on the command line interface (CLI).\n",
    "\n",
    "The steps to train the pipeline are as below:"
   ]
  },
  {
   "cell_type": "markdown",
   "id": "guided-preliminary",
   "metadata": {},
   "source": [
    "- Download and initiate the base config file (refer to [documentation](https://spacy.io/usage/training)) in terminal/bash."
   ]
  },
  {
   "cell_type": "markdown",
   "id": "curious-forest",
   "metadata": {},
   "source": [
    "![cmd](../images/run_cmd.png)"
   ]
  },
  {
   "cell_type": "code",
   "execution_count": 52,
   "id": "working-revision",
   "metadata": {},
   "outputs": [],
   "source": [
    "# Create a training set\n",
    "# Training examples in the required format as below:\n",
    "\n",
    "# example: for the first row, entity - Chinatown has the location of 0th till 8th character\n",
    "\n",
    "training_data =[(\"Chinatown has a lot of delicacies.\", {\"entities\": [(0, 9, \"GPE\")]}),\n",
    "              (\"You can find a lot of chinese cuisine in Orchard\", {\"entities\": [(41, 48, \"GPE\")]}),\n",
    "              (\"The hotel is very near to Little India\", {\"entities\": [(26,38, \"GPE\")]}),\n",
    "              (\"There are a lot of activities around Farrer Park\", {\"entities\": [(37,48, \"GPE\")]}),\n",
    "              (\"Marina Bay Sands has an infinity pool!! It's epic!!\", {\"entities\": [(0,16, \"GPE\")]}),\n",
    "              (\"Excellent location! Very close to Clarke Quay and everywhere else. \", {\"entities\": [(34,45, \"GPE\")]}),\n",
    "              (\"You can exercise at East Coast Park, do some cycling or even a picnic\", {\"entities\": [(20,35, \"GPE\")]}),\n",
    "              (\"This place is very convenient, with quick access to Somerset station\", {\"entities\": [(52,60, \"GPE\")]}),\n",
    "              (\"I love Tiong Bahru!! But the theme park has a very long queue..\", {\"entities\": [(7,18, \"GPE\")]}),\n",
    "              (\"There is a direct bus to the Bugis from the bus stop downstairs\", {\"entities\": [(29,34, \"GPE\")]}),\n",
    "              (\"It's just a 5mins walk to Jalan Besar. There's a playground there.\", {\"entities\": [(26,37, \"GPE\")]}),\n",
    "              (\"Visiting Fort Canning is a must!\", {\"entities\": [(9,21, \"GPE\")]}),\n",
    "              (\"It's cheaper to stay near Kallang than the central area\", {\"entities\": [(26,33, \"GPE\")]}),\n",
    "              (\"Holland Village is the main tourist attraction nowadays\", {\"entities\": [(0,15, \"GPE\")]}),\n",
    "              (\"The apartment in Tanjung Pagar is beautiful!\", {\"entities\": [(17,30, \"GPE\")]}),\n",
    "              (\"You can do a lot of shopping at Orchard Road\", {\"entities\": [(32,44, \"GPE\")]})\n",
    "           ]"
   ]
  },
  {
   "cell_type": "code",
   "execution_count": 53,
   "id": "perceived-chambers",
   "metadata": {},
   "outputs": [
    {
     "name": "stderr",
     "output_type": "stream",
     "text": [
      "100%|██████████| 16/16 [00:00<00:00, 1210.65it/s]\n"
     ]
    }
   ],
   "source": [
    "# Convert above training set into a .spacy formate file to be fed into the training\n",
    "\n",
    "nlp = spacy.blank(\"en\") # load a new spacy model\n",
    "db = DocBin() # create a DocBin object\n",
    "\n",
    "for text, annot in tqdm(training_data): # data in previous format\n",
    "    doc = nlp.make_doc(text) # create doc object from text\n",
    "    ents = []\n",
    "    for start, end, label in annot[\"entities\"]: # add character indexes\n",
    "        span = doc.char_span(start, end, label=label, alignment_mode=\"contract\")\n",
    "        if span is None:\n",
    "            print(\"Skipping entity\")\n",
    "        else:\n",
    "            ents.append(span)\n",
    "    doc.ents = ents # label the text with the ents\n",
    "    db.add(doc)\n",
    "\n",
    "db.to_disk(\"../data/spacy_train/train.spacy\") # save the docbin object"
   ]
  },
  {
   "cell_type": "code",
   "execution_count": 54,
   "id": "imported-shark",
   "metadata": {},
   "outputs": [],
   "source": [
    "# Create a validation set\n",
    "# Validation examples in the same format\n",
    "\n",
    "test_data =[(\"The place is well located and within walking distance to Little India. The house is not new but everything worked.\", {\"entities\": [(57, 69, \"GPE\")]}),\n",
    "              (\"Centrally located near Orchard, there is a large hawker center nearby.\", {\"entities\": [(23, 30, \"GPE\")]}),\n",
    "              (\"Fantastic, clean apartment in residential Kallang. There is an amazing pool right outside the rooms. Very easy to get to and from the apartment. Definitely would stay here again\", {\"entities\": [(42,49, \"GPE\")]}),\n",
    "              (\"Recommended if you are planning to stay in Tanjung Pagar\", {\"entities\": [(43,56, \"GPE\")]}),\n",
    "              (\"The location is relatively central to Chinatown.\", {\"entities\": [(38,47, \"GPE\")]}),\n",
    "              (\"We had no trouble getting back even after Farrer Park visit through public transport\", {\"entities\": [(42,53, \"GPE\")]}),\n",
    "              (\"You can exercise at East Coast Park, feel the sea breeze and have seafood\", {\"entities\": [(20,35, \"GPE\")]}),\n",
    "              (\"The apartment is bigger than expected and great location! We manage to walk to Marina Bay hahaha\", {\"entities\": [(79,89, \"GPE\")]}),\n",
    "              (\"Great location, easy to access from Bugis with plenty of food places around.\", {\"entities\": [(36,41, \"GPE\")]}),\n",
    "              (\"The location simply unbeatable, just one station away from Jalan Besar where my office located.\", {\"entities\": [(59,70, \"GPE\")]}),\n",
    "              (\"Marina Bay Sands is one huge casino.\", {\"entities\": [(0,16, \"GPE\")]})\n",
    "           ]"
   ]
  },
  {
   "cell_type": "code",
   "execution_count": 55,
   "id": "quick-wrapping",
   "metadata": {},
   "outputs": [
    {
     "name": "stderr",
     "output_type": "stream",
     "text": [
      "100%|██████████| 11/11 [00:00<00:00, 1816.65it/s]\n"
     ]
    }
   ],
   "source": [
    "# Convert above validation set into a .spacy formate file to be fed into the training\n",
    "\n",
    "nlp = spacy.blank(\"en\") # load a new spacy model\n",
    "db = DocBin() # create a DocBin object\n",
    "\n",
    "for text, annot in tqdm(test_data): # data in previous format\n",
    "    doc = nlp.make_doc(text) # create doc object from text\n",
    "    ents = []\n",
    "    for start, end, label in annot[\"entities\"]: # add character indexes\n",
    "        span = doc.char_span(start, end, label=label, alignment_mode=\"contract\")\n",
    "        if span is None:\n",
    "            print(\"Skipping entity\")\n",
    "        else:\n",
    "            ents.append(span)\n",
    "    doc.ents = ents # label the text with the ents\n",
    "    db.add(doc)\n",
    "\n",
    "db.to_disk(\"../data/spacy_train/test.spacy\") # save the docbin object"
   ]
  },
  {
   "cell_type": "markdown",
   "id": "terminal-notion",
   "metadata": {},
   "source": [
    "- After above steps are done, training will start with below code:\n",
    "\n",
    "python -m spacy train config.cfg --output ./output --paths.train ./train.spacy --paths.dev ./test.spacy"
   ]
  },
  {
   "cell_type": "markdown",
   "id": "advance-captain",
   "metadata": {},
   "source": [
    "![training](../images/pipeline_train.png)"
   ]
  },
  {
   "cell_type": "markdown",
   "id": "provincial-basics",
   "metadata": {},
   "source": [
    "Training results summarized as below:\n",
    "\n",
    "- total epoch = 1608\n",
    "- f1 score is 0.74 \n",
    "- precision is 0.625\n",
    "- recall is 0.909\n",
    "\n",
    "This score is pretty good considering the size of our training and validation set."
   ]
  },
  {
   "cell_type": "code",
   "execution_count": 56,
   "id": "continent-philip",
   "metadata": {},
   "outputs": [],
   "source": [
    "# Load trained model (ie; 'model-best')\n",
    "nlp1 = spacy.load(\"../data/spacy_train/output/model-best\")"
   ]
  },
  {
   "cell_type": "code",
   "execution_count": 57,
   "id": "latin-infrared",
   "metadata": {},
   "outputs": [],
   "source": [
    "# Simple function to use spaCy retrained model to extract entities\n",
    "\n",
    "def spacy_ne1(text):\n",
    "\n",
    "    doc = nlp1(text)\n",
    "    entities = []\n",
    "    #labels = []\n",
    "\n",
    "    for ent in doc.ents:\n",
    "        entities.append(ent.text)\n",
    "        #labels.append(ent.label_)\n",
    "        \n",
    "    return list(set(entities))"
   ]
  },
  {
   "cell_type": "code",
   "execution_count": 58,
   "id": "digital-tokyo",
   "metadata": {},
   "outputs": [],
   "source": [
    "# Run the function through comments column and add entities to 'spacy_retrain' column in csv file\n",
    "review['spacy_retrain'] = [spacy_ne1(rev) for rev in review['re_comments']]"
   ]
  },
  {
   "cell_type": "code",
   "execution_count": 60,
   "id": "declared-finland",
   "metadata": {},
   "outputs": [],
   "source": [
    "# *.explode un-nests the words inside list of entities recognized\n",
    "# Creates a list of entities and counts of entities\n",
    "spacy_retrain_list = review.explode('spacy_retrain')['spacy_retrain'].value_counts()\n",
    "\n",
    "# Create temporary df to get count of entities obtained by spacy model\n",
    "spacy_retrain_df = pd.DataFrame()\n",
    "spacy_retrain_df['place'] = spacy_retrain_list.index\n",
    "spacy_retrain_df['spacy_retrain_count'] = spacy_retrain_list.values"
   ]
  },
  {
   "cell_type": "code",
   "execution_count": 61,
   "id": "european-spouse",
   "metadata": {},
   "outputs": [],
   "source": [
    "# Compare NER's recognized from spaCy to true count\n",
    "count = count.merge(spacy_retrain_df, how='left', on='place')\n",
    "\n",
    "# For entities not recognized, change Null values to 0\n",
    "count.fillna(0, inplace=True)\n",
    "count['spacy_retrain_count'] = count['spacy_retrain_count'].map(lambda x: int(x))"
   ]
  },
  {
   "cell_type": "code",
   "execution_count": 62,
   "id": "secret-columbus",
   "metadata": {
    "scrolled": false
   },
   "outputs": [
    {
     "data": {
      "text/html": [
       "<div>\n",
       "<style scoped>\n",
       "    .dataframe tbody tr th:only-of-type {\n",
       "        vertical-align: middle;\n",
       "    }\n",
       "\n",
       "    .dataframe tbody tr th {\n",
       "        vertical-align: top;\n",
       "    }\n",
       "\n",
       "    .dataframe thead th {\n",
       "        text-align: right;\n",
       "    }\n",
       "</style>\n",
       "<table border=\"1\" class=\"dataframe\">\n",
       "  <thead>\n",
       "    <tr style=\"text-align: right;\">\n",
       "      <th></th>\n",
       "      <th>place</th>\n",
       "      <th>count</th>\n",
       "      <th>nltk_count</th>\n",
       "      <th>spacy_count</th>\n",
       "      <th>spacy_retrain_count</th>\n",
       "    </tr>\n",
       "  </thead>\n",
       "  <tbody>\n",
       "    <tr>\n",
       "      <th>0</th>\n",
       "      <td>Marina Bay Sands</td>\n",
       "      <td>86</td>\n",
       "      <td>72</td>\n",
       "      <td>60</td>\n",
       "      <td>83</td>\n",
       "    </tr>\n",
       "    <tr>\n",
       "      <th>1</th>\n",
       "      <td>East Coast Park</td>\n",
       "      <td>54</td>\n",
       "      <td>25</td>\n",
       "      <td>36</td>\n",
       "      <td>51</td>\n",
       "    </tr>\n",
       "    <tr>\n",
       "      <th>2</th>\n",
       "      <td>Boat Quay</td>\n",
       "      <td>57</td>\n",
       "      <td>43</td>\n",
       "      <td>41</td>\n",
       "      <td>52</td>\n",
       "    </tr>\n",
       "    <tr>\n",
       "      <th>3</th>\n",
       "      <td>Clarke Quay</td>\n",
       "      <td>192</td>\n",
       "      <td>170</td>\n",
       "      <td>162</td>\n",
       "      <td>185</td>\n",
       "    </tr>\n",
       "    <tr>\n",
       "      <th>4</th>\n",
       "      <td>Arab Street</td>\n",
       "      <td>38</td>\n",
       "      <td>35</td>\n",
       "      <td>2</td>\n",
       "      <td>28</td>\n",
       "    </tr>\n",
       "    <tr>\n",
       "      <th>5</th>\n",
       "      <td>Little India</td>\n",
       "      <td>517</td>\n",
       "      <td>374</td>\n",
       "      <td>391</td>\n",
       "      <td>499</td>\n",
       "    </tr>\n",
       "    <tr>\n",
       "      <th>6</th>\n",
       "      <td>Bugis Junction</td>\n",
       "      <td>50</td>\n",
       "      <td>46</td>\n",
       "      <td>44</td>\n",
       "      <td>50</td>\n",
       "    </tr>\n",
       "    <tr>\n",
       "      <th>7</th>\n",
       "      <td>Tanjong Pagar</td>\n",
       "      <td>49</td>\n",
       "      <td>36</td>\n",
       "      <td>31</td>\n",
       "      <td>48</td>\n",
       "    </tr>\n",
       "    <tr>\n",
       "      <th>8</th>\n",
       "      <td>Tiong Bahru</td>\n",
       "      <td>111</td>\n",
       "      <td>77</td>\n",
       "      <td>88</td>\n",
       "      <td>110</td>\n",
       "    </tr>\n",
       "    <tr>\n",
       "      <th>9</th>\n",
       "      <td>Farrer Park</td>\n",
       "      <td>135</td>\n",
       "      <td>91</td>\n",
       "      <td>79</td>\n",
       "      <td>127</td>\n",
       "    </tr>\n",
       "    <tr>\n",
       "      <th>10</th>\n",
       "      <td>Holland Village</td>\n",
       "      <td>55</td>\n",
       "      <td>25</td>\n",
       "      <td>47</td>\n",
       "      <td>53</td>\n",
       "    </tr>\n",
       "    <tr>\n",
       "      <th>11</th>\n",
       "      <td>Jalan Besar</td>\n",
       "      <td>91</td>\n",
       "      <td>62</td>\n",
       "      <td>36</td>\n",
       "      <td>83</td>\n",
       "    </tr>\n",
       "  </tbody>\n",
       "</table>\n",
       "</div>"
      ],
      "text/plain": [
       "               place  count  nltk_count  spacy_count  spacy_retrain_count\n",
       "0   Marina Bay Sands     86          72           60                   83\n",
       "1    East Coast Park     54          25           36                   51\n",
       "2          Boat Quay     57          43           41                   52\n",
       "3        Clarke Quay    192         170          162                  185\n",
       "4        Arab Street     38          35            2                   28\n",
       "5       Little India    517         374          391                  499\n",
       "6     Bugis Junction     50          46           44                   50\n",
       "7      Tanjong Pagar     49          36           31                   48\n",
       "8        Tiong Bahru    111          77           88                  110\n",
       "9        Farrer Park    135          91           79                  127\n",
       "10   Holland Village     55          25           47                   53\n",
       "11       Jalan Besar     91          62           36                   83"
      ]
     },
     "execution_count": 62,
     "metadata": {},
     "output_type": "execute_result"
    }
   ],
   "source": [
    "# Check df\n",
    "count"
   ]
  },
  {
   "cell_type": "markdown",
   "id": "running-fifty",
   "metadata": {},
   "source": [
    "The re-trained spaCy pipeline did give us better results, showing improvement in all entities listed.  \n",
    "However, we did notice some weakness to this retrained model."
   ]
  },
  {
   "cell_type": "code",
   "execution_count": 64,
   "id": "harmful-abortion",
   "metadata": {},
   "outputs": [
    {
     "data": {
      "text/html": [
       "<div>\n",
       "<style scoped>\n",
       "    .dataframe tbody tr th:only-of-type {\n",
       "        vertical-align: middle;\n",
       "    }\n",
       "\n",
       "    .dataframe tbody tr th {\n",
       "        vertical-align: top;\n",
       "    }\n",
       "\n",
       "    .dataframe thead th {\n",
       "        text-align: right;\n",
       "    }\n",
       "</style>\n",
       "<table border=\"1\" class=\"dataframe\">\n",
       "  <thead>\n",
       "    <tr style=\"text-align: right;\">\n",
       "      <th></th>\n",
       "      <th>listing_id</th>\n",
       "      <th>id</th>\n",
       "      <th>date</th>\n",
       "      <th>reviewer_id</th>\n",
       "      <th>reviewer_name</th>\n",
       "      <th>comments</th>\n",
       "      <th>length</th>\n",
       "      <th>language</th>\n",
       "      <th>re_comments</th>\n",
       "      <th>nltk</th>\n",
       "      <th>spacy</th>\n",
       "      <th>spacy_retrain</th>\n",
       "    </tr>\n",
       "  </thead>\n",
       "  <tbody>\n",
       "    <tr>\n",
       "      <th>4267</th>\n",
       "      <td>4108082</td>\n",
       "      <td>78098655</td>\n",
       "      <td>2016-06-05</td>\n",
       "      <td>37729363</td>\n",
       "      <td>Mandy</td>\n",
       "      <td>Kel is very friendly and always willing to help. We are staying so enjoyable. Fantastic location, there are free shuttle bus to Orchard Road and China Town. I got a great time in Singapore with my family. Highly recommend to anyone wanting to visit Singapore.</td>\n",
       "      <td>45</td>\n",
       "      <td>en</td>\n",
       "      <td>Kel is very friendly and always willing to help. We are staying so enjoyable. Fantastic location, there are free shuttle bus to Orchard Road and China Town. I got a great time in Singapore with my family. Highly recommend to anyone wanting to visit Singapore.</td>\n",
       "      <td>[Orchard Road, Kel, Singapore, Fantastic, China Town]</td>\n",
       "      <td>[Orchard Road, Singapore]</td>\n",
       "      <td>[visit Singapore., Orchard Road, Highly, Singapore, Fantastic, China Town]</td>\n",
       "    </tr>\n",
       "  </tbody>\n",
       "</table>\n",
       "</div>"
      ],
      "text/plain": [
       "      listing_id        id        date  reviewer_id reviewer_name  \\\n",
       "4267     4108082  78098655  2016-06-05     37729363         Mandy   \n",
       "\n",
       "                                                                                                                                                                                                                                                                 comments  \\\n",
       "4267  Kel is very friendly and always willing to help. We are staying so enjoyable. Fantastic location, there are free shuttle bus to Orchard Road and China Town. I got a great time in Singapore with my family. Highly recommend to anyone wanting to visit Singapore.   \n",
       "\n",
       "      length language  \\\n",
       "4267      45       en   \n",
       "\n",
       "                                                                                                                                                                                                                                                              re_comments  \\\n",
       "4267  Kel is very friendly and always willing to help. We are staying so enjoyable. Fantastic location, there are free shuttle bus to Orchard Road and China Town. I got a great time in Singapore with my family. Highly recommend to anyone wanting to visit Singapore.   \n",
       "\n",
       "                                                       nltk  \\\n",
       "4267  [Orchard Road, Kel, Singapore, Fantastic, China Town]   \n",
       "\n",
       "                          spacy  \\\n",
       "4267  [Orchard Road, Singapore]   \n",
       "\n",
       "                                                                   spacy_retrain  \n",
       "4267  [visit Singapore., Orchard Road, Highly, Singapore, Fantastic, China Town]  "
      ]
     },
     "execution_count": 64,
     "metadata": {},
     "output_type": "execute_result"
    }
   ],
   "source": [
    "# Random check on models' extracted entities\n",
    "review[review.index==4267]"
   ]
  },
  {
   "cell_type": "markdown",
   "id": "understanding-buffer",
   "metadata": {},
   "source": [
    "Above is a random sample obtained that we can use to observe the difference in the entities recognized by the current 3 models.  \n",
    "The NLTK model over-extract the word 'Fantastic' while the base spaCy pipeline under-extract the word 'Kel' and 'China Town'.  \n",
    "However, the retrained pipeline seems to extract some unnecessary words like 'visit', 'Highly', and 'Fantastic'.  \n",
    "Based on further check, we noticed that the model will likely extract the first word out of every sentences."
   ]
  },
  {
   "cell_type": "code",
   "execution_count": 63,
   "id": "fallen-infection",
   "metadata": {},
   "outputs": [],
   "source": [
    "# Save csv\n",
    "count.to_csv('../data/count.csv', index = False)\n",
    "review.to_csv('../data/cleaned_review.csv', index = False)"
   ]
  },
  {
   "cell_type": "markdown",
   "id": "loose-aurora",
   "metadata": {},
   "source": [
    "**Next in our plan is to build a Bi-LSTM model using Keras specifically for NER task.  \n",
    "Please refer to Notebook 02_LSTM_Modelling_Training_Evaluation.**"
   ]
  },
  {
   "cell_type": "code",
   "execution_count": null,
   "id": "turkish-acrobat",
   "metadata": {},
   "outputs": [],
   "source": []
  }
 ],
 "metadata": {
  "kernelspec": {
   "display_name": "Python 3",
   "language": "python",
   "name": "python3"
  },
  "language_info": {
   "codemirror_mode": {
    "name": "ipython",
    "version": 3
   },
   "file_extension": ".py",
   "mimetype": "text/x-python",
   "name": "python",
   "nbconvert_exporter": "python",
   "pygments_lexer": "ipython3",
   "version": "3.8.5"
  }
 },
 "nbformat": 4,
 "nbformat_minor": 5
}
