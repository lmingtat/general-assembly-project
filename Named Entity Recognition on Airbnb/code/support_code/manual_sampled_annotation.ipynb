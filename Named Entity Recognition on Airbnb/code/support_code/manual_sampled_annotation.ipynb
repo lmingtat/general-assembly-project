{
 "cells": [
  {
   "cell_type": "markdown",
   "id": "stunning-california",
   "metadata": {},
   "source": [
    "## Purpose"
   ]
  },
  {
   "cell_type": "markdown",
   "id": "ordered-agreement",
   "metadata": {},
   "source": [
    "This notebook's purpose is to extract a short sample out of the reviews csv and then manually annotate the sample so that we can feed into the Keras Bi-LSTM model to be re-trained on top of the pre-annotated dataset."
   ]
  },
  {
   "cell_type": "markdown",
   "id": "overhead-viewer",
   "metadata": {},
   "source": [
    "## Imports"
   ]
  },
  {
   "cell_type": "code",
   "execution_count": 1,
   "id": "pressing-glory",
   "metadata": {},
   "outputs": [],
   "source": [
    "# Imports\n",
    "import pandas as pd\n",
    "import numpy as np\n",
    "import matplotlib.pyplot as plt\n",
    "import seaborn as sns\n",
    "import time"
   ]
  },
  {
   "cell_type": "code",
   "execution_count": 2,
   "id": "perfect-marriage",
   "metadata": {},
   "outputs": [],
   "source": [
    "# Imports for pre-processing\n",
    "import regex as re"
   ]
  },
  {
   "cell_type": "markdown",
   "id": "vertical-grain",
   "metadata": {},
   "source": [
    "## Load Data / Data Cleaning / Pre-processing"
   ]
  },
  {
   "cell_type": "code",
   "execution_count": 3,
   "id": "worldwide-transport",
   "metadata": {},
   "outputs": [],
   "source": [
    "# Import csv\n",
    "review = pd.read_csv('../../data/cleaned_review.csv')\n",
    "review = review.drop(columns=['nltk','spacy','spacy_retrain','lstm'])"
   ]
  },
  {
   "cell_type": "code",
   "execution_count": 4,
   "id": "elementary-treatment",
   "metadata": {},
   "outputs": [],
   "source": [
    "# List of some local places on top of the places that we were interested in (evaluated places)\n",
    "local_list = ['RWS','MBS','Marina Barrage','Hougang','Punggol','Clementi','Beauty World',\n",
    "              'Marina Bay Sands','Jewel','Jewel Changi','Madame Tussauds Singapore',\n",
    "              'Universal Studios Singapore','S.E.A. Aquarium','Wild Wild Wet','Zero Latency',\n",
    "              'East Coast Park','Marina Bay','Palawan Beach','Siloso Beach','Changi Beach',\n",
    "              'China Cultural Centre','Science Centre Singapore','Singapore Discovery Centre',\n",
    "              'ArtScience Museum','Boat Quay','Clarke Quay','Bukit Timah','Mount Faber','Baba House',\n",
    "              'City Hall','Fort Canning','Fort Siloso','Raffles Hotel','Marina Barrage','URA City Gallery',\n",
    "              'Sungei Buloh Wetland Reserve','Sultan Mosque','Resorts World Sentosa',\n",
    "              'Arab Street','Bugis Street','Chinatown','Little India','National Stadium',\n",
    "              'Singapore Indoor Stadium','Esplanade','Haw Par Villa','Adventure Cove',\n",
    "              'Universal Studios Singapore','Wild Wild Wet','Jurong Bird Park','Night Safari','River Safari',\n",
    "              'Singapore Zoo','Fort Canning Park','Bukit Timah Nature Reserve','Hong Lim Park',\n",
    "              'MacRitchie Reservoir Park','Pulau Ubin','Singapore Botanic Gardens','Southern Ridges',\n",
    "              'Sim Lim','313 Somerset','Bugis Junction','Tekka Place','Orchard Towers',\n",
    "              'Changi City Point','Golden Mile Complex','Orchard','Somerset','Dhoby Ghaut','Raffles Place',\n",
    "              'Marina South Pier','Kallang','Bugis','Tanjong Pagar','Outram Park','Tiong Bahru','Redhill',\n",
    "              'Harbourfront','Farrer Park','Promenade','Stadium','Holland Village',\n",
    "              'Bayfront','Botanic Gardens','Telok Ayer','Jalan Besar']"
   ]
  },
  {
   "cell_type": "code",
   "execution_count": 5,
   "id": "furnished-passport",
   "metadata": {},
   "outputs": [],
   "source": [
    "# Create df\n",
    "sample_size = pd.DataFrame()"
   ]
  },
  {
   "cell_type": "code",
   "execution_count": 6,
   "id": "located-bangkok",
   "metadata": {},
   "outputs": [],
   "source": [
    "# Add reviews that contain the selected places in list into the sample_size df\n",
    "for i in local_list:\n",
    "    sample_size = sample_size.append(review[review['re_comments'].str.contains(i)])"
   ]
  },
  {
   "cell_type": "code",
   "execution_count": 7,
   "id": "68c2bf3f",
   "metadata": {},
   "outputs": [
    {
     "data": {
      "text/plain": [
       "(4745, 9)"
      ]
     },
     "execution_count": 7,
     "metadata": {},
     "output_type": "execute_result"
    }
   ],
   "source": [
    "# Check length of sample\n",
    "sample_size.shape"
   ]
  },
  {
   "cell_type": "code",
   "execution_count": 8,
   "id": "ebdaa814",
   "metadata": {
    "scrolled": true
   },
   "outputs": [
    {
     "data": {
      "text/html": [
       "<div>\n",
       "<style scoped>\n",
       "    .dataframe tbody tr th:only-of-type {\n",
       "        vertical-align: middle;\n",
       "    }\n",
       "\n",
       "    .dataframe tbody tr th {\n",
       "        vertical-align: top;\n",
       "    }\n",
       "\n",
       "    .dataframe thead th {\n",
       "        text-align: right;\n",
       "    }\n",
       "</style>\n",
       "<table border=\"1\" class=\"dataframe\">\n",
       "  <thead>\n",
       "    <tr style=\"text-align: right;\">\n",
       "      <th></th>\n",
       "      <th>listing_id</th>\n",
       "      <th>id</th>\n",
       "      <th>date</th>\n",
       "      <th>reviewer_id</th>\n",
       "      <th>reviewer_name</th>\n",
       "      <th>comments</th>\n",
       "      <th>length</th>\n",
       "      <th>language</th>\n",
       "      <th>re_comments</th>\n",
       "    </tr>\n",
       "  </thead>\n",
       "  <tbody>\n",
       "    <tr>\n",
       "      <th>32974</th>\n",
       "      <td>24984672</td>\n",
       "      <td>350680122</td>\n",
       "      <td>2018-11-20</td>\n",
       "      <td>226181585</td>\n",
       "      <td>Joseph Fani</td>\n",
       "      <td>Diane's place is obviously convenient for fami...</td>\n",
       "      <td>181</td>\n",
       "      <td>en</td>\n",
       "      <td>Diane's place is obviously convenient for fami...</td>\n",
       "    </tr>\n",
       "    <tr>\n",
       "      <th>39445</th>\n",
       "      <td>35818917</td>\n",
       "      <td>623123873</td>\n",
       "      <td>2020-04-26</td>\n",
       "      <td>777244</td>\n",
       "      <td>Desmond</td>\n",
       "      <td>Very stylish space and a stone throw away from...</td>\n",
       "      <td>25</td>\n",
       "      <td>en</td>\n",
       "      <td>Very stylish space and a stone throw away from...</td>\n",
       "    </tr>\n",
       "    <tr>\n",
       "      <th>26066</th>\n",
       "      <td>18780571</td>\n",
       "      <td>334749291</td>\n",
       "      <td>2018-10-10</td>\n",
       "      <td>85656220</td>\n",
       "      <td>Peter</td>\n",
       "      <td>It's a cozy, well maintained place at an EXCEL...</td>\n",
       "      <td>83</td>\n",
       "      <td>en</td>\n",
       "      <td>It's a cozy, well maintained place at an EXCEL...</td>\n",
       "    </tr>\n",
       "    <tr>\n",
       "      <th>9638</th>\n",
       "      <td>6023517</td>\n",
       "      <td>255958052</td>\n",
       "      <td>2018-04-22</td>\n",
       "      <td>39969877</td>\n",
       "      <td>Jenny</td>\n",
       "      <td>An unusual but very light and spacious flat co...</td>\n",
       "      <td>109</td>\n",
       "      <td>en</td>\n",
       "      <td>An unusual but very light and spacious flat co...</td>\n",
       "    </tr>\n",
       "    <tr>\n",
       "      <th>26970</th>\n",
       "      <td>20004744</td>\n",
       "      <td>563490147</td>\n",
       "      <td>2019-11-13</td>\n",
       "      <td>20279759</td>\n",
       "      <td>Wai Ping</td>\n",
       "      <td>Mag’s place is very close to Chinatown. You ca...</td>\n",
       "      <td>67</td>\n",
       "      <td>en</td>\n",
       "      <td>Mag’s place is very close to Chinatown. You ca...</td>\n",
       "    </tr>\n",
       "    <tr>\n",
       "      <th>40521</th>\n",
       "      <td>38429997</td>\n",
       "      <td>624001017</td>\n",
       "      <td>2020-05-05</td>\n",
       "      <td>6406727</td>\n",
       "      <td>David</td>\n",
       "      <td>Great location, close to a bus stop, and only ...</td>\n",
       "      <td>47</td>\n",
       "      <td>en</td>\n",
       "      <td>Great location, close to a bus stop, and only ...</td>\n",
       "    </tr>\n",
       "    <tr>\n",
       "      <th>30779</th>\n",
       "      <td>23446208</td>\n",
       "      <td>349291635</td>\n",
       "      <td>2018-11-17</td>\n",
       "      <td>38001680</td>\n",
       "      <td>Lavinia</td>\n",
       "      <td>We had an enjoyable stay at Reginas’s place. L...</td>\n",
       "      <td>87</td>\n",
       "      <td>en</td>\n",
       "      <td>We had an enjoyable stay at Reginas’s place. L...</td>\n",
       "    </tr>\n",
       "    <tr>\n",
       "      <th>7114</th>\n",
       "      <td>5376240</td>\n",
       "      <td>300300950</td>\n",
       "      <td>2018-08-02</td>\n",
       "      <td>54943995</td>\n",
       "      <td>Katrien</td>\n",
       "      <td>The room was a bit smaller than I thought. But...</td>\n",
       "      <td>47</td>\n",
       "      <td>en</td>\n",
       "      <td>The room was a bit smaller than I thought. But...</td>\n",
       "    </tr>\n",
       "    <tr>\n",
       "      <th>7459</th>\n",
       "      <td>5377342</td>\n",
       "      <td>139543631</td>\n",
       "      <td>2017-03-25</td>\n",
       "      <td>50360519</td>\n",
       "      <td>Danielle</td>\n",
       "      <td>This place was fantastic. Our plane to Singapo...</td>\n",
       "      <td>134</td>\n",
       "      <td>en</td>\n",
       "      <td>This place was fantastic. Our plane to Singapo...</td>\n",
       "    </tr>\n",
       "    <tr>\n",
       "      <th>7191</th>\n",
       "      <td>5376240</td>\n",
       "      <td>571275249</td>\n",
       "      <td>2019-12-01</td>\n",
       "      <td>61399599</td>\n",
       "      <td>Nancy</td>\n",
       "      <td>Nettes Apartment am Rand von Little India. Sup...</td>\n",
       "      <td>18</td>\n",
       "      <td>de</td>\n",
       "      <td>Nice apartment on the edge of Little India. Su...</td>\n",
       "    </tr>\n",
       "  </tbody>\n",
       "</table>\n",
       "</div>"
      ],
      "text/plain": [
       "       listing_id         id        date  reviewer_id reviewer_name  \\\n",
       "32974    24984672  350680122  2018-11-20    226181585   Joseph Fani   \n",
       "39445    35818917  623123873  2020-04-26       777244       Desmond   \n",
       "26066    18780571  334749291  2018-10-10     85656220         Peter   \n",
       "9638      6023517  255958052  2018-04-22     39969877         Jenny   \n",
       "26970    20004744  563490147  2019-11-13     20279759      Wai Ping   \n",
       "40521    38429997  624001017  2020-05-05      6406727         David   \n",
       "30779    23446208  349291635  2018-11-17     38001680       Lavinia   \n",
       "7114      5376240  300300950  2018-08-02     54943995       Katrien   \n",
       "7459      5377342  139543631  2017-03-25     50360519      Danielle   \n",
       "7191      5376240  571275249  2019-12-01     61399599         Nancy   \n",
       "\n",
       "                                                comments  length language  \\\n",
       "32974  Diane's place is obviously convenient for fami...     181       en   \n",
       "39445  Very stylish space and a stone throw away from...      25       en   \n",
       "26066  It's a cozy, well maintained place at an EXCEL...      83       en   \n",
       "9638   An unusual but very light and spacious flat co...     109       en   \n",
       "26970  Mag’s place is very close to Chinatown. You ca...      67       en   \n",
       "40521  Great location, close to a bus stop, and only ...      47       en   \n",
       "30779  We had an enjoyable stay at Reginas’s place. L...      87       en   \n",
       "7114   The room was a bit smaller than I thought. But...      47       en   \n",
       "7459   This place was fantastic. Our plane to Singapo...     134       en   \n",
       "7191   Nettes Apartment am Rand von Little India. Sup...      18       de   \n",
       "\n",
       "                                             re_comments  \n",
       "32974  Diane's place is obviously convenient for fami...  \n",
       "39445  Very stylish space and a stone throw away from...  \n",
       "26066  It's a cozy, well maintained place at an EXCEL...  \n",
       "9638   An unusual but very light and spacious flat co...  \n",
       "26970  Mag’s place is very close to Chinatown. You ca...  \n",
       "40521  Great location, close to a bus stop, and only ...  \n",
       "30779  We had an enjoyable stay at Reginas’s place. L...  \n",
       "7114   The room was a bit smaller than I thought. But...  \n",
       "7459   This place was fantastic. Our plane to Singapo...  \n",
       "7191   Nice apartment on the edge of Little India. Su...  "
      ]
     },
     "execution_count": 8,
     "metadata": {},
     "output_type": "execute_result"
    }
   ],
   "source": [
    "# Check random sample of size 10\n",
    "sample_size.sample(10)"
   ]
  },
  {
   "cell_type": "code",
   "execution_count": 9,
   "id": "c45f53cc",
   "metadata": {},
   "outputs": [],
   "source": [
    "# Get only samples with length of less than 100\n",
    "sample_size = sample_size[sample_size['length']<100]"
   ]
  },
  {
   "cell_type": "code",
   "execution_count": 10,
   "id": "889070b4",
   "metadata": {},
   "outputs": [],
   "source": [
    "# Dictionary of English contractions\n",
    "contractions_dict = { \"ain't\": \"are not\",\"'s\":\" is\",\"aren't\": \"are not\",\n",
    "                     \"can't\": \"cannot\",\"can't've\": \"cannot have\",\n",
    "                     \"'cause\": \"because\",\"could've\": \"could have\",\"couldn't\": \"could not\",\n",
    "                     \"couldn't've\": \"could not have\", \"didn't\": \"did not\",\"doesn't\": \"does not\",\n",
    "                     \"don't\": \"do not\",\"hadn't\": \"had not\",\"hadn't've\": \"had not have\",\n",
    "                     \"hasn't\": \"has not\",\"haven't\": \"have not\",\"he'd\": \"he would\",\n",
    "                     \"he'd've\": \"he would have\",\"he'll\": \"he will\", \"he'll've\": \"he will have\",\n",
    "                     \"how'd\": \"how did\",\"how'd'y\": \"how do you\",\"how'll\": \"how will\",\n",
    "                     \"I'd\": \"I would\", \"I'd've\": \"I would have\",\"I'll\": \"I will\",\n",
    "                     \"I'll've\": \"I will have\",\"I'm\": \"I am\",\"I've\": \"I have\", \"isn't\": \"is not\",\n",
    "                     \"it'd\": \"it would\",\"it'd've\": \"it would have\",\"it'll\": \"it will\",\n",
    "                     \"it'll've\": \"it will have\", \"let's\": \"let us\",\"ma'am\": \"madam\",\n",
    "                     \"mayn't\": \"may not\",\"might've\": \"might have\",\"mightn't\": \"might not\", \n",
    "                     \"mightn't've\": \"might not have\",\"must've\": \"must have\",\"mustn't\": \"must not\",\n",
    "                     \"mustn't've\": \"must not have\", \"needn't\": \"need not\",\n",
    "                     \"needn't've\": \"need not have\",\"o'clock\": \"of the clock\",\"oughtn't\": \"ought not\",\n",
    "                     \"oughtn't've\": \"ought not have\",\"shan't\": \"shall not\",\"sha'n't\": \"shall not\",\n",
    "                     \"shan't've\": \"shall not have\",\"she'd\": \"she would\",\"she'd've\": \"she would have\",\n",
    "                     \"she'll\": \"she will\", \"she'll've\": \"she will have\",\"should've\": \"should have\",\n",
    "                     \"shouldn't\": \"should not\", \"shouldn't've\": \"should not have\",\"so've\": \"so have\",\n",
    "                     \"that'd\": \"that would\",\"that'd've\": \"that would have\", \"there'd\": \"there would\",\n",
    "                     \"there'd've\": \"there would have\", \"they'd\": \"they would\",\n",
    "                     \"they'd've\": \"they would have\",\"they'll\": \"they will\",\n",
    "                     \"they'll've\": \"they will have\", \"they're\": \"they are\",\"they've\": \"they have\",\n",
    "                     \"to've\": \"to have\",\"wasn't\": \"was not\",\"we'd\": \"we would\",\n",
    "                     \"we'd've\": \"we would have\",\"we'll\": \"we will\",\"we'll've\": \"we will have\",\n",
    "                     \"we're\": \"we are\",\"we've\": \"we have\", \"weren't\": \"were not\",\"what'll\": \"what will\",\n",
    "                     \"what'll've\": \"what will have\",\"what're\": \"what are\", \"what've\": \"what have\",\n",
    "                     \"when've\": \"when have\",\"where'd\": \"where did\", \"where've\": \"where have\",\n",
    "                     \"who'll\": \"who will\",\"who'll've\": \"who will have\",\"who've\": \"who have\",\n",
    "                     \"why've\": \"why have\",\"will've\": \"will have\",\"won't\": \"will not\",\n",
    "                     \"won't've\": \"will not have\", \"would've\": \"would have\",\"wouldn't\": \"would not\",\n",
    "                     \"wouldn't've\": \"would not have\",\"y'all\": \"you all\", \"y'all'd\": \"you all would\",\n",
    "                     \"y'all'd've\": \"you all would have\",\"y'all're\": \"you all are\",\n",
    "                     \"y'all've\": \"you all have\", \"you'd\": \"you would\",\"you'd've\": \"you would have\",\n",
    "                     \"you'll\": \"you will\",\"you'll've\": \"you will have\", \"you're\": \"you are\",\n",
    "                     \"you've\": \"you have\"}\n",
    "\n",
    "# Regular expression for finding contractions\n",
    "contractions_re=re.compile('(%s)' % '|'.join(contractions_dict.keys()))\n",
    "\n",
    "# Replace contractions with full words\n",
    "def expand_contractions(text,contractions_dict=contractions_dict):\n",
    "    def replace(match):\n",
    "        return contractions_dict[match.group(0)]\n",
    "    return contractions_re.sub(replace, text)"
   ]
  },
  {
   "cell_type": "code",
   "execution_count": 11,
   "id": "760e7ad9",
   "metadata": {},
   "outputs": [],
   "source": [
    "# Create function to preprocess the sentences \n",
    "def review_to_words(review_text):\n",
    "\n",
    "    # Remove word contractions\n",
    "    review_text = expand_contractions(review_text)\n",
    "    \n",
    "    # Remove non-letters.\n",
    "    review_text = re.sub(\"[^a-zA-Z0-9.,]\", \" \", review_text)\n",
    "    \n",
    "    # Add space in fron of comma to retain comma after split\n",
    "    review_text = review_text.replace(',',' ,')\n",
    "    review_text = review_text.replace('.',' .')\n",
    "    \n",
    "    # Split into individual words.\n",
    "    words = review_text.split()\n",
    "    \n",
    "    return (words)"
   ]
  },
  {
   "cell_type": "code",
   "execution_count": 12,
   "id": "revolutionary-bench",
   "metadata": {},
   "outputs": [],
   "source": [
    "# Run the function across the reviews of sample size = 125\n",
    "samples = [review_to_words(s) for s in sample_size.sample(125)['re_comments']]"
   ]
  },
  {
   "cell_type": "code",
   "execution_count": 13,
   "id": "accepting-questionnaire",
   "metadata": {
    "scrolled": true
   },
   "outputs": [
    {
     "data": {
      "text/plain": [
       "['What',\n",
       " 'a',\n",
       " 'perfect',\n",
       " 'place',\n",
       " 'for',\n",
       " 'a',\n",
       " 'couple',\n",
       " 'or',\n",
       " 'single',\n",
       " 'travelers',\n",
       " '.',\n",
       " 'Easy',\n",
       " 'self',\n",
       " 'check',\n",
       " 'in',\n",
       " 'and',\n",
       " 'great',\n",
       " 'communication',\n",
       " '.',\n",
       " 'The',\n",
       " 'washer',\n",
       " 'dryer',\n",
       " 'was',\n",
       " 'great',\n",
       " 'to',\n",
       " 'have',\n",
       " 'as',\n",
       " 'well',\n",
       " '.',\n",
       " 'Right',\n",
       " 'in',\n",
       " 'the',\n",
       " 'heart',\n",
       " 'of',\n",
       " 'downtown',\n",
       " '.',\n",
       " 'A',\n",
       " 'few',\n",
       " 'min',\n",
       " 'walk',\n",
       " 'to',\n",
       " 'the',\n",
       " 'Marina',\n",
       " 'Bay',\n",
       " '.',\n",
       " 'There',\n",
       " 'are',\n",
       " 'a',\n",
       " 'ton',\n",
       " 'of',\n",
       " 'great',\n",
       " 'bars',\n",
       " 'and',\n",
       " 'cafes',\n",
       " 'all',\n",
       " 'around',\n",
       " '.',\n",
       " 'If',\n",
       " 'you',\n",
       " 'have',\n",
       " 'a',\n",
       " 'chance',\n",
       " 'go',\n",
       " 'to',\n",
       " 'Employees',\n",
       " 'Only',\n",
       " 'for',\n",
       " 'some',\n",
       " 'great',\n",
       " 'food',\n",
       " 'and',\n",
       " 'cocktails',\n",
       " '.',\n",
       " 'Perfect',\n",
       " '.']"
      ]
     },
     "execution_count": 13,
     "metadata": {},
     "output_type": "execute_result"
    }
   ],
   "source": [
    "# Check the first review sample\n",
    "samples[0]"
   ]
  },
  {
   "cell_type": "code",
   "execution_count": 14,
   "id": "soviet-saturn",
   "metadata": {},
   "outputs": [
    {
     "data": {
      "text/plain": [
       "125"
      ]
     },
     "execution_count": 14,
     "metadata": {},
     "output_type": "execute_result"
    }
   ],
   "source": [
    "# Check length of sample list\n",
    "len(samples)"
   ]
  },
  {
   "cell_type": "code",
   "execution_count": 15,
   "id": "ancient-baltimore",
   "metadata": {},
   "outputs": [
    {
     "data": {
      "text/html": [
       "<div>\n",
       "<style scoped>\n",
       "    .dataframe tbody tr th:only-of-type {\n",
       "        vertical-align: middle;\n",
       "    }\n",
       "\n",
       "    .dataframe tbody tr th {\n",
       "        vertical-align: top;\n",
       "    }\n",
       "\n",
       "    .dataframe thead th {\n",
       "        text-align: right;\n",
       "    }\n",
       "</style>\n",
       "<table border=\"1\" class=\"dataframe\">\n",
       "  <thead>\n",
       "    <tr style=\"text-align: right;\">\n",
       "      <th></th>\n",
       "      <th>num</th>\n",
       "      <th>sentence</th>\n",
       "    </tr>\n",
       "  </thead>\n",
       "  <tbody>\n",
       "    <tr>\n",
       "      <th>0</th>\n",
       "      <td>1</td>\n",
       "      <td>[What, a, perfect, place, for, a, couple, or, ...</td>\n",
       "    </tr>\n",
       "    <tr>\n",
       "      <th>1</th>\n",
       "      <td>2</td>\n",
       "      <td>[Super, cleaning, and, stylish, hotel, ., Grea...</td>\n",
       "    </tr>\n",
       "    <tr>\n",
       "      <th>2</th>\n",
       "      <td>3</td>\n",
       "      <td>[Great, location, near, Chinatown, very, easy,...</td>\n",
       "    </tr>\n",
       "    <tr>\n",
       "      <th>3</th>\n",
       "      <td>4</td>\n",
       "      <td>[Can, t, get, any, better, location, than, thi...</td>\n",
       "    </tr>\n",
       "    <tr>\n",
       "      <th>4</th>\n",
       "      <td>5</td>\n",
       "      <td>[The, unit, was, just, as, described, ,, clean...</td>\n",
       "    </tr>\n",
       "  </tbody>\n",
       "</table>\n",
       "</div>"
      ],
      "text/plain": [
       "   num                                           sentence\n",
       "0    1  [What, a, perfect, place, for, a, couple, or, ...\n",
       "1    2  [Super, cleaning, and, stylish, hotel, ., Grea...\n",
       "2    3  [Great, location, near, Chinatown, very, easy,...\n",
       "3    4  [Can, t, get, any, better, location, than, thi...\n",
       "4    5  [The, unit, was, just, as, described, ,, clean..."
      ]
     },
     "execution_count": 15,
     "metadata": {},
     "output_type": "execute_result"
    }
   ],
   "source": [
    "# Create a df\n",
    "sample_train = pd.DataFrame()\n",
    "\n",
    "# Add list into df\n",
    "sample_train['sentence'] = samples\n",
    "\n",
    "# Number the reviews so that we can expand and merge in further steps\n",
    "sample_train['num'] = [i+1 for i in range(len(samples))]\n",
    "\n",
    "# Rearrange column and check df\n",
    "sample_train = sample_train[['num', 'sentence']]\n",
    "sample_train.head()"
   ]
  },
  {
   "cell_type": "code",
   "execution_count": 16,
   "id": "manual-ceiling",
   "metadata": {},
   "outputs": [
    {
     "data": {
      "text/html": [
       "<div>\n",
       "<style scoped>\n",
       "    .dataframe tbody tr th:only-of-type {\n",
       "        vertical-align: middle;\n",
       "    }\n",
       "\n",
       "    .dataframe tbody tr th {\n",
       "        vertical-align: top;\n",
       "    }\n",
       "\n",
       "    .dataframe thead th {\n",
       "        text-align: right;\n",
       "    }\n",
       "</style>\n",
       "<table border=\"1\" class=\"dataframe\">\n",
       "  <thead>\n",
       "    <tr style=\"text-align: right;\">\n",
       "      <th></th>\n",
       "      <th>num</th>\n",
       "      <th>sentence</th>\n",
       "    </tr>\n",
       "  </thead>\n",
       "  <tbody>\n",
       "    <tr>\n",
       "      <th>0</th>\n",
       "      <td>1</td>\n",
       "      <td>What</td>\n",
       "    </tr>\n",
       "    <tr>\n",
       "      <th>0</th>\n",
       "      <td>1</td>\n",
       "      <td>a</td>\n",
       "    </tr>\n",
       "    <tr>\n",
       "      <th>0</th>\n",
       "      <td>1</td>\n",
       "      <td>perfect</td>\n",
       "    </tr>\n",
       "    <tr>\n",
       "      <th>0</th>\n",
       "      <td>1</td>\n",
       "      <td>place</td>\n",
       "    </tr>\n",
       "    <tr>\n",
       "      <th>0</th>\n",
       "      <td>1</td>\n",
       "      <td>for</td>\n",
       "    </tr>\n",
       "  </tbody>\n",
       "</table>\n",
       "</div>"
      ],
      "text/plain": [
       "   num sentence\n",
       "0    1     What\n",
       "0    1        a\n",
       "0    1  perfect\n",
       "0    1    place\n",
       "0    1      for"
      ]
     },
     "execution_count": 16,
     "metadata": {},
     "output_type": "execute_result"
    }
   ],
   "source": [
    "# Un-nest the words inside the sentence column so that we can perform manual annotation\n",
    "sample_train = sample_train.explode('sentence')\n",
    "\n",
    "# Check df\n",
    "sample_train.head()"
   ]
  },
  {
   "cell_type": "code",
   "execution_count": 17,
   "id": "patient-monitoring",
   "metadata": {},
   "outputs": [],
   "source": [
    "# Due to run-ability check and re-run purpose, below code is masked out\n",
    "\n",
    "# Essentially, we will export the csv to perform manual annotation\n",
    "\n",
    "#sample_train.to_csv('../../data/manual_annotate_sample.csv')"
   ]
  },
  {
   "cell_type": "markdown",
   "id": "graduate-murder",
   "metadata": {},
   "source": [
    "## Manual Annotation\n",
    "\n",
    "After export to csv, we will use excel to perform manual annotation in new 'tag' column, then re-import again using the same csv file"
   ]
  },
  {
   "cell_type": "markdown",
   "id": "quality-ticket",
   "metadata": {},
   "source": [
    "<img src=\"../../images/manual_anno_shot.png\" width=\"200\">"
   ]
  },
  {
   "cell_type": "markdown",
   "id": "occasional-reflection",
   "metadata": {},
   "source": [
    "Manual annotation will be based on IOB format with tags similar to the pre-annotated dataset.\n",
    "\n",
    "Available tags:  \n",
    "geo / gpe / org / per / tim / eve / art\n",
    "\n",
    "IOB format prefix:  \n",
    "B - beginning  \n",
    "I - inside  \n",
    "O - outside  \n",
    "\n",
    "Due to class imbalance (majority is O), 'O' will not be labelled and just filled in with Python .fillna instead"
   ]
  },
  {
   "cell_type": "code",
   "execution_count": 18,
   "id": "governing-linux",
   "metadata": {},
   "outputs": [],
   "source": [
    "# After manual annotation, reload the csv file\n",
    "sample_train = pd.read_csv('../../data/manual_annotate_sample.csv')"
   ]
  },
  {
   "cell_type": "code",
   "execution_count": 19,
   "id": "green-district",
   "metadata": {},
   "outputs": [],
   "source": [
    "# Fill NA with 'O' as mentioned\n",
    "sample_train.drop(columns='Unnamed: 0',inplace=True)\n",
    "sample_train.fillna('O', inplace=True)"
   ]
  },
  {
   "cell_type": "code",
   "execution_count": 20,
   "id": "5015dbdf",
   "metadata": {},
   "outputs": [
    {
     "data": {
      "text/html": [
       "<div>\n",
       "<style scoped>\n",
       "    .dataframe tbody tr th:only-of-type {\n",
       "        vertical-align: middle;\n",
       "    }\n",
       "\n",
       "    .dataframe tbody tr th {\n",
       "        vertical-align: top;\n",
       "    }\n",
       "\n",
       "    .dataframe thead th {\n",
       "        text-align: right;\n",
       "    }\n",
       "</style>\n",
       "<table border=\"1\" class=\"dataframe\">\n",
       "  <thead>\n",
       "    <tr style=\"text-align: right;\">\n",
       "      <th></th>\n",
       "      <th>num</th>\n",
       "      <th>sentence</th>\n",
       "      <th>tag</th>\n",
       "    </tr>\n",
       "  </thead>\n",
       "  <tbody>\n",
       "    <tr>\n",
       "      <th>0</th>\n",
       "      <td>1</td>\n",
       "      <td>You</td>\n",
       "      <td>O</td>\n",
       "    </tr>\n",
       "    <tr>\n",
       "      <th>1</th>\n",
       "      <td>1</td>\n",
       "      <td>can</td>\n",
       "      <td>O</td>\n",
       "    </tr>\n",
       "    <tr>\n",
       "      <th>2</th>\n",
       "      <td>1</td>\n",
       "      <td>walk</td>\n",
       "      <td>O</td>\n",
       "    </tr>\n",
       "    <tr>\n",
       "      <th>3</th>\n",
       "      <td>1</td>\n",
       "      <td>to</td>\n",
       "      <td>O</td>\n",
       "    </tr>\n",
       "    <tr>\n",
       "      <th>4</th>\n",
       "      <td>1</td>\n",
       "      <td>the</td>\n",
       "      <td>O</td>\n",
       "    </tr>\n",
       "  </tbody>\n",
       "</table>\n",
       "</div>"
      ],
      "text/plain": [
       "   num sentence tag\n",
       "0    1      You   O\n",
       "1    1      can   O\n",
       "2    1     walk   O\n",
       "3    1       to   O\n",
       "4    1      the   O"
      ]
     },
     "execution_count": 20,
     "metadata": {},
     "output_type": "execute_result"
    }
   ],
   "source": [
    "# Check df\n",
    "sample_train.head()"
   ]
  },
  {
   "cell_type": "code",
   "execution_count": 21,
   "id": "attached-guide",
   "metadata": {},
   "outputs": [
    {
     "data": {
      "image/png": "[encoded data removed]",
      "text/plain": [
       "<Figure size 720x432 with 1 Axes>"
      ]
     },
     "metadata": {
      "needs_background": "light"
     },
     "output_type": "display_data"
    }
   ],
   "source": [
    "# Check distribution of tags\n",
    "fig = plt.figure(figsize=(10,6))\n",
    "sns.countplot(data=sample_train, x='tag')\n",
    "plt.title('Tag Count');"
   ]
  },
  {
   "cell_type": "markdown",
   "id": "figured-summit",
   "metadata": {},
   "source": [
    "Similar to our pre-annotated dataset, there is a huge imbalance of class 'O'. Hence, we will need to rely on other metrics such as recall or precision or f1 in the later stages."
   ]
  },
  {
   "cell_type": "code",
   "execution_count": 22,
   "id": "private-directory",
   "metadata": {},
   "outputs": [],
   "source": [
    "# Save the final sample df to be used in the LSTM model (masked out due to re-run purpose)\n",
    "\n",
    "#sample_train.to_csv('../../data/manual_annotate_sample.csv')"
   ]
  },
  {
   "cell_type": "code",
   "execution_count": null,
   "id": "macro-cycle",
   "metadata": {},
   "outputs": [],
   "source": []
  }
 ],
 "metadata": {
  "kernelspec": {
   "display_name": "Python 3",
   "language": "python",
   "name": "python3"
  },
  "language_info": {
   "codemirror_mode": {
    "name": "ipython",
    "version": 3
   },
   "file_extension": ".py",
   "mimetype": "text/x-python",
   "name": "python",
   "nbconvert_exporter": "python",
   "pygments_lexer": "ipython3",
   "version": "3.8.5"
  }
 },
 "nbformat": 4,
 "nbformat_minor": 5
}
