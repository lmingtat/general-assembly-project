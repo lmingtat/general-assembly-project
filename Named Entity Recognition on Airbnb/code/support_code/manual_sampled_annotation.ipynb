{
 "cells": [
  {
   "cell_type": "markdown",
   "id": "stunning-california",
   "metadata": {},
   "source": [
    "## Purpose"
   ]
  },
  {
   "cell_type": "markdown",
   "id": "crazy-gospel",
   "metadata": {},
   "source": [
    "This notebook's purpose is to extract a short sample out of the reviews csv and then manually annotate the sample so that we can feed into the Keras Bi-LSTM model to be re-trained on top of the pre-annotated dataset."
   ]
  },
  {
   "cell_type": "markdown",
   "id": "fleet-agreement",
   "metadata": {},
   "source": [
    "## Imports"
   ]
  },
  {
   "cell_type": "code",
   "execution_count": 1,
   "id": "pressing-glory",
   "metadata": {},
   "outputs": [],
   "source": [
    "# Imports\n",
    "import pandas as pd\n",
    "import numpy as np\n",
    "import matplotlib.pyplot as plt\n",
    "import seaborn as sns\n",
    "import time"
   ]
  },
  {
   "cell_type": "code",
   "execution_count": 2,
   "id": "perfect-marriage",
   "metadata": {},
   "outputs": [],
   "source": [
    "# Imports for pre-processing\n",
    "import regex as re"
   ]
  },
  {
   "cell_type": "markdown",
   "id": "vertical-grain",
   "metadata": {},
   "source": [
    "## Load Data / Data Cleaning / Pre-processing"
   ]
  },
  {
   "cell_type": "code",
   "execution_count": 3,
   "id": "worldwide-transport",
   "metadata": {},
   "outputs": [],
   "source": [
    "# Import csv\n",
    "review = pd.read_csv('../../data/cleaned_review.csv')\n",
    "review = review.drop(columns=['nltk','spacy','spacy_retrain','lstm'])"
   ]
  },
  {
   "cell_type": "code",
   "execution_count": 4,
   "id": "elementary-treatment",
   "metadata": {},
   "outputs": [],
   "source": [
    "# List of some local places on top of the places that we were interested in (evaluated places)\n",
    "local_list = ['RWS','MBS','Marina Barrage','Hougang','Punggol','Clementi','Beauty World',\n",
    "              'Marina Bay Sands','Jewel','Jewel Changi','Madame Tussauds Singapore',\n",
    "              'Universal Studios Singapore','S.E.A. Aquarium','Wild Wild Wet','Zero Latency',\n",
    "              'East Coast Park','Marina Bay','Palawan Beach','Siloso Beach','Changi Beach',\n",
    "              'China Cultural Centre','Science Centre Singapore','Singapore Discovery Centre',\n",
    "              'ArtScience Museum','Boat Quay','Clarke Quay','Bukit Timah','Mount Faber','Baba House',\n",
    "              'City Hall','Fort Canning','Fort Siloso','Raffles Hotel','Marina Barrage','URA City Gallery',\n",
    "              'Sungei Buloh Wetland Reserve','Sultan Mosque','Resorts World Sentosa',\n",
    "              'Arab Street','Bugis Street','Chinatown','Little India','National Stadium',\n",
    "              'Singapore Indoor Stadium','Esplanade','Haw Par Villa','Adventure Cove',\n",
    "              'Universal Studios Singapore','Wild Wild Wet','Jurong Bird Park','Night Safari','River Safari',\n",
    "              'Singapore Zoo','Fort Canning Park','Bukit Timah Nature Reserve','Hong Lim Park',\n",
    "              'MacRitchie Reservoir Park','Pulau Ubin','Singapore Botanic Gardens','Southern Ridges',\n",
    "              'Sim Lim','313 Somerset','Bugis Junction','Tekka Place','Orchard Towers',\n",
    "              'Changi City Point','Golden Mile Complex','Orchard','Somerset','Dhoby Ghaut','Raffles Place',\n",
    "              'Marina South Pier','Kallang','Bugis','Tanjong Pagar','Outram Park','Tiong Bahru','Redhill',\n",
    "              'Harbourfront','Farrer Park','Promenade','Stadium','Holland Village',\n",
    "              'Bayfront','Botanic Gardens','Telok Ayer','Jalan Besar']"
   ]
  },
  {
   "cell_type": "code",
   "execution_count": 5,
   "id": "furnished-passport",
   "metadata": {},
   "outputs": [],
   "source": [
    "# Create df\n",
    "sample_size = pd.DataFrame()"
   ]
  },
  {
   "cell_type": "code",
   "execution_count": 6,
   "id": "located-bangkok",
   "metadata": {},
   "outputs": [],
   "source": [
    "# Add reviews that contain the selected places in list into the sample_size df\n",
    "for i in local_list:\n",
    "    sample_size = sample_size.append(review[review['re_comments'].str.contains(i)])"
   ]
  },
  {
   "cell_type": "code",
   "execution_count": 7,
   "id": "68c2bf3f",
   "metadata": {},
   "outputs": [
    {
     "data": {
      "text/plain": [
       "(4745, 9)"
      ]
     },
     "execution_count": 7,
     "metadata": {},
     "output_type": "execute_result"
    }
   ],
   "source": [
    "# Check length of sample\n",
    "sample_size.shape"
   ]
  },
  {
   "cell_type": "code",
   "execution_count": 8,
   "id": "ebdaa814",
   "metadata": {
    "scrolled": true
   },
   "outputs": [
    {
     "data": {
      "text/html": [
       "<div>\n",
       "<style scoped>\n",
       "    .dataframe tbody tr th:only-of-type {\n",
       "        vertical-align: middle;\n",
       "    }\n",
       "\n",
       "    .dataframe tbody tr th {\n",
       "        vertical-align: top;\n",
       "    }\n",
       "\n",
       "    .dataframe thead th {\n",
       "        text-align: right;\n",
       "    }\n",
       "</style>\n",
       "<table border=\"1\" class=\"dataframe\">\n",
       "  <thead>\n",
       "    <tr style=\"text-align: right;\">\n",
       "      <th></th>\n",
       "      <th>listing_id</th>\n",
       "      <th>id</th>\n",
       "      <th>date</th>\n",
       "      <th>reviewer_id</th>\n",
       "      <th>reviewer_name</th>\n",
       "      <th>comments</th>\n",
       "      <th>length</th>\n",
       "      <th>language</th>\n",
       "      <th>re_comments</th>\n",
       "    </tr>\n",
       "  </thead>\n",
       "  <tbody>\n",
       "    <tr>\n",
       "      <th>15133</th>\n",
       "      <td>9635192</td>\n",
       "      <td>324846743</td>\n",
       "      <td>2018-09-18</td>\n",
       "      <td>178751078</td>\n",
       "      <td>Wichaya</td>\n",
       "      <td>Really nice place to stay, and great location....</td>\n",
       "      <td>271</td>\n",
       "      <td>en</td>\n",
       "      <td>Really nice place to stay, and great location....</td>\n",
       "    </tr>\n",
       "    <tr>\n",
       "      <th>24732</th>\n",
       "      <td>17657915</td>\n",
       "      <td>432443430</td>\n",
       "      <td>2019-04-04</td>\n",
       "      <td>3035809</td>\n",
       "      <td>Tim</td>\n",
       "      <td>A decent budget option.  The sleeping quarters...</td>\n",
       "      <td>63</td>\n",
       "      <td>en</td>\n",
       "      <td>A decent budget option.  The sleeping quarters...</td>\n",
       "    </tr>\n",
       "    <tr>\n",
       "      <th>18836</th>\n",
       "      <td>12162272</td>\n",
       "      <td>585653157</td>\n",
       "      <td>2020-01-01</td>\n",
       "      <td>78592878</td>\n",
       "      <td>Scott</td>\n",
       "      <td>Angelina's place was perfect for us. We stayed...</td>\n",
       "      <td>83</td>\n",
       "      <td>en</td>\n",
       "      <td>Angelina's place was perfect for us. We stayed...</td>\n",
       "    </tr>\n",
       "    <tr>\n",
       "      <th>15834</th>\n",
       "      <td>9967697</td>\n",
       "      <td>579576335</td>\n",
       "      <td>2019-12-21</td>\n",
       "      <td>11820016</td>\n",
       "      <td>Lea</td>\n",
       "      <td>L’auberge est top. Silencieuse, propre, flexib...</td>\n",
       "      <td>38</td>\n",
       "      <td>fr</td>\n",
       "      <td>The hostel is top. Silent, clean, flexible at ...</td>\n",
       "    </tr>\n",
       "    <tr>\n",
       "      <th>17664</th>\n",
       "      <td>11381088</td>\n",
       "      <td>108336181</td>\n",
       "      <td>2016-10-15</td>\n",
       "      <td>95691805</td>\n",
       "      <td>Summer</td>\n",
       "      <td>Such a lovely place ! everything is perfect , ...</td>\n",
       "      <td>46</td>\n",
       "      <td>en</td>\n",
       "      <td>Such a lovely place ! everything is perfect , ...</td>\n",
       "    </tr>\n",
       "    <tr>\n",
       "      <th>6785</th>\n",
       "      <td>5355795</td>\n",
       "      <td>526517982</td>\n",
       "      <td>2019-09-09</td>\n",
       "      <td>187997397</td>\n",
       "      <td>Chris</td>\n",
       "      <td>Preis Leistung ist super !\\nMetro Station vor ...</td>\n",
       "      <td>28</td>\n",
       "      <td>de</td>\n",
       "      <td>Price performance is great!  Metro station in ...</td>\n",
       "    </tr>\n",
       "    <tr>\n",
       "      <th>13089</th>\n",
       "      <td>8196417</td>\n",
       "      <td>129595122</td>\n",
       "      <td>2017-01-31</td>\n",
       "      <td>110379662</td>\n",
       "      <td>Cecilia Mae</td>\n",
       "      <td>Very good location to go around Singapore. MRT...</td>\n",
       "      <td>38</td>\n",
       "      <td>en</td>\n",
       "      <td>Very good location to go around Singapore. MRT...</td>\n",
       "    </tr>\n",
       "    <tr>\n",
       "      <th>26578</th>\n",
       "      <td>19595827</td>\n",
       "      <td>201263920</td>\n",
       "      <td>2017-10-08</td>\n",
       "      <td>112352013</td>\n",
       "      <td>Alison</td>\n",
       "      <td>Enjoyed a lovely, comfortable stay at Kay's pl...</td>\n",
       "      <td>85</td>\n",
       "      <td>en</td>\n",
       "      <td>Enjoyed a lovely, comfortable stay at Kay's pl...</td>\n",
       "    </tr>\n",
       "    <tr>\n",
       "      <th>33831</th>\n",
       "      <td>26309079</td>\n",
       "      <td>356683560</td>\n",
       "      <td>2018-12-09</td>\n",
       "      <td>81858731</td>\n",
       "      <td>David</td>\n",
       "      <td>Overall, a good spot to stay if you want to be...</td>\n",
       "      <td>71</td>\n",
       "      <td>en</td>\n",
       "      <td>Overall, a good spot to stay if you want to be...</td>\n",
       "    </tr>\n",
       "    <tr>\n",
       "      <th>21889</th>\n",
       "      <td>15722934</td>\n",
       "      <td>275862843</td>\n",
       "      <td>2018-06-12</td>\n",
       "      <td>24798698</td>\n",
       "      <td>Sandrine</td>\n",
       "      <td>I went several time to Alex location. It is ne...</td>\n",
       "      <td>19</td>\n",
       "      <td>en</td>\n",
       "      <td>I went several time to Alex location. It is ne...</td>\n",
       "    </tr>\n",
       "  </tbody>\n",
       "</table>\n",
       "</div>"
      ],
      "text/plain": [
       "       listing_id         id        date  reviewer_id reviewer_name  \\\n",
       "15133     9635192  324846743  2018-09-18    178751078       Wichaya   \n",
       "24732    17657915  432443430  2019-04-04      3035809           Tim   \n",
       "18836    12162272  585653157  2020-01-01     78592878         Scott   \n",
       "15834     9967697  579576335  2019-12-21     11820016           Lea   \n",
       "17664    11381088  108336181  2016-10-15     95691805        Summer   \n",
       "6785      5355795  526517982  2019-09-09    187997397         Chris   \n",
       "13089     8196417  129595122  2017-01-31    110379662   Cecilia Mae   \n",
       "26578    19595827  201263920  2017-10-08    112352013        Alison   \n",
       "33831    26309079  356683560  2018-12-09     81858731         David   \n",
       "21889    15722934  275862843  2018-06-12     24798698      Sandrine   \n",
       "\n",
       "                                                comments  length language  \\\n",
       "15133  Really nice place to stay, and great location....     271       en   \n",
       "24732  A decent budget option.  The sleeping quarters...      63       en   \n",
       "18836  Angelina's place was perfect for us. We stayed...      83       en   \n",
       "15834  L’auberge est top. Silencieuse, propre, flexib...      38       fr   \n",
       "17664  Such a lovely place ! everything is perfect , ...      46       en   \n",
       "6785   Preis Leistung ist super !\\nMetro Station vor ...      28       de   \n",
       "13089  Very good location to go around Singapore. MRT...      38       en   \n",
       "26578  Enjoyed a lovely, comfortable stay at Kay's pl...      85       en   \n",
       "33831  Overall, a good spot to stay if you want to be...      71       en   \n",
       "21889  I went several time to Alex location. It is ne...      19       en   \n",
       "\n",
       "                                             re_comments  \n",
       "15133  Really nice place to stay, and great location....  \n",
       "24732  A decent budget option.  The sleeping quarters...  \n",
       "18836  Angelina's place was perfect for us. We stayed...  \n",
       "15834  The hostel is top. Silent, clean, flexible at ...  \n",
       "17664  Such a lovely place ! everything is perfect , ...  \n",
       "6785   Price performance is great!  Metro station in ...  \n",
       "13089  Very good location to go around Singapore. MRT...  \n",
       "26578  Enjoyed a lovely, comfortable stay at Kay's pl...  \n",
       "33831  Overall, a good spot to stay if you want to be...  \n",
       "21889  I went several time to Alex location. It is ne...  "
      ]
     },
     "execution_count": 8,
     "metadata": {},
     "output_type": "execute_result"
    }
   ],
   "source": [
    "# Check random sample of size 10\n",
    "sample_size.sample(10)"
   ]
  },
  {
   "cell_type": "code",
   "execution_count": 9,
   "id": "c45f53cc",
   "metadata": {},
   "outputs": [],
   "source": [
    "# Get only samples with length of less than 100\n",
    "sample_size = sample_size[sample_size['length']<100]"
   ]
  },
  {
   "cell_type": "code",
   "execution_count": 10,
   "id": "889070b4",
   "metadata": {},
   "outputs": [],
   "source": [
    "# Dictionary of English contractions\n",
    "contractions_dict = { \"ain't\": \"are not\",\"'s\":\" is\",\"aren't\": \"are not\",\n",
    "                     \"can't\": \"cannot\",\"can't've\": \"cannot have\",\n",
    "                     \"'cause\": \"because\",\"could've\": \"could have\",\"couldn't\": \"could not\",\n",
    "                     \"couldn't've\": \"could not have\", \"didn't\": \"did not\",\"doesn't\": \"does not\",\n",
    "                     \"don't\": \"do not\",\"hadn't\": \"had not\",\"hadn't've\": \"had not have\",\n",
    "                     \"hasn't\": \"has not\",\"haven't\": \"have not\",\"he'd\": \"he would\",\n",
    "                     \"he'd've\": \"he would have\",\"he'll\": \"he will\", \"he'll've\": \"he will have\",\n",
    "                     \"how'd\": \"how did\",\"how'd'y\": \"how do you\",\"how'll\": \"how will\",\n",
    "                     \"I'd\": \"I would\", \"I'd've\": \"I would have\",\"I'll\": \"I will\",\n",
    "                     \"I'll've\": \"I will have\",\"I'm\": \"I am\",\"I've\": \"I have\", \"isn't\": \"is not\",\n",
    "                     \"it'd\": \"it would\",\"it'd've\": \"it would have\",\"it'll\": \"it will\",\n",
    "                     \"it'll've\": \"it will have\", \"let's\": \"let us\",\"ma'am\": \"madam\",\n",
    "                     \"mayn't\": \"may not\",\"might've\": \"might have\",\"mightn't\": \"might not\", \n",
    "                     \"mightn't've\": \"might not have\",\"must've\": \"must have\",\"mustn't\": \"must not\",\n",
    "                     \"mustn't've\": \"must not have\", \"needn't\": \"need not\",\n",
    "                     \"needn't've\": \"need not have\",\"o'clock\": \"of the clock\",\"oughtn't\": \"ought not\",\n",
    "                     \"oughtn't've\": \"ought not have\",\"shan't\": \"shall not\",\"sha'n't\": \"shall not\",\n",
    "                     \"shan't've\": \"shall not have\",\"she'd\": \"she would\",\"she'd've\": \"she would have\",\n",
    "                     \"she'll\": \"she will\", \"she'll've\": \"she will have\",\"should've\": \"should have\",\n",
    "                     \"shouldn't\": \"should not\", \"shouldn't've\": \"should not have\",\"so've\": \"so have\",\n",
    "                     \"that'd\": \"that would\",\"that'd've\": \"that would have\", \"there'd\": \"there would\",\n",
    "                     \"there'd've\": \"there would have\", \"they'd\": \"they would\",\n",
    "                     \"they'd've\": \"they would have\",\"they'll\": \"they will\",\n",
    "                     \"they'll've\": \"they will have\", \"they're\": \"they are\",\"they've\": \"they have\",\n",
    "                     \"to've\": \"to have\",\"wasn't\": \"was not\",\"we'd\": \"we would\",\n",
    "                     \"we'd've\": \"we would have\",\"we'll\": \"we will\",\"we'll've\": \"we will have\",\n",
    "                     \"we're\": \"we are\",\"we've\": \"we have\", \"weren't\": \"were not\",\"what'll\": \"what will\",\n",
    "                     \"what'll've\": \"what will have\",\"what're\": \"what are\", \"what've\": \"what have\",\n",
    "                     \"when've\": \"when have\",\"where'd\": \"where did\", \"where've\": \"where have\",\n",
    "                     \"who'll\": \"who will\",\"who'll've\": \"who will have\",\"who've\": \"who have\",\n",
    "                     \"why've\": \"why have\",\"will've\": \"will have\",\"won't\": \"will not\",\n",
    "                     \"won't've\": \"will not have\", \"would've\": \"would have\",\"wouldn't\": \"would not\",\n",
    "                     \"wouldn't've\": \"would not have\",\"y'all\": \"you all\", \"y'all'd\": \"you all would\",\n",
    "                     \"y'all'd've\": \"you all would have\",\"y'all're\": \"you all are\",\n",
    "                     \"y'all've\": \"you all have\", \"you'd\": \"you would\",\"you'd've\": \"you would have\",\n",
    "                     \"you'll\": \"you will\",\"you'll've\": \"you will have\", \"you're\": \"you are\",\n",
    "                     \"you've\": \"you have\"}\n",
    "\n",
    "# Regular expression for finding contractions\n",
    "contractions_re=re.compile('(%s)' % '|'.join(contractions_dict.keys()))\n",
    "\n",
    "# Replace contractions with full words\n",
    "def expand_contractions(text,contractions_dict=contractions_dict):\n",
    "    def replace(match):\n",
    "        return contractions_dict[match.group(0)]\n",
    "    return contractions_re.sub(replace, text)"
   ]
  },
  {
   "cell_type": "code",
   "execution_count": 11,
   "id": "760e7ad9",
   "metadata": {},
   "outputs": [],
   "source": [
    "# Create function to preprocess the sentences \n",
    "def review_to_words(review_text):\n",
    "\n",
    "    # Remove word contractions\n",
    "    review_text = expand_contractions(review_text)\n",
    "    \n",
    "    # Remove non-letters.\n",
    "    review_text = re.sub(\"[^a-zA-Z0-9.,]\", \" \", review_text)\n",
    "    \n",
    "    # Add space in fron of comma to retain comma after split\n",
    "    review_text = review_text.replace(',',' ,')\n",
    "    review_text = review_text.replace('.',' .')\n",
    "    \n",
    "    # Split into individual words.\n",
    "    words = review_text.split()\n",
    "    \n",
    "    return (words)"
   ]
  },
  {
   "cell_type": "code",
   "execution_count": 12,
   "id": "revolutionary-bench",
   "metadata": {},
   "outputs": [],
   "source": [
    "# Run the function across the reviews of sample size = 125\n",
    "samples = [review_to_words(s) for s in sample_size.sample(125)['re_comments']]"
   ]
  },
  {
   "cell_type": "code",
   "execution_count": 13,
   "id": "accepting-questionnaire",
   "metadata": {
    "scrolled": true
   },
   "outputs": [
    {
     "data": {
      "text/plain": [
       "['This',\n",
       " 'was',\n",
       " 'a',\n",
       " 'great',\n",
       " 'place',\n",
       " 'to',\n",
       " 'stay',\n",
       " 'The',\n",
       " 'host',\n",
       " 'was',\n",
       " 'friendly',\n",
       " 'and',\n",
       " 'welcoming',\n",
       " 'and',\n",
       " 'the',\n",
       " 'room',\n",
       " 'was',\n",
       " 'very',\n",
       " 'comfortable',\n",
       " '.',\n",
       " 'Moreover',\n",
       " 'the',\n",
       " 'location',\n",
       " 'was',\n",
       " 'perfect',\n",
       " 'there',\n",
       " 'was',\n",
       " 'so',\n",
       " 'much',\n",
       " 'to',\n",
       " 'see',\n",
       " 'within',\n",
       " 'walking',\n",
       " 'distance',\n",
       " 'in',\n",
       " 'Chinatown',\n",
       " ',',\n",
       " 'and',\n",
       " 'the',\n",
       " 'apartment',\n",
       " 'was',\n",
       " 'also',\n",
       " 'right',\n",
       " 'on',\n",
       " 'top',\n",
       " 'of',\n",
       " 'the',\n",
       " 'Chinatown',\n",
       " 'MRT',\n",
       " 'station',\n",
       " ',',\n",
       " 'giving',\n",
       " 'easy',\n",
       " 'access',\n",
       " 'to',\n",
       " 'the',\n",
       " 'whole',\n",
       " 'city',\n",
       " '.',\n",
       " 'Highly',\n",
       " 'recommended']"
      ]
     },
     "execution_count": 13,
     "metadata": {},
     "output_type": "execute_result"
    }
   ],
   "source": [
    "# Check the first review sample\n",
    "samples[0]"
   ]
  },
  {
   "cell_type": "code",
   "execution_count": 14,
   "id": "soviet-saturn",
   "metadata": {},
   "outputs": [
    {
     "data": {
      "text/plain": [
       "125"
      ]
     },
     "execution_count": 14,
     "metadata": {},
     "output_type": "execute_result"
    }
   ],
   "source": [
    "# Check length of sample list\n",
    "len(samples)"
   ]
  },
  {
   "cell_type": "code",
   "execution_count": 15,
   "id": "ancient-baltimore",
   "metadata": {},
   "outputs": [
    {
     "data": {
      "text/html": [
       "<div>\n",
       "<style scoped>\n",
       "    .dataframe tbody tr th:only-of-type {\n",
       "        vertical-align: middle;\n",
       "    }\n",
       "\n",
       "    .dataframe tbody tr th {\n",
       "        vertical-align: top;\n",
       "    }\n",
       "\n",
       "    .dataframe thead th {\n",
       "        text-align: right;\n",
       "    }\n",
       "</style>\n",
       "<table border=\"1\" class=\"dataframe\">\n",
       "  <thead>\n",
       "    <tr style=\"text-align: right;\">\n",
       "      <th></th>\n",
       "      <th>num</th>\n",
       "      <th>sentence</th>\n",
       "    </tr>\n",
       "  </thead>\n",
       "  <tbody>\n",
       "    <tr>\n",
       "      <th>0</th>\n",
       "      <td>1</td>\n",
       "      <td>[This, was, a, great, place, to, stay, The, ho...</td>\n",
       "    </tr>\n",
       "    <tr>\n",
       "      <th>1</th>\n",
       "      <td>2</td>\n",
       "      <td>[Value, for, money, ,, walking, distance, to, ...</td>\n",
       "    </tr>\n",
       "    <tr>\n",
       "      <th>2</th>\n",
       "      <td>3</td>\n",
       "      <td>[I, was, transferred, to, the, Tanjong, Pagar,...</td>\n",
       "    </tr>\n",
       "    <tr>\n",
       "      <th>3</th>\n",
       "      <td>4</td>\n",
       "      <td>[Great, staff, and, nice, place, ., The, photo...</td>\n",
       "    </tr>\n",
       "    <tr>\n",
       "      <th>4</th>\n",
       "      <td>5</td>\n",
       "      <td>[I, had, a, nice, stay, at, Atlantis, Pods, Ch...</td>\n",
       "    </tr>\n",
       "  </tbody>\n",
       "</table>\n",
       "</div>"
      ],
      "text/plain": [
       "   num                                           sentence\n",
       "0    1  [This, was, a, great, place, to, stay, The, ho...\n",
       "1    2  [Value, for, money, ,, walking, distance, to, ...\n",
       "2    3  [I, was, transferred, to, the, Tanjong, Pagar,...\n",
       "3    4  [Great, staff, and, nice, place, ., The, photo...\n",
       "4    5  [I, had, a, nice, stay, at, Atlantis, Pods, Ch..."
      ]
     },
     "execution_count": 15,
     "metadata": {},
     "output_type": "execute_result"
    }
   ],
   "source": [
    "# Create a df\n",
    "sample_train = pd.DataFrame()\n",
    "\n",
    "# Add list into df\n",
    "sample_train['sentence'] = samples\n",
    "\n",
    "# Number the reviews so that we can expand and merge in further steps\n",
    "sample_train['num'] = [i+1 for i in range(len(samples))]\n",
    "\n",
    "# Rearrange column and check df\n",
    "sample_train = sample_train[['num', 'sentence']]\n",
    "sample_train.head()"
   ]
  },
  {
   "cell_type": "code",
   "execution_count": 16,
   "id": "manual-ceiling",
   "metadata": {},
   "outputs": [
    {
     "data": {
      "text/html": [
       "<div>\n",
       "<style scoped>\n",
       "    .dataframe tbody tr th:only-of-type {\n",
       "        vertical-align: middle;\n",
       "    }\n",
       "\n",
       "    .dataframe tbody tr th {\n",
       "        vertical-align: top;\n",
       "    }\n",
       "\n",
       "    .dataframe thead th {\n",
       "        text-align: right;\n",
       "    }\n",
       "</style>\n",
       "<table border=\"1\" class=\"dataframe\">\n",
       "  <thead>\n",
       "    <tr style=\"text-align: right;\">\n",
       "      <th></th>\n",
       "      <th>num</th>\n",
       "      <th>sentence</th>\n",
       "    </tr>\n",
       "  </thead>\n",
       "  <tbody>\n",
       "    <tr>\n",
       "      <th>0</th>\n",
       "      <td>1</td>\n",
       "      <td>This</td>\n",
       "    </tr>\n",
       "    <tr>\n",
       "      <th>0</th>\n",
       "      <td>1</td>\n",
       "      <td>was</td>\n",
       "    </tr>\n",
       "    <tr>\n",
       "      <th>0</th>\n",
       "      <td>1</td>\n",
       "      <td>a</td>\n",
       "    </tr>\n",
       "    <tr>\n",
       "      <th>0</th>\n",
       "      <td>1</td>\n",
       "      <td>great</td>\n",
       "    </tr>\n",
       "    <tr>\n",
       "      <th>0</th>\n",
       "      <td>1</td>\n",
       "      <td>place</td>\n",
       "    </tr>\n",
       "  </tbody>\n",
       "</table>\n",
       "</div>"
      ],
      "text/plain": [
       "   num sentence\n",
       "0    1     This\n",
       "0    1      was\n",
       "0    1        a\n",
       "0    1    great\n",
       "0    1    place"
      ]
     },
     "execution_count": 16,
     "metadata": {},
     "output_type": "execute_result"
    }
   ],
   "source": [
    "# Un-nest the words inside the sentence column so that we can perform manual annotation\n",
    "sample_train = sample_train.explode('sentence')\n",
    "\n",
    "# Check df\n",
    "sample_train.head()"
   ]
  },
  {
   "cell_type": "code",
   "execution_count": 17,
   "id": "patient-monitoring",
   "metadata": {},
   "outputs": [],
   "source": [
    "# Due to run-ability check and re-run purpose, below code is masked out\n",
    "\n",
    "# Essentially, we will export the csv to perform manual annotation\n",
    "\n",
    "sample_train.to_csv('../../data/manual_annotate_sample.csv')"
   ]
  },
  {
   "cell_type": "markdown",
   "id": "polar-benjamin",
   "metadata": {},
   "source": [
    "## Manual Annotation\n",
    "\n",
    "After export to csv, we will use excel to perform manual annotation in new 'tag' column, then re-import again using the same csv file"
   ]
  },
  {
   "cell_type": "markdown",
   "id": "cathedral-formula",
   "metadata": {},
   "source": [
    "<img src=\"../../images/manual_anno_shot.png\" width=\"200\">"
   ]
  },
  {
   "cell_type": "markdown",
   "id": "instructional-promise",
   "metadata": {},
   "source": [
    "Manual annotation will be based on IOB format with tags similar to the pre-annotated dataset.\n",
    "\n",
    "Available tags:  \n",
    "geo / gpe / org / per / tim / eve / art\n",
    "\n",
    "IOB format prefix:  \n",
    "B - beginning  \n",
    "I - inside  \n",
    "O - outside  \n",
    "\n",
    "Due to class imbalance (majority is O), 'O' will not be labelled and just filled in with Python .fillna instead"
   ]
  },
  {
   "cell_type": "code",
   "execution_count": 19,
   "id": "governing-linux",
   "metadata": {},
   "outputs": [],
   "source": [
    "# After manual annotation, reload the csv file\n",
    "sample_train = pd.read_csv('../../data/manual_annotate_sample.csv')"
   ]
  },
  {
   "cell_type": "code",
   "execution_count": 20,
   "id": "green-district",
   "metadata": {},
   "outputs": [],
   "source": [
    "# Fill NA with 'O' as mentioned\n",
    "sample_train.drop(columns='Unnamed: 0',inplace=True)\n",
    "sample_train.fillna('O', inplace=True)"
   ]
  },
  {
   "cell_type": "code",
   "execution_count": 21,
   "id": "5015dbdf",
   "metadata": {},
   "outputs": [
    {
     "data": {
      "text/html": [
       "<div>\n",
       "<style scoped>\n",
       "    .dataframe tbody tr th:only-of-type {\n",
       "        vertical-align: middle;\n",
       "    }\n",
       "\n",
       "    .dataframe tbody tr th {\n",
       "        vertical-align: top;\n",
       "    }\n",
       "\n",
       "    .dataframe thead th {\n",
       "        text-align: right;\n",
       "    }\n",
       "</style>\n",
       "<table border=\"1\" class=\"dataframe\">\n",
       "  <thead>\n",
       "    <tr style=\"text-align: right;\">\n",
       "      <th></th>\n",
       "      <th>num</th>\n",
       "      <th>sentence</th>\n",
       "      <th>tag</th>\n",
       "    </tr>\n",
       "  </thead>\n",
       "  <tbody>\n",
       "    <tr>\n",
       "      <th>0</th>\n",
       "      <td>1</td>\n",
       "      <td>This</td>\n",
       "      <td>O</td>\n",
       "    </tr>\n",
       "    <tr>\n",
       "      <th>1</th>\n",
       "      <td>1</td>\n",
       "      <td>was</td>\n",
       "      <td>O</td>\n",
       "    </tr>\n",
       "    <tr>\n",
       "      <th>2</th>\n",
       "      <td>1</td>\n",
       "      <td>a</td>\n",
       "      <td>O</td>\n",
       "    </tr>\n",
       "    <tr>\n",
       "      <th>3</th>\n",
       "      <td>1</td>\n",
       "      <td>great</td>\n",
       "      <td>O</td>\n",
       "    </tr>\n",
       "    <tr>\n",
       "      <th>4</th>\n",
       "      <td>1</td>\n",
       "      <td>place</td>\n",
       "      <td>O</td>\n",
       "    </tr>\n",
       "  </tbody>\n",
       "</table>\n",
       "</div>"
      ],
      "text/plain": [
       "   num sentence tag\n",
       "0    1     This   O\n",
       "1    1      was   O\n",
       "2    1        a   O\n",
       "3    1    great   O\n",
       "4    1    place   O"
      ]
     },
     "execution_count": 21,
     "metadata": {},
     "output_type": "execute_result"
    }
   ],
   "source": [
    "# Check df\n",
    "sample_train.head()"
   ]
  },
  {
   "cell_type": "code",
   "execution_count": 22,
   "id": "attached-guide",
   "metadata": {},
   "outputs": [
    {
     "data": {
      "image/png": "[encoded data removed]",
      "text/plain": [
       "<Figure size 720x432 with 1 Axes>"
      ]
     },
     "metadata": {
      "needs_background": "light"
     },
     "output_type": "display_data"
    }
   ],
   "source": [
    "# Check distribution of tags\n",
    "fig = plt.figure(figsize=(10,6))\n",
    "sns.countplot(data=sample_train, x='tag')\n",
    "plt.title('Tag Count');"
   ]
  },
  {
   "cell_type": "markdown",
   "id": "second-cover",
   "metadata": {},
   "source": [
    "Similar to our pre-annotated dataset, there is a huge imbalance of class 'O'. Hence, we will need to rely on other metrics such as recall or precision or f1 in the later stages."
   ]
  },
  {
   "cell_type": "code",
   "execution_count": 23,
   "id": "private-directory",
   "metadata": {},
   "outputs": [],
   "source": [
    "# Save the final sample df to be used in the LSTM model (masked out due to re-run purpose)\n",
    "\n",
    "#sample_train.to_csv('../../data/manual_annotate_sample.csv')"
   ]
  }
 ],
 "metadata": {
  "kernelspec": {
   "display_name": "Python 3",
   "language": "python",
   "name": "python3"
  },
  "language_info": {
   "codemirror_mode": {
    "name": "ipython",
    "version": 3
   },
   "file_extension": ".py",
   "mimetype": "text/x-python",
   "name": "python",
   "nbconvert_exporter": "python",
   "pygments_lexer": "ipython3",
   "version": "3.8.5"
  }
 },
 "nbformat": 4,
 "nbformat_minor": 5
}
