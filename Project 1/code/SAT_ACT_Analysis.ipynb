{
 "cells": [
  {
   "cell_type": "markdown",
   "metadata": {},
   "source": [
    "# Project 1: SAT & ACT Analysis"
   ]
  },
  {
   "cell_type": "markdown",
   "metadata": {},
   "source": [
    "The first markdown cell in a notebook is a great place to provide an overview of your entire project. You will likely want to at least state your\n",
    "\n",
    "## Problem Statement"
   ]
  },
  {
   "cell_type": "markdown",
   "metadata": {},
   "source": [
    "The College Board is a non-profit that connects students to college success and opportunity. As part of our work, we want to track statewide participation and recommend where money is best spent to improve SAT participation rates. It is important to address this because this affects the future of all stakeholders, notably the future of the state and country itself.\n",
    "\n",
    "Using data of SAT and ACT scores and participation rates from each state in the United States (from 2017 to 2018), we'll seek to identify trends in the data and combine our data analysis with outside research to identify likely factors influencing participation rates and scores in various states.\n",
    "\n",
    "The state that we would like to work on is Iowa. Iowa has one of the lowest SAT participation (2-3%) along with one of the highest SAT total score, but is also able to churn out above average ACT composite scores (21.8-21.9) despite having mid-range participation in ACT."
   ]
  },
  {
   "cell_type": "markdown",
   "metadata": {},
   "source": [
    "## Executive Summary\n",
    "\n",
    "If you want to, it's great to use relative links to direct your audience to various sections of a notebook. **HERE'S A DEMONSTRATION WITH THE CURRENT SECTION HEADERS**:\n",
    "\n",
    "### Contents:\n",
    "- [2017 Data Import & Cleaning](#2017-Data-Import-and-Cleaning)\n",
    "- [2018 Data Import and Cleaning](#2018-Data-Import-and-Cleaning)\n",
    "- [Exploratory Data Analysis](#Exploratory-Data-Analysis)\n",
    "- [Data Visualization](#Visualize-the-data)\n",
    "- [Descriptive and Inferential Statistics](#Descriptive-and-Inferential-Statistics)\n",
    "- [Outside Research](#Outside-Research)\n",
    "- [Conclusions and Recommendations](#Conclusions-and-Recommendations)"
   ]
  },
  {
   "cell_type": "markdown",
   "metadata": {},
   "source": [
    "**If you combine your problem statement, executive summary, data dictionary, and conclusions/recommendations, you have an amazing README.md file that quickly aligns your audience to the contents of your project.** Don't forget to cite your data sources!"
   ]
  },
  {
   "cell_type": "markdown",
   "metadata": {},
   "source": [
    "*All libraries used should be added here*"
   ]
  },
  {
   "cell_type": "code",
   "execution_count": 1,
   "metadata": {},
   "outputs": [],
   "source": [
    "#Imports:\n",
    "import pandas as pd\n",
    "import numpy as np\n",
    "import matplotlib.pyplot as plt\n",
    "import seaborn as sns"
   ]
  },
  {
   "cell_type": "markdown",
   "metadata": {},
   "source": [
    "## 2017 Data Import and Cleaning"
   ]
  },
  {
   "cell_type": "markdown",
   "metadata": {},
   "source": [
    "#### 1. Read In SAT & ACT  Data\n",
    "\n",
    "Read in the `sat_2017.csv` and `act_2017.csv` files and assign them to appropriately named pandas dataframes."
   ]
  },
  {
   "cell_type": "code",
   "execution_count": 2,
   "metadata": {},
   "outputs": [],
   "source": [
    "#Read in SAT and ACT data for 2017\n",
    "sat_2017 = pd.read_csv('../data/sat_2017.csv')\n",
    "act_2017 = pd.read_csv('../data/act_2017.csv')"
   ]
  },
  {
   "cell_type": "markdown",
   "metadata": {},
   "source": [
    "#### 2. Display Data\n",
    "\n",
    "Print the first 10 rows of each dataframe to your jupyter notebook"
   ]
  },
  {
   "cell_type": "code",
   "execution_count": 3,
   "metadata": {
    "scrolled": true
   },
   "outputs": [
    {
     "data": {
      "text/html": [
       "<div>\n",
       "<style scoped>\n",
       "    .dataframe tbody tr th:only-of-type {\n",
       "        vertical-align: middle;\n",
       "    }\n",
       "\n",
       "    .dataframe tbody tr th {\n",
       "        vertical-align: top;\n",
       "    }\n",
       "\n",
       "    .dataframe thead th {\n",
       "        text-align: right;\n",
       "    }\n",
       "</style>\n",
       "<table border=\"1\" class=\"dataframe\">\n",
       "  <thead>\n",
       "    <tr style=\"text-align: right;\">\n",
       "      <th></th>\n",
       "      <th>State</th>\n",
       "      <th>Participation</th>\n",
       "      <th>Evidence-Based Reading and Writing</th>\n",
       "      <th>Math</th>\n",
       "      <th>Total</th>\n",
       "    </tr>\n",
       "  </thead>\n",
       "  <tbody>\n",
       "    <tr>\n",
       "      <th>0</th>\n",
       "      <td>Alabama</td>\n",
       "      <td>5%</td>\n",
       "      <td>593</td>\n",
       "      <td>572</td>\n",
       "      <td>1165</td>\n",
       "    </tr>\n",
       "    <tr>\n",
       "      <th>1</th>\n",
       "      <td>Alaska</td>\n",
       "      <td>38%</td>\n",
       "      <td>547</td>\n",
       "      <td>533</td>\n",
       "      <td>1080</td>\n",
       "    </tr>\n",
       "    <tr>\n",
       "      <th>2</th>\n",
       "      <td>Arizona</td>\n",
       "      <td>30%</td>\n",
       "      <td>563</td>\n",
       "      <td>553</td>\n",
       "      <td>1116</td>\n",
       "    </tr>\n",
       "    <tr>\n",
       "      <th>3</th>\n",
       "      <td>Arkansas</td>\n",
       "      <td>3%</td>\n",
       "      <td>614</td>\n",
       "      <td>594</td>\n",
       "      <td>1208</td>\n",
       "    </tr>\n",
       "    <tr>\n",
       "      <th>4</th>\n",
       "      <td>California</td>\n",
       "      <td>53%</td>\n",
       "      <td>531</td>\n",
       "      <td>524</td>\n",
       "      <td>1055</td>\n",
       "    </tr>\n",
       "    <tr>\n",
       "      <th>5</th>\n",
       "      <td>Colorado</td>\n",
       "      <td>11%</td>\n",
       "      <td>606</td>\n",
       "      <td>595</td>\n",
       "      <td>1201</td>\n",
       "    </tr>\n",
       "    <tr>\n",
       "      <th>6</th>\n",
       "      <td>Connecticut</td>\n",
       "      <td>100%</td>\n",
       "      <td>530</td>\n",
       "      <td>512</td>\n",
       "      <td>1041</td>\n",
       "    </tr>\n",
       "    <tr>\n",
       "      <th>7</th>\n",
       "      <td>Delaware</td>\n",
       "      <td>100%</td>\n",
       "      <td>503</td>\n",
       "      <td>492</td>\n",
       "      <td>996</td>\n",
       "    </tr>\n",
       "    <tr>\n",
       "      <th>8</th>\n",
       "      <td>District of Columbia</td>\n",
       "      <td>100%</td>\n",
       "      <td>482</td>\n",
       "      <td>468</td>\n",
       "      <td>950</td>\n",
       "    </tr>\n",
       "    <tr>\n",
       "      <th>9</th>\n",
       "      <td>Florida</td>\n",
       "      <td>83%</td>\n",
       "      <td>520</td>\n",
       "      <td>497</td>\n",
       "      <td>1017</td>\n",
       "    </tr>\n",
       "  </tbody>\n",
       "</table>\n",
       "</div>"
      ],
      "text/plain": [
       "                  State Participation  Evidence-Based Reading and Writing  \\\n",
       "0               Alabama            5%                                 593   \n",
       "1                Alaska           38%                                 547   \n",
       "2               Arizona           30%                                 563   \n",
       "3              Arkansas            3%                                 614   \n",
       "4            California           53%                                 531   \n",
       "5              Colorado           11%                                 606   \n",
       "6           Connecticut          100%                                 530   \n",
       "7              Delaware          100%                                 503   \n",
       "8  District of Columbia          100%                                 482   \n",
       "9               Florida           83%                                 520   \n",
       "\n",
       "   Math  Total  \n",
       "0   572   1165  \n",
       "1   533   1080  \n",
       "2   553   1116  \n",
       "3   594   1208  \n",
       "4   524   1055  \n",
       "5   595   1201  \n",
       "6   512   1041  \n",
       "7   492    996  \n",
       "8   468    950  \n",
       "9   497   1017  "
      ]
     },
     "execution_count": 3,
     "metadata": {},
     "output_type": "execute_result"
    }
   ],
   "source": [
    "#Check first 10rows of either data\n",
    "sat_2017.head(10)"
   ]
  },
  {
   "cell_type": "code",
   "execution_count": 4,
   "metadata": {},
   "outputs": [
    {
     "data": {
      "text/html": [
       "<div>\n",
       "<style scoped>\n",
       "    .dataframe tbody tr th:only-of-type {\n",
       "        vertical-align: middle;\n",
       "    }\n",
       "\n",
       "    .dataframe tbody tr th {\n",
       "        vertical-align: top;\n",
       "    }\n",
       "\n",
       "    .dataframe thead th {\n",
       "        text-align: right;\n",
       "    }\n",
       "</style>\n",
       "<table border=\"1\" class=\"dataframe\">\n",
       "  <thead>\n",
       "    <tr style=\"text-align: right;\">\n",
       "      <th></th>\n",
       "      <th>State</th>\n",
       "      <th>Participation</th>\n",
       "      <th>English</th>\n",
       "      <th>Math</th>\n",
       "      <th>Reading</th>\n",
       "      <th>Science</th>\n",
       "      <th>Composite</th>\n",
       "    </tr>\n",
       "  </thead>\n",
       "  <tbody>\n",
       "    <tr>\n",
       "      <th>0</th>\n",
       "      <td>National</td>\n",
       "      <td>60%</td>\n",
       "      <td>20.3</td>\n",
       "      <td>20.7</td>\n",
       "      <td>21.4</td>\n",
       "      <td>21.0</td>\n",
       "      <td>21.0</td>\n",
       "    </tr>\n",
       "    <tr>\n",
       "      <th>1</th>\n",
       "      <td>Alabama</td>\n",
       "      <td>100%</td>\n",
       "      <td>18.9</td>\n",
       "      <td>18.4</td>\n",
       "      <td>19.7</td>\n",
       "      <td>19.4</td>\n",
       "      <td>19.2</td>\n",
       "    </tr>\n",
       "    <tr>\n",
       "      <th>2</th>\n",
       "      <td>Alaska</td>\n",
       "      <td>65%</td>\n",
       "      <td>18.7</td>\n",
       "      <td>19.8</td>\n",
       "      <td>20.4</td>\n",
       "      <td>19.9</td>\n",
       "      <td>19.8</td>\n",
       "    </tr>\n",
       "    <tr>\n",
       "      <th>3</th>\n",
       "      <td>Arizona</td>\n",
       "      <td>62%</td>\n",
       "      <td>18.6</td>\n",
       "      <td>19.8</td>\n",
       "      <td>20.1</td>\n",
       "      <td>19.8</td>\n",
       "      <td>19.7</td>\n",
       "    </tr>\n",
       "    <tr>\n",
       "      <th>4</th>\n",
       "      <td>Arkansas</td>\n",
       "      <td>100%</td>\n",
       "      <td>18.9</td>\n",
       "      <td>19.0</td>\n",
       "      <td>19.7</td>\n",
       "      <td>19.5</td>\n",
       "      <td>19.4</td>\n",
       "    </tr>\n",
       "    <tr>\n",
       "      <th>5</th>\n",
       "      <td>California</td>\n",
       "      <td>31%</td>\n",
       "      <td>22.5</td>\n",
       "      <td>22.7</td>\n",
       "      <td>23.1</td>\n",
       "      <td>22.2</td>\n",
       "      <td>22.8</td>\n",
       "    </tr>\n",
       "    <tr>\n",
       "      <th>6</th>\n",
       "      <td>Colorado</td>\n",
       "      <td>100%</td>\n",
       "      <td>20.1</td>\n",
       "      <td>20.3</td>\n",
       "      <td>21.2</td>\n",
       "      <td>20.9</td>\n",
       "      <td>20.8</td>\n",
       "    </tr>\n",
       "    <tr>\n",
       "      <th>7</th>\n",
       "      <td>Connecticut</td>\n",
       "      <td>31%</td>\n",
       "      <td>25.5</td>\n",
       "      <td>24.6</td>\n",
       "      <td>25.6</td>\n",
       "      <td>24.6</td>\n",
       "      <td>25.2</td>\n",
       "    </tr>\n",
       "    <tr>\n",
       "      <th>8</th>\n",
       "      <td>Delaware</td>\n",
       "      <td>18%</td>\n",
       "      <td>24.1</td>\n",
       "      <td>23.4</td>\n",
       "      <td>24.8</td>\n",
       "      <td>23.6</td>\n",
       "      <td>24.1</td>\n",
       "    </tr>\n",
       "    <tr>\n",
       "      <th>9</th>\n",
       "      <td>District of Columbia</td>\n",
       "      <td>32%</td>\n",
       "      <td>24.4</td>\n",
       "      <td>23.5</td>\n",
       "      <td>24.9</td>\n",
       "      <td>23.5</td>\n",
       "      <td>24.2</td>\n",
       "    </tr>\n",
       "  </tbody>\n",
       "</table>\n",
       "</div>"
      ],
      "text/plain": [
       "                  State Participation  English  Math  Reading  Science  \\\n",
       "0              National           60%     20.3  20.7     21.4     21.0   \n",
       "1               Alabama          100%     18.9  18.4     19.7     19.4   \n",
       "2                Alaska           65%     18.7  19.8     20.4     19.9   \n",
       "3               Arizona           62%     18.6  19.8     20.1     19.8   \n",
       "4              Arkansas          100%     18.9  19.0     19.7     19.5   \n",
       "5            California           31%     22.5  22.7     23.1     22.2   \n",
       "6              Colorado          100%     20.1  20.3     21.2     20.9   \n",
       "7           Connecticut           31%     25.5  24.6     25.6     24.6   \n",
       "8              Delaware           18%     24.1  23.4     24.8     23.6   \n",
       "9  District of Columbia           32%     24.4  23.5     24.9     23.5   \n",
       "\n",
       "  Composite  \n",
       "0      21.0  \n",
       "1      19.2  \n",
       "2      19.8  \n",
       "3      19.7  \n",
       "4      19.4  \n",
       "5      22.8  \n",
       "6      20.8  \n",
       "7      25.2  \n",
       "8      24.1  \n",
       "9      24.2  "
      ]
     },
     "execution_count": 4,
     "metadata": {},
     "output_type": "execute_result"
    }
   ],
   "source": [
    "#Check first 10rows of either data\n",
    "act_2017.head(10)"
   ]
  },
  {
   "cell_type": "markdown",
   "metadata": {},
   "source": [
    "#### 3. Verbally Describe Data\n",
    "\n",
    "Take your time looking through the data and thoroughly describe the data in the markdown cell below. "
   ]
  },
  {
   "cell_type": "markdown",
   "metadata": {},
   "source": [
    "Answer:  \n",
    "The data lists out\n",
    "1. all the states that participated in each exam (SAT/ACT)\n",
    "2. the participation rate of students in each state taking the exam (SAT/ACT)\n",
    "3. the average scores of each test to be taken by students\n",
    "4. the final score/grade for each state\n",
    "5. There is also a dedicated entry in ACT that computes the national score/grade"
   ]
  },
  {
   "cell_type": "markdown",
   "metadata": {},
   "source": [
    "#### 4a. Does the data look complete? "
   ]
  },
  {
   "cell_type": "code",
   "execution_count": 5,
   "metadata": {},
   "outputs": [
    {
     "name": "stdout",
     "output_type": "stream",
     "text": [
      "<class 'pandas.core.frame.DataFrame'>\n",
      "RangeIndex: 51 entries, 0 to 50\n",
      "Data columns (total 5 columns):\n",
      " #   Column                              Non-Null Count  Dtype \n",
      "---  ------                              --------------  ----- \n",
      " 0   State                               51 non-null     object\n",
      " 1   Participation                       51 non-null     object\n",
      " 2   Evidence-Based Reading and Writing  51 non-null     int64 \n",
      " 3   Math                                51 non-null     int64 \n",
      " 4   Total                               51 non-null     int64 \n",
      "dtypes: int64(3), object(2)\n",
      "memory usage: 2.1+ KB\n"
     ]
    }
   ],
   "source": [
    "#Check data of SAT 2017 for missing values\n",
    "sat_2017.info()"
   ]
  },
  {
   "cell_type": "code",
   "execution_count": 6,
   "metadata": {},
   "outputs": [
    {
     "name": "stdout",
     "output_type": "stream",
     "text": [
      "<class 'pandas.core.frame.DataFrame'>\n",
      "RangeIndex: 52 entries, 0 to 51\n",
      "Data columns (total 7 columns):\n",
      " #   Column         Non-Null Count  Dtype  \n",
      "---  ------         --------------  -----  \n",
      " 0   State          52 non-null     object \n",
      " 1   Participation  52 non-null     object \n",
      " 2   English        52 non-null     float64\n",
      " 3   Math           52 non-null     float64\n",
      " 4   Reading        52 non-null     float64\n",
      " 5   Science        52 non-null     float64\n",
      " 6   Composite      52 non-null     object \n",
      "dtypes: float64(4), object(3)\n",
      "memory usage: 3.0+ KB\n"
     ]
    }
   ],
   "source": [
    "#Check data of ACT 2017 for missing values\n",
    "act_2017.info()"
   ]
  },
  {
   "cell_type": "markdown",
   "metadata": {},
   "source": [
    "Answer:   \n",
    "Yes, the data looks complete. There is no missing entry/values (count of data is tallied)."
   ]
  },
  {
   "cell_type": "markdown",
   "metadata": {},
   "source": [
    "#### 4b. Are there any obvious issues with the observations?\n",
    "\n",
    "**What is the minimum *possible* value for each test/subtest? What is the maximum *possible* value?**\n",
    "\n",
    "Consider comparing any questionable values to the sources of your data:\n",
    "- [SAT](https://blog.collegevine.com/here-are-the-average-sat-scores-by-state/)\n",
    "- [ACT](https://blog.prepscholar.com/act-scores-by-state-averages-highs-and-lows)"
   ]
  },
  {
   "cell_type": "code",
   "execution_count": 7,
   "metadata": {},
   "outputs": [
    {
     "data": {
      "text/plain": [
       "English    16.3\n",
       "Math       18.0\n",
       "Reading    18.1\n",
       "Science     2.3\n",
       "dtype: float64"
      ]
     },
     "execution_count": 7,
     "metadata": {},
     "output_type": "execute_result"
    }
   ],
   "source": [
    "#ACT Minimum values\n",
    "act_2017[['English','Math','Reading','Science']].min()"
   ]
  },
  {
   "cell_type": "code",
   "execution_count": 8,
   "metadata": {},
   "outputs": [
    {
     "data": {
      "text/plain": [
       "English    25.5\n",
       "Math       25.3\n",
       "Reading    26.0\n",
       "Science    24.9\n",
       "dtype: float64"
      ]
     },
     "execution_count": 8,
     "metadata": {},
     "output_type": "execute_result"
    }
   ],
   "source": [
    "#ACT Maximum values\n",
    "act_2017[['English','Math','Reading','Science']].max()"
   ]
  },
  {
   "cell_type": "code",
   "execution_count": 9,
   "metadata": {},
   "outputs": [
    {
     "data": {
      "text/plain": [
       "Evidence-Based Reading and Writing    482\n",
       "Math                                   52\n",
       "dtype: int64"
      ]
     },
     "execution_count": 9,
     "metadata": {},
     "output_type": "execute_result"
    }
   ],
   "source": [
    "#SAT Minimum values\n",
    "sat_2017[['Evidence-Based Reading and Writing','Math']].min()"
   ]
  },
  {
   "cell_type": "code",
   "execution_count": 10,
   "metadata": {},
   "outputs": [
    {
     "data": {
      "text/plain": [
       "Evidence-Based Reading and Writing    644\n",
       "Math                                  651\n",
       "dtype: int64"
      ]
     },
     "execution_count": 10,
     "metadata": {},
     "output_type": "execute_result"
    }
   ],
   "source": [
    "#SAT Max values\n",
    "sat_2017[['Evidence-Based Reading and Writing','Math']].max()"
   ]
  },
  {
   "cell_type": "markdown",
   "metadata": {},
   "source": [
    "Answer:   \n",
    "1. ACT Minimum Science score is only 2.3 (far too low below rest of scores)\n",
    "2. SAT Minimum Math score is only 52 (far too low below rest of scores)"
   ]
  },
  {
   "cell_type": "markdown",
   "metadata": {},
   "source": [
    "#### 4c. Fix any errors you identified\n",
    "\n",
    "**The data is available** so there's no need to guess or calculate anything. If you didn't find any errors, continue to the next step."
   ]
  },
  {
   "cell_type": "code",
   "execution_count": 11,
   "metadata": {},
   "outputs": [],
   "source": [
    "#Set Maryland Math SAT score to '524'\n",
    "sat_2017.loc[20,'Math'] = 524"
   ]
  },
  {
   "cell_type": "markdown",
   "metadata": {},
   "source": [
    "**Maryland SAT Math scores is 524**"
   ]
  },
  {
   "cell_type": "code",
   "execution_count": 12,
   "metadata": {},
   "outputs": [],
   "source": [
    "#Set Maryland Science ACT score to '23.2'\n",
    "act_2017.loc[21,'Science'] = 23.2"
   ]
  },
  {
   "cell_type": "markdown",
   "metadata": {},
   "source": [
    "**Maryland ACT Science scores is 23.2**"
   ]
  },
  {
   "cell_type": "markdown",
   "metadata": {},
   "source": [
    "#### 5. What are your data types? \n",
    "Display the data types of each feature. "
   ]
  },
  {
   "cell_type": "code",
   "execution_count": 13,
   "metadata": {},
   "outputs": [
    {
     "data": {
      "text/plain": [
       "State                                 object\n",
       "Participation                         object\n",
       "Evidence-Based Reading and Writing     int64\n",
       "Math                                   int64\n",
       "Total                                  int64\n",
       "dtype: object"
      ]
     },
     "execution_count": 13,
     "metadata": {},
     "output_type": "execute_result"
    }
   ],
   "source": [
    "#Display datatypes for SAT 2017\n",
    "sat_2017.dtypes"
   ]
  },
  {
   "cell_type": "code",
   "execution_count": 14,
   "metadata": {},
   "outputs": [
    {
     "data": {
      "text/plain": [
       "State             object\n",
       "Participation     object\n",
       "English          float64\n",
       "Math             float64\n",
       "Reading          float64\n",
       "Science          float64\n",
       "Composite         object\n",
       "dtype: object"
      ]
     },
     "execution_count": 14,
     "metadata": {},
     "output_type": "execute_result"
    }
   ],
   "source": [
    "#Display datatypes for ACT 2017\n",
    "act_2017.dtypes"
   ]
  },
  {
   "cell_type": "markdown",
   "metadata": {},
   "source": [
    "What did you learn?\n",
    "- Do any of them seem odd?  \n",
    "- Which ones are not as they should be?  "
   ]
  },
  {
   "cell_type": "markdown",
   "metadata": {},
   "source": [
    "Answer:\n",
    "\n",
    "1. Wrong/unexpected types\n",
    "    - Participation (SAT & ACT) are using object (due to '%'), cannot be sorted \n",
    "    - Composite (ACT) is using object, should use float64\n",
    "      - Composite score of Wyoming contains an x\n",
    "2. National Average is not a state"
   ]
  },
  {
   "cell_type": "markdown",
   "metadata": {},
   "source": [
    "#### 6. Fix Incorrect Data Types\n",
    "Based on what you discovered above, use appropriate methods to re-type incorrectly typed data.\n",
    "- Define a function that will allow you to convert participation rates to an appropriate numeric type. Use `map` or `apply` to change these columns in each dataframe."
   ]
  },
  {
   "cell_type": "code",
   "execution_count": 15,
   "metadata": {},
   "outputs": [],
   "source": [
    "#Function to convert participation from obj to int\n",
    "def convert_pctg_int(val):\n",
    "    return int(val.replace('%',''))"
   ]
  },
  {
   "cell_type": "markdown",
   "metadata": {},
   "source": [
    "- Fix any individual values preventing other columns from being the appropriate type."
   ]
  },
  {
   "cell_type": "code",
   "execution_count": 16,
   "metadata": {},
   "outputs": [],
   "source": [
    "#Other columns do not have '%', if use on other columns, out 'use other function'\n",
    "def convert_pctg_int(val):\n",
    "    if '%' not in val:\n",
    "        return 'use other function'\n",
    "    else:\n",
    "        return int(val.replace('%',''))"
   ]
  },
  {
   "cell_type": "markdown",
   "metadata": {},
   "source": [
    "- Finish your data modifications by making sure the columns are now typed appropriately."
   ]
  },
  {
   "cell_type": "code",
   "execution_count": 17,
   "metadata": {},
   "outputs": [],
   "source": [
    "#Apply function to SAT Participation column\n",
    "sat_2017['Participation'] = sat_2017['Participation'].apply(convert_pctg_int)"
   ]
  },
  {
   "cell_type": "markdown",
   "metadata": {},
   "source": [
    "- Display the data types again to confirm they are correct."
   ]
  },
  {
   "cell_type": "code",
   "execution_count": 18,
   "metadata": {},
   "outputs": [
    {
     "name": "stdout",
     "output_type": "stream",
     "text": [
      "<class 'pandas.core.frame.DataFrame'>\n",
      "RangeIndex: 51 entries, 0 to 50\n",
      "Data columns (total 5 columns):\n",
      " #   Column                              Non-Null Count  Dtype \n",
      "---  ------                              --------------  ----- \n",
      " 0   State                               51 non-null     object\n",
      " 1   Participation                       51 non-null     int64 \n",
      " 2   Evidence-Based Reading and Writing  51 non-null     int64 \n",
      " 3   Math                                51 non-null     int64 \n",
      " 4   Total                               51 non-null     int64 \n",
      "dtypes: int64(4), object(1)\n",
      "memory usage: 2.1+ KB\n"
     ]
    }
   ],
   "source": [
    "#Check datatypes to confirm if above worked\n",
    "sat_2017.info()"
   ]
  },
  {
   "cell_type": "code",
   "execution_count": 19,
   "metadata": {},
   "outputs": [
    {
     "name": "stdout",
     "output_type": "stream",
     "text": [
      "<class 'pandas.core.frame.DataFrame'>\n",
      "RangeIndex: 52 entries, 0 to 51\n",
      "Data columns (total 7 columns):\n",
      " #   Column         Non-Null Count  Dtype  \n",
      "---  ------         --------------  -----  \n",
      " 0   State          52 non-null     object \n",
      " 1   Participation  52 non-null     int64  \n",
      " 2   English        52 non-null     float64\n",
      " 3   Math           52 non-null     float64\n",
      " 4   Reading        52 non-null     float64\n",
      " 5   Science        52 non-null     float64\n",
      " 6   Composite      52 non-null     object \n",
      "dtypes: float64(4), int64(1), object(2)\n",
      "memory usage: 3.0+ KB\n"
     ]
    }
   ],
   "source": [
    "#Apply function to ACT Participation column\n",
    "act_2017['Participation'] = act_2017['Participation'].apply(convert_pctg_int)\n",
    "\n",
    "#Check datatypes to confirm if above worked\n",
    "act_2017.info()"
   ]
  },
  {
   "cell_type": "code",
   "execution_count": 20,
   "metadata": {},
   "outputs": [
    {
     "name": "stdout",
     "output_type": "stream",
     "text": [
      "<class 'pandas.core.frame.DataFrame'>\n",
      "RangeIndex: 52 entries, 0 to 51\n",
      "Data columns (total 7 columns):\n",
      " #   Column         Non-Null Count  Dtype  \n",
      "---  ------         --------------  -----  \n",
      " 0   State          52 non-null     object \n",
      " 1   Participation  52 non-null     int64  \n",
      " 2   English        52 non-null     float64\n",
      " 3   Math           52 non-null     float64\n",
      " 4   Reading        52 non-null     float64\n",
      " 5   Science        52 non-null     float64\n",
      " 6   Composite      52 non-null     float64\n",
      "dtypes: float64(5), int64(1), object(1)\n",
      "memory usage: 3.0+ KB\n"
     ]
    }
   ],
   "source": [
    "#convert ACT 'Composite' to float & correcting Wyoming data (remove 'x')\n",
    "act_2017['Composite'] = act_2017['Composite'].apply(lambda x: x.replace('x', '')).astype('float')\n",
    "\n",
    "#Check datatypes to confirm if above worked\n",
    "act_2017.info()"
   ]
  },
  {
   "cell_type": "markdown",
   "metadata": {},
   "source": [
    "#### 7. Rename Columns\n",
    "Change the names of the columns to more expressive names so that you can tell the difference the SAT columns and the ACT columns. Your solution should map all column names being changed at once (no repeated singular name-changes). **We will be combining these data with some of the data from 2018, and so you should name columns in an appropriate way**.\n",
    "\n",
    "**Guidelines**:\n",
    "- Column names should be all lowercase (you will thank yourself when you start pushing data to SQL later in the course)\n",
    "- Column names should not contain spaces (underscores will suffice--this allows for using the `df.column_name` method to access columns in addition to `df['column_name']`.\n",
    "- Column names should be unique and informative (the only feature that we actually share between dataframes is the state)."
   ]
  },
  {
   "cell_type": "code",
   "execution_count": 21,
   "metadata": {},
   "outputs": [],
   "source": [
    "#Make all column names lowercase\n",
    "#Replace all space with underscores\n",
    "act_2017.columns = act_2017.columns.str.lower().str.replace(' ','_')\n",
    "sat_2017.columns = sat_2017.columns.str.lower().str.replace(' ','_')"
   ]
  },
  {
   "cell_type": "code",
   "execution_count": 22,
   "metadata": {},
   "outputs": [],
   "source": [
    "#Rename for ACT columns from participation onwards (do not change 'State')\n",
    "#if use (.add_suffix) will add all column\n",
    "for column in act_2017.columns[1:]:\n",
    "    act_2017.rename(columns={column:'act_'+column+'_2017'}, inplace=True)"
   ]
  },
  {
   "cell_type": "code",
   "execution_count": 23,
   "metadata": {},
   "outputs": [],
   "source": [
    "#Rename for SAT columns from participation onwards (do not change 'State')\n",
    "for column in sat_2017.columns[1:]:\n",
    "    sat_2017.rename(columns={column:'sat_'+column+'_2017'}, inplace=True)"
   ]
  },
  {
   "cell_type": "markdown",
   "metadata": {},
   "source": [
    "#### 8. Create a data dictionary\n",
    "\n",
    "Now that we've fixed our data, and given it appropriate names, let's create a [data dictionary](http://library.ucmerced.edu/node/10249). \n",
    "\n",
    "A data dictionary provides a quick overview of features/variables/columns, alongside data types and descriptions. The more descriptive you can be, the more useful this document is.\n",
    "\n",
    "Example of a Fictional Data Dictionary Entry: \n",
    "\n",
    "|Feature|Type|Dataset|Description|\n",
    "|---|---|---|---|\n",
    "|**county_pop**|*integer*|2010 census|The population of the county (units in thousands, where 2.5 represents 2500 people).| \n",
    "|**per_poverty**|*float*|2010 census|The percent of the county over the age of 18 living below the 200% of official US poverty rate (units percent to two decimal places 98.10 means 98.1%)|\n",
    "\n",
    "[Here's a quick link to a short guide for formatting markdown in Jupyter notebooks](https://jupyter-notebook.readthedocs.io/en/stable/examples/Notebook/Working%20With%20Markdown%20Cells.html).\n",
    "\n",
    "Provided is the skeleton for formatting a markdown table, with columns headers that will help you create a data dictionary to quickly summarize your data, as well as some examples. **This would be a great thing to copy and paste into your custom README for this project.**"
   ]
  },
  {
   "cell_type": "markdown",
   "metadata": {},
   "source": [
    "|Feature|Type|Dataset|Description\n",
    "|:---|:----:|:---:|:---\n",
    "|State|Object|ACT|States that participate in ACT examination\n",
    "|Particpation|Int|ACT|Participation rate of students in each state taking part in the exam\n",
    "|English|Float|ACT|Scores of English test\n",
    "|Math|Float|ACT|Scores of Math test\n",
    "|Reading|Float|ACT|Scores of Reading test\n",
    "|Science|Float|ACT|Scores of Science test\n",
    "|Composite|Float|ACT|Composite score of each state"
   ]
  },
  {
   "cell_type": "markdown",
   "metadata": {},
   "source": [
    "|Feature|Type|Dataset|Description\n",
    "|:---|:----:|:---:|:---\n",
    "|State|Object|SAT|States that participate in SAT examination\n",
    "|Particpation|Int|SAT|Participation rate of students in each state taking part in the exam\n",
    "|Evidence-based_Reading_and_Writing|Int|SAT|Scores of Evidence-based Reading and Writing test\n",
    "|Math|Int|SAT|Scores of Math test\n",
    "|Total|Int|SAT|Total scores of each state"
   ]
  },
  {
   "cell_type": "markdown",
   "metadata": {},
   "source": [
    "#### 9. Drop unnecessary rows\n",
    "\n",
    "One of our dataframes contains an extra row. Identify and remove this from the dataframe."
   ]
  },
  {
   "cell_type": "code",
   "execution_count": 24,
   "metadata": {},
   "outputs": [],
   "source": [
    "#Drop 'National' row from ACT data\n",
    "index_drop = act_2017.loc[act_2017['state'] == 'National'].index\n",
    "act_2017 = act_2017.drop(index_drop)"
   ]
  },
  {
   "cell_type": "markdown",
   "metadata": {},
   "source": [
    "#### 10. Merge Dataframes\n",
    "\n",
    "Join the 2017 ACT and SAT dataframes using the state in each dataframe as the key. Assign this to a new variable."
   ]
  },
  {
   "cell_type": "code",
   "execution_count": 25,
   "metadata": {},
   "outputs": [
    {
     "data": {
      "text/html": [
       "<div>\n",
       "<style scoped>\n",
       "    .dataframe tbody tr th:only-of-type {\n",
       "        vertical-align: middle;\n",
       "    }\n",
       "\n",
       "    .dataframe tbody tr th {\n",
       "        vertical-align: top;\n",
       "    }\n",
       "\n",
       "    .dataframe thead th {\n",
       "        text-align: right;\n",
       "    }\n",
       "</style>\n",
       "<table border=\"1\" class=\"dataframe\">\n",
       "  <thead>\n",
       "    <tr style=\"text-align: right;\">\n",
       "      <th></th>\n",
       "      <th>state</th>\n",
       "      <th>sat_participation_2017</th>\n",
       "      <th>sat_evidence-based_reading_and_writing_2017</th>\n",
       "      <th>sat_math_2017</th>\n",
       "      <th>sat_total_2017</th>\n",
       "      <th>act_participation_2017</th>\n",
       "      <th>act_english_2017</th>\n",
       "      <th>act_math_2017</th>\n",
       "      <th>act_reading_2017</th>\n",
       "      <th>act_science_2017</th>\n",
       "      <th>act_composite_2017</th>\n",
       "    </tr>\n",
       "  </thead>\n",
       "  <tbody>\n",
       "    <tr>\n",
       "      <th>0</th>\n",
       "      <td>Alabama</td>\n",
       "      <td>5</td>\n",
       "      <td>593</td>\n",
       "      <td>572</td>\n",
       "      <td>1165</td>\n",
       "      <td>100</td>\n",
       "      <td>18.9</td>\n",
       "      <td>18.4</td>\n",
       "      <td>19.7</td>\n",
       "      <td>19.4</td>\n",
       "      <td>19.2</td>\n",
       "    </tr>\n",
       "    <tr>\n",
       "      <th>1</th>\n",
       "      <td>Alaska</td>\n",
       "      <td>38</td>\n",
       "      <td>547</td>\n",
       "      <td>533</td>\n",
       "      <td>1080</td>\n",
       "      <td>65</td>\n",
       "      <td>18.7</td>\n",
       "      <td>19.8</td>\n",
       "      <td>20.4</td>\n",
       "      <td>19.9</td>\n",
       "      <td>19.8</td>\n",
       "    </tr>\n",
       "    <tr>\n",
       "      <th>2</th>\n",
       "      <td>Arizona</td>\n",
       "      <td>30</td>\n",
       "      <td>563</td>\n",
       "      <td>553</td>\n",
       "      <td>1116</td>\n",
       "      <td>62</td>\n",
       "      <td>18.6</td>\n",
       "      <td>19.8</td>\n",
       "      <td>20.1</td>\n",
       "      <td>19.8</td>\n",
       "      <td>19.7</td>\n",
       "    </tr>\n",
       "  </tbody>\n",
       "</table>\n",
       "</div>"
      ],
      "text/plain": [
       "     state  sat_participation_2017  \\\n",
       "0  Alabama                       5   \n",
       "1   Alaska                      38   \n",
       "2  Arizona                      30   \n",
       "\n",
       "   sat_evidence-based_reading_and_writing_2017  sat_math_2017  sat_total_2017  \\\n",
       "0                                          593            572            1165   \n",
       "1                                          547            533            1080   \n",
       "2                                          563            553            1116   \n",
       "\n",
       "   act_participation_2017  act_english_2017  act_math_2017  act_reading_2017  \\\n",
       "0                     100              18.9           18.4              19.7   \n",
       "1                      65              18.7           19.8              20.4   \n",
       "2                      62              18.6           19.8              20.1   \n",
       "\n",
       "   act_science_2017  act_composite_2017  \n",
       "0              19.4                19.2  \n",
       "1              19.9                19.8  \n",
       "2              19.8                19.7  "
      ]
     },
     "execution_count": 25,
     "metadata": {},
     "output_type": "execute_result"
    }
   ],
   "source": [
    "#Merge SAT 2017 and ACT 2017 dataset into 1 called 'data2017'\n",
    "data2017 = pd.DataFrame()\n",
    "data2017 = pd.merge(sat_2017,act_2017, on='state')\n",
    "\n",
    "#Check merged dataset\n",
    "data2017.head(3)"
   ]
  },
  {
   "cell_type": "markdown",
   "metadata": {},
   "source": [
    "#### 11. Save your cleaned, merged dataframe\n",
    "\n",
    "Use a relative path to save out your data as `combined_2017.csv`."
   ]
  },
  {
   "cell_type": "code",
   "execution_count": 26,
   "metadata": {},
   "outputs": [],
   "source": [
    "#Save merged dataset into 'combined_2017'\n",
    "data2017.to_csv('../data/combined_2017.csv')"
   ]
  },
  {
   "cell_type": "markdown",
   "metadata": {},
   "source": [
    "## 2018 Data Import and Cleaning"
   ]
  },
  {
   "cell_type": "markdown",
   "metadata": {},
   "source": [
    "Links to the 2018 ACT and SAT data are provided in the README. These data live in PDFs, and so you'll get to enjoy practicing some *manual* data collection. Save these data as a CSV in your `data` directory, and import, explore, and clean these data in the same way you did above. **Make sure you comment on your steps so it is clear *why* you are doing each process**."
   ]
  },
  {
   "cell_type": "code",
   "execution_count": 27,
   "metadata": {},
   "outputs": [],
   "source": [
    "#Read in SAT and ACT data for 2018\n",
    "sat_2018 = pd.read_csv('../data/sat_2018.csv')\n",
    "act_2018 = pd.read_csv('../data/act_2018_updated.csv')"
   ]
  },
  {
   "cell_type": "code",
   "execution_count": 28,
   "metadata": {},
   "outputs": [],
   "source": [
    "#Change 'Participation' datatype to int for SAT 2018\n",
    "sat_2018['Participation'] = sat_2018['Participation'].apply(convert_pctg_int)"
   ]
  },
  {
   "cell_type": "code",
   "execution_count": 29,
   "metadata": {},
   "outputs": [
    {
     "data": {
      "text/html": [
       "<div>\n",
       "<style scoped>\n",
       "    .dataframe tbody tr th:only-of-type {\n",
       "        vertical-align: middle;\n",
       "    }\n",
       "\n",
       "    .dataframe tbody tr th {\n",
       "        vertical-align: top;\n",
       "    }\n",
       "\n",
       "    .dataframe thead th {\n",
       "        text-align: right;\n",
       "    }\n",
       "</style>\n",
       "<table border=\"1\" class=\"dataframe\">\n",
       "  <thead>\n",
       "    <tr style=\"text-align: right;\">\n",
       "      <th></th>\n",
       "      <th>State</th>\n",
       "      <th>Percentage of Students Tested</th>\n",
       "      <th>Average Composite Score</th>\n",
       "      <th>Average English Score</th>\n",
       "      <th>Average Math Score</th>\n",
       "      <th>Average Reading Score</th>\n",
       "      <th>Average Science Score</th>\n",
       "    </tr>\n",
       "  </thead>\n",
       "  <tbody>\n",
       "    <tr>\n",
       "      <th>0</th>\n",
       "      <td>Alabama</td>\n",
       "      <td>100</td>\n",
       "      <td>19.1</td>\n",
       "      <td>18.9</td>\n",
       "      <td>18.3</td>\n",
       "      <td>19.6</td>\n",
       "      <td>19.0</td>\n",
       "    </tr>\n",
       "    <tr>\n",
       "      <th>1</th>\n",
       "      <td>Alaska</td>\n",
       "      <td>33</td>\n",
       "      <td>20.8</td>\n",
       "      <td>19.8</td>\n",
       "      <td>20.6</td>\n",
       "      <td>21.6</td>\n",
       "      <td>20.7</td>\n",
       "    </tr>\n",
       "    <tr>\n",
       "      <th>2</th>\n",
       "      <td>Arizona</td>\n",
       "      <td>66</td>\n",
       "      <td>19.2</td>\n",
       "      <td>18.2</td>\n",
       "      <td>19.4</td>\n",
       "      <td>19.5</td>\n",
       "      <td>19.2</td>\n",
       "    </tr>\n",
       "  </tbody>\n",
       "</table>\n",
       "</div>"
      ],
      "text/plain": [
       "     State  Percentage of Students Tested  Average Composite Score  \\\n",
       "0  Alabama                            100                     19.1   \n",
       "1   Alaska                             33                     20.8   \n",
       "2  Arizona                             66                     19.2   \n",
       "\n",
       "   Average English Score  Average Math Score  Average Reading Score  \\\n",
       "0                   18.9                18.3                   19.6   \n",
       "1                   19.8                20.6                   21.6   \n",
       "2                   18.2                19.4                   19.5   \n",
       "\n",
       "   Average Science Score  \n",
       "0                   19.0  \n",
       "1                   20.7  \n",
       "2                   19.2  "
      ]
     },
     "execution_count": 29,
     "metadata": {},
     "output_type": "execute_result"
    }
   ],
   "source": [
    "#See ACT 2018 column names to align with act_2017\n",
    "act_2018.head(3)"
   ]
  },
  {
   "cell_type": "code",
   "execution_count": 30,
   "metadata": {
    "scrolled": true
   },
   "outputs": [],
   "source": [
    "#Rename 'Percentage of Students Tested' to 'Participation'\n",
    "act_2018.rename(columns = {'Percentage of Students Tested':'Participation'}, inplace=True)\n",
    "\n",
    "#Take away the 'average' and 'score' out of columns in ACT 2018\n",
    "for column in act_2018.columns[2:]:\n",
    "    act_2018.rename(columns={column:(column.replace('Average ','').replace(' Score',''))}, inplace=True)"
   ]
  },
  {
   "cell_type": "code",
   "execution_count": 31,
   "metadata": {},
   "outputs": [],
   "source": [
    "#Make all column names lowercase\n",
    "#Replace all space with underscores\n",
    "act_2018.columns = act_2018.columns.str.lower().str.replace(' ','_')\n",
    "sat_2018.columns = sat_2018.columns.str.lower().str.replace(' ','_')"
   ]
  },
  {
   "cell_type": "code",
   "execution_count": 32,
   "metadata": {},
   "outputs": [],
   "source": [
    "#Rearrange column sequence in ACT 2018 to align with act_2017\n",
    "act_2018 = act_2018[[\"state\", \"participation\", \"english\", \"math\", \"reading\", \"science\", \"composite\"]]"
   ]
  },
  {
   "cell_type": "code",
   "execution_count": 33,
   "metadata": {},
   "outputs": [],
   "source": [
    "#Rename for ACT columns from participation onwards (do not change 'State'), align with above 2017 data\n",
    "for column in act_2018.columns[1:]:\n",
    "    act_2018.rename(columns={column:'act_'+column+'_2018'}, inplace=True)\n",
    "\n",
    "#Rename for SAT columns from participation onwards (do not change 'State'), align with above 2017 data\n",
    "for column in sat_2018.columns[1:]:\n",
    "    sat_2018.rename(columns={column:'sat_'+column+'_2018'}, inplace=True)"
   ]
  },
  {
   "cell_type": "code",
   "execution_count": 34,
   "metadata": {},
   "outputs": [
    {
     "data": {
      "text/html": [
       "<div>\n",
       "<style scoped>\n",
       "    .dataframe tbody tr th:only-of-type {\n",
       "        vertical-align: middle;\n",
       "    }\n",
       "\n",
       "    .dataframe tbody tr th {\n",
       "        vertical-align: top;\n",
       "    }\n",
       "\n",
       "    .dataframe thead th {\n",
       "        text-align: right;\n",
       "    }\n",
       "</style>\n",
       "<table border=\"1\" class=\"dataframe\">\n",
       "  <thead>\n",
       "    <tr style=\"text-align: right;\">\n",
       "      <th></th>\n",
       "      <th>state</th>\n",
       "      <th>sat_participation_2018</th>\n",
       "      <th>sat_evidence-based_reading_and_writing_2018</th>\n",
       "      <th>sat_math_2018</th>\n",
       "      <th>sat_total_2018</th>\n",
       "      <th>act_participation_2018</th>\n",
       "      <th>act_english_2018</th>\n",
       "      <th>act_math_2018</th>\n",
       "      <th>act_reading_2018</th>\n",
       "      <th>act_science_2018</th>\n",
       "      <th>act_composite_2018</th>\n",
       "    </tr>\n",
       "  </thead>\n",
       "  <tbody>\n",
       "    <tr>\n",
       "      <th>0</th>\n",
       "      <td>Alabama</td>\n",
       "      <td>6</td>\n",
       "      <td>595</td>\n",
       "      <td>571</td>\n",
       "      <td>1166</td>\n",
       "      <td>100</td>\n",
       "      <td>18.9</td>\n",
       "      <td>18.3</td>\n",
       "      <td>19.6</td>\n",
       "      <td>19.0</td>\n",
       "      <td>19.1</td>\n",
       "    </tr>\n",
       "    <tr>\n",
       "      <th>1</th>\n",
       "      <td>Alaska</td>\n",
       "      <td>43</td>\n",
       "      <td>562</td>\n",
       "      <td>544</td>\n",
       "      <td>1106</td>\n",
       "      <td>33</td>\n",
       "      <td>19.8</td>\n",
       "      <td>20.6</td>\n",
       "      <td>21.6</td>\n",
       "      <td>20.7</td>\n",
       "      <td>20.8</td>\n",
       "    </tr>\n",
       "    <tr>\n",
       "      <th>2</th>\n",
       "      <td>Arizona</td>\n",
       "      <td>29</td>\n",
       "      <td>577</td>\n",
       "      <td>572</td>\n",
       "      <td>1149</td>\n",
       "      <td>66</td>\n",
       "      <td>18.2</td>\n",
       "      <td>19.4</td>\n",
       "      <td>19.5</td>\n",
       "      <td>19.2</td>\n",
       "      <td>19.2</td>\n",
       "    </tr>\n",
       "    <tr>\n",
       "      <th>3</th>\n",
       "      <td>Arkansas</td>\n",
       "      <td>5</td>\n",
       "      <td>592</td>\n",
       "      <td>576</td>\n",
       "      <td>1169</td>\n",
       "      <td>100</td>\n",
       "      <td>19.1</td>\n",
       "      <td>18.9</td>\n",
       "      <td>19.7</td>\n",
       "      <td>19.4</td>\n",
       "      <td>19.4</td>\n",
       "    </tr>\n",
       "    <tr>\n",
       "      <th>4</th>\n",
       "      <td>California</td>\n",
       "      <td>60</td>\n",
       "      <td>540</td>\n",
       "      <td>536</td>\n",
       "      <td>1076</td>\n",
       "      <td>27</td>\n",
       "      <td>22.5</td>\n",
       "      <td>22.5</td>\n",
       "      <td>23.0</td>\n",
       "      <td>22.1</td>\n",
       "      <td>22.7</td>\n",
       "    </tr>\n",
       "  </tbody>\n",
       "</table>\n",
       "</div>"
      ],
      "text/plain": [
       "        state  sat_participation_2018  \\\n",
       "0     Alabama                       6   \n",
       "1      Alaska                      43   \n",
       "2     Arizona                      29   \n",
       "3    Arkansas                       5   \n",
       "4  California                      60   \n",
       "\n",
       "   sat_evidence-based_reading_and_writing_2018  sat_math_2018  sat_total_2018  \\\n",
       "0                                          595            571            1166   \n",
       "1                                          562            544            1106   \n",
       "2                                          577            572            1149   \n",
       "3                                          592            576            1169   \n",
       "4                                          540            536            1076   \n",
       "\n",
       "   act_participation_2018  act_english_2018  act_math_2018  act_reading_2018  \\\n",
       "0                     100              18.9           18.3              19.6   \n",
       "1                      33              19.8           20.6              21.6   \n",
       "2                      66              18.2           19.4              19.5   \n",
       "3                     100              19.1           18.9              19.7   \n",
       "4                      27              22.5           22.5              23.0   \n",
       "\n",
       "   act_science_2018  act_composite_2018  \n",
       "0              19.0                19.1  \n",
       "1              20.7                20.8  \n",
       "2              19.2                19.2  \n",
       "3              19.4                19.4  \n",
       "4              22.1                22.7  "
      ]
     },
     "execution_count": 34,
     "metadata": {},
     "output_type": "execute_result"
    }
   ],
   "source": [
    "#Merge 2018 data together\n",
    "data2018 = pd.DataFrame()\n",
    "data2018 = pd.merge(sat_2018,act_2018, on='state')\n",
    "\n",
    "#Check merged dataframe\n",
    "data2018.head()"
   ]
  },
  {
   "cell_type": "markdown",
   "metadata": {},
   "source": [
    "#### Combine your 2017 and 2018 data into a single dataframe\n",
    "Joining on state names should work, assuming you formatted all your state names identically. Make sure none of your columns (other than state) have identical names. Do yourself a favor and decide if you're encoding participation rates as floats or integers and standardize this across your datasets.\n",
    "\n",
    "Save the contents of this merged dataframe as `final.csv`.\n",
    "\n",
    "**Use this combined dataframe for the remainder of the project**."
   ]
  },
  {
   "cell_type": "code",
   "execution_count": 35,
   "metadata": {},
   "outputs": [
    {
     "data": {
      "text/html": [
       "<div>\n",
       "<style scoped>\n",
       "    .dataframe tbody tr th:only-of-type {\n",
       "        vertical-align: middle;\n",
       "    }\n",
       "\n",
       "    .dataframe tbody tr th {\n",
       "        vertical-align: top;\n",
       "    }\n",
       "\n",
       "    .dataframe thead th {\n",
       "        text-align: right;\n",
       "    }\n",
       "</style>\n",
       "<table border=\"1\" class=\"dataframe\">\n",
       "  <thead>\n",
       "    <tr style=\"text-align: right;\">\n",
       "      <th></th>\n",
       "      <th>state</th>\n",
       "      <th>sat_participation_2017</th>\n",
       "      <th>sat_evidence-based_reading_and_writing_2017</th>\n",
       "      <th>sat_math_2017</th>\n",
       "      <th>sat_total_2017</th>\n",
       "      <th>act_participation_2017</th>\n",
       "      <th>act_english_2017</th>\n",
       "      <th>act_math_2017</th>\n",
       "      <th>act_reading_2017</th>\n",
       "      <th>act_science_2017</th>\n",
       "      <th>...</th>\n",
       "      <th>sat_participation_2018</th>\n",
       "      <th>sat_evidence-based_reading_and_writing_2018</th>\n",
       "      <th>sat_math_2018</th>\n",
       "      <th>sat_total_2018</th>\n",
       "      <th>act_participation_2018</th>\n",
       "      <th>act_english_2018</th>\n",
       "      <th>act_math_2018</th>\n",
       "      <th>act_reading_2018</th>\n",
       "      <th>act_science_2018</th>\n",
       "      <th>act_composite_2018</th>\n",
       "    </tr>\n",
       "  </thead>\n",
       "  <tbody>\n",
       "    <tr>\n",
       "      <th>0</th>\n",
       "      <td>Alabama</td>\n",
       "      <td>5</td>\n",
       "      <td>593</td>\n",
       "      <td>572</td>\n",
       "      <td>1165</td>\n",
       "      <td>100</td>\n",
       "      <td>18.9</td>\n",
       "      <td>18.4</td>\n",
       "      <td>19.7</td>\n",
       "      <td>19.4</td>\n",
       "      <td>...</td>\n",
       "      <td>6</td>\n",
       "      <td>595</td>\n",
       "      <td>571</td>\n",
       "      <td>1166</td>\n",
       "      <td>100</td>\n",
       "      <td>18.9</td>\n",
       "      <td>18.3</td>\n",
       "      <td>19.6</td>\n",
       "      <td>19.0</td>\n",
       "      <td>19.1</td>\n",
       "    </tr>\n",
       "    <tr>\n",
       "      <th>1</th>\n",
       "      <td>Alaska</td>\n",
       "      <td>38</td>\n",
       "      <td>547</td>\n",
       "      <td>533</td>\n",
       "      <td>1080</td>\n",
       "      <td>65</td>\n",
       "      <td>18.7</td>\n",
       "      <td>19.8</td>\n",
       "      <td>20.4</td>\n",
       "      <td>19.9</td>\n",
       "      <td>...</td>\n",
       "      <td>43</td>\n",
       "      <td>562</td>\n",
       "      <td>544</td>\n",
       "      <td>1106</td>\n",
       "      <td>33</td>\n",
       "      <td>19.8</td>\n",
       "      <td>20.6</td>\n",
       "      <td>21.6</td>\n",
       "      <td>20.7</td>\n",
       "      <td>20.8</td>\n",
       "    </tr>\n",
       "    <tr>\n",
       "      <th>2</th>\n",
       "      <td>Arizona</td>\n",
       "      <td>30</td>\n",
       "      <td>563</td>\n",
       "      <td>553</td>\n",
       "      <td>1116</td>\n",
       "      <td>62</td>\n",
       "      <td>18.6</td>\n",
       "      <td>19.8</td>\n",
       "      <td>20.1</td>\n",
       "      <td>19.8</td>\n",
       "      <td>...</td>\n",
       "      <td>29</td>\n",
       "      <td>577</td>\n",
       "      <td>572</td>\n",
       "      <td>1149</td>\n",
       "      <td>66</td>\n",
       "      <td>18.2</td>\n",
       "      <td>19.4</td>\n",
       "      <td>19.5</td>\n",
       "      <td>19.2</td>\n",
       "      <td>19.2</td>\n",
       "    </tr>\n",
       "    <tr>\n",
       "      <th>3</th>\n",
       "      <td>Arkansas</td>\n",
       "      <td>3</td>\n",
       "      <td>614</td>\n",
       "      <td>594</td>\n",
       "      <td>1208</td>\n",
       "      <td>100</td>\n",
       "      <td>18.9</td>\n",
       "      <td>19.0</td>\n",
       "      <td>19.7</td>\n",
       "      <td>19.5</td>\n",
       "      <td>...</td>\n",
       "      <td>5</td>\n",
       "      <td>592</td>\n",
       "      <td>576</td>\n",
       "      <td>1169</td>\n",
       "      <td>100</td>\n",
       "      <td>19.1</td>\n",
       "      <td>18.9</td>\n",
       "      <td>19.7</td>\n",
       "      <td>19.4</td>\n",
       "      <td>19.4</td>\n",
       "    </tr>\n",
       "    <tr>\n",
       "      <th>4</th>\n",
       "      <td>California</td>\n",
       "      <td>53</td>\n",
       "      <td>531</td>\n",
       "      <td>524</td>\n",
       "      <td>1055</td>\n",
       "      <td>31</td>\n",
       "      <td>22.5</td>\n",
       "      <td>22.7</td>\n",
       "      <td>23.1</td>\n",
       "      <td>22.2</td>\n",
       "      <td>...</td>\n",
       "      <td>60</td>\n",
       "      <td>540</td>\n",
       "      <td>536</td>\n",
       "      <td>1076</td>\n",
       "      <td>27</td>\n",
       "      <td>22.5</td>\n",
       "      <td>22.5</td>\n",
       "      <td>23.0</td>\n",
       "      <td>22.1</td>\n",
       "      <td>22.7</td>\n",
       "    </tr>\n",
       "  </tbody>\n",
       "</table>\n",
       "<p>5 rows × 21 columns</p>\n",
       "</div>"
      ],
      "text/plain": [
       "        state  sat_participation_2017  \\\n",
       "0     Alabama                       5   \n",
       "1      Alaska                      38   \n",
       "2     Arizona                      30   \n",
       "3    Arkansas                       3   \n",
       "4  California                      53   \n",
       "\n",
       "   sat_evidence-based_reading_and_writing_2017  sat_math_2017  sat_total_2017  \\\n",
       "0                                          593            572            1165   \n",
       "1                                          547            533            1080   \n",
       "2                                          563            553            1116   \n",
       "3                                          614            594            1208   \n",
       "4                                          531            524            1055   \n",
       "\n",
       "   act_participation_2017  act_english_2017  act_math_2017  act_reading_2017  \\\n",
       "0                     100              18.9           18.4              19.7   \n",
       "1                      65              18.7           19.8              20.4   \n",
       "2                      62              18.6           19.8              20.1   \n",
       "3                     100              18.9           19.0              19.7   \n",
       "4                      31              22.5           22.7              23.1   \n",
       "\n",
       "   act_science_2017  ...  sat_participation_2018  \\\n",
       "0              19.4  ...                       6   \n",
       "1              19.9  ...                      43   \n",
       "2              19.8  ...                      29   \n",
       "3              19.5  ...                       5   \n",
       "4              22.2  ...                      60   \n",
       "\n",
       "   sat_evidence-based_reading_and_writing_2018  sat_math_2018  sat_total_2018  \\\n",
       "0                                          595            571            1166   \n",
       "1                                          562            544            1106   \n",
       "2                                          577            572            1149   \n",
       "3                                          592            576            1169   \n",
       "4                                          540            536            1076   \n",
       "\n",
       "   act_participation_2018  act_english_2018  act_math_2018  act_reading_2018  \\\n",
       "0                     100              18.9           18.3              19.6   \n",
       "1                      33              19.8           20.6              21.6   \n",
       "2                      66              18.2           19.4              19.5   \n",
       "3                     100              19.1           18.9              19.7   \n",
       "4                      27              22.5           22.5              23.0   \n",
       "\n",
       "   act_science_2018  act_composite_2018  \n",
       "0              19.0                19.1  \n",
       "1              20.7                20.8  \n",
       "2              19.2                19.2  \n",
       "3              19.4                19.4  \n",
       "4              22.1                22.7  \n",
       "\n",
       "[5 rows x 21 columns]"
      ]
     },
     "execution_count": 35,
     "metadata": {},
     "output_type": "execute_result"
    }
   ],
   "source": [
    "#Combine 2017 dataset and 2018 dataset together\n",
    "data1718 = pd.DataFrame()\n",
    "data1718 = pd.merge(data2017,data2018, on='state')\n",
    "\n",
    "#Check merged dataset of 2017-18\n",
    "data1718.head()"
   ]
  },
  {
   "cell_type": "code",
   "execution_count": 36,
   "metadata": {},
   "outputs": [],
   "source": [
    "#Save dataset to 'final.csv'\n",
    "data1718.to_csv('../data/final.csv')"
   ]
  },
  {
   "cell_type": "markdown",
   "metadata": {},
   "source": [
    "## Exploratory Data Analysis\n",
    "\n",
    "\n",
    "### Summary Statistics\n",
    "Transpose the output of pandas `describe` method to create a quick overview of each numeric feature."
   ]
  },
  {
   "cell_type": "code",
   "execution_count": 37,
   "metadata": {},
   "outputs": [
    {
     "data": {
      "text/html": [
       "<div>\n",
       "<style scoped>\n",
       "    .dataframe tbody tr th:only-of-type {\n",
       "        vertical-align: middle;\n",
       "    }\n",
       "\n",
       "    .dataframe tbody tr th {\n",
       "        vertical-align: top;\n",
       "    }\n",
       "\n",
       "    .dataframe thead th {\n",
       "        text-align: right;\n",
       "    }\n",
       "</style>\n",
       "<table border=\"1\" class=\"dataframe\">\n",
       "  <thead>\n",
       "    <tr style=\"text-align: right;\">\n",
       "      <th></th>\n",
       "      <th>sat_participation_2017</th>\n",
       "      <th>sat_evidence-based_reading_and_writing_2017</th>\n",
       "      <th>sat_math_2017</th>\n",
       "      <th>sat_total_2017</th>\n",
       "      <th>act_participation_2017</th>\n",
       "      <th>act_english_2017</th>\n",
       "      <th>act_math_2017</th>\n",
       "      <th>act_reading_2017</th>\n",
       "      <th>act_science_2017</th>\n",
       "      <th>act_composite_2017</th>\n",
       "      <th>sat_participation_2018</th>\n",
       "      <th>sat_evidence-based_reading_and_writing_2018</th>\n",
       "      <th>sat_math_2018</th>\n",
       "      <th>sat_total_2018</th>\n",
       "      <th>act_participation_2018</th>\n",
       "      <th>act_english_2018</th>\n",
       "      <th>act_math_2018</th>\n",
       "      <th>act_reading_2018</th>\n",
       "      <th>act_science_2018</th>\n",
       "      <th>act_composite_2018</th>\n",
       "    </tr>\n",
       "  </thead>\n",
       "  <tbody>\n",
       "    <tr>\n",
       "      <th>count</th>\n",
       "      <td>51.000000</td>\n",
       "      <td>51.000000</td>\n",
       "      <td>51.000000</td>\n",
       "      <td>51.000000</td>\n",
       "      <td>51.000000</td>\n",
       "      <td>51.000000</td>\n",
       "      <td>51.000000</td>\n",
       "      <td>51.000000</td>\n",
       "      <td>51.000000</td>\n",
       "      <td>51.000000</td>\n",
       "      <td>51.000000</td>\n",
       "      <td>51.000000</td>\n",
       "      <td>51.000000</td>\n",
       "      <td>51.000000</td>\n",
       "      <td>51.000000</td>\n",
       "      <td>51.000000</td>\n",
       "      <td>51.000000</td>\n",
       "      <td>51.000000</td>\n",
       "      <td>51.000000</td>\n",
       "      <td>51.000000</td>\n",
       "    </tr>\n",
       "    <tr>\n",
       "      <th>mean</th>\n",
       "      <td>39.803922</td>\n",
       "      <td>569.117647</td>\n",
       "      <td>556.882353</td>\n",
       "      <td>1126.098039</td>\n",
       "      <td>65.254902</td>\n",
       "      <td>20.931373</td>\n",
       "      <td>21.182353</td>\n",
       "      <td>22.013725</td>\n",
       "      <td>21.450980</td>\n",
       "      <td>21.519608</td>\n",
       "      <td>45.745098</td>\n",
       "      <td>563.686275</td>\n",
       "      <td>556.235294</td>\n",
       "      <td>1120.019608</td>\n",
       "      <td>61.647059</td>\n",
       "      <td>20.988235</td>\n",
       "      <td>21.125490</td>\n",
       "      <td>22.015686</td>\n",
       "      <td>21.345098</td>\n",
       "      <td>21.486275</td>\n",
       "    </tr>\n",
       "    <tr>\n",
       "      <th>std</th>\n",
       "      <td>35.276632</td>\n",
       "      <td>45.666901</td>\n",
       "      <td>47.121395</td>\n",
       "      <td>92.494812</td>\n",
       "      <td>32.140842</td>\n",
       "      <td>2.353677</td>\n",
       "      <td>1.981989</td>\n",
       "      <td>2.067271</td>\n",
       "      <td>1.739353</td>\n",
       "      <td>2.020695</td>\n",
       "      <td>37.314256</td>\n",
       "      <td>47.502627</td>\n",
       "      <td>47.772623</td>\n",
       "      <td>94.155083</td>\n",
       "      <td>34.080976</td>\n",
       "      <td>2.446356</td>\n",
       "      <td>2.035765</td>\n",
       "      <td>2.167245</td>\n",
       "      <td>1.870114</td>\n",
       "      <td>2.106278</td>\n",
       "    </tr>\n",
       "    <tr>\n",
       "      <th>min</th>\n",
       "      <td>2.000000</td>\n",
       "      <td>482.000000</td>\n",
       "      <td>468.000000</td>\n",
       "      <td>950.000000</td>\n",
       "      <td>8.000000</td>\n",
       "      <td>16.300000</td>\n",
       "      <td>18.000000</td>\n",
       "      <td>18.100000</td>\n",
       "      <td>18.200000</td>\n",
       "      <td>17.800000</td>\n",
       "      <td>2.000000</td>\n",
       "      <td>480.000000</td>\n",
       "      <td>480.000000</td>\n",
       "      <td>977.000000</td>\n",
       "      <td>7.000000</td>\n",
       "      <td>16.600000</td>\n",
       "      <td>17.800000</td>\n",
       "      <td>18.000000</td>\n",
       "      <td>17.900000</td>\n",
       "      <td>17.700000</td>\n",
       "    </tr>\n",
       "    <tr>\n",
       "      <th>25%</th>\n",
       "      <td>4.000000</td>\n",
       "      <td>533.500000</td>\n",
       "      <td>523.500000</td>\n",
       "      <td>1055.500000</td>\n",
       "      <td>31.000000</td>\n",
       "      <td>19.000000</td>\n",
       "      <td>19.400000</td>\n",
       "      <td>20.450000</td>\n",
       "      <td>19.950000</td>\n",
       "      <td>19.800000</td>\n",
       "      <td>4.500000</td>\n",
       "      <td>534.500000</td>\n",
       "      <td>522.500000</td>\n",
       "      <td>1057.500000</td>\n",
       "      <td>28.500000</td>\n",
       "      <td>19.100000</td>\n",
       "      <td>19.400000</td>\n",
       "      <td>20.450000</td>\n",
       "      <td>19.850000</td>\n",
       "      <td>19.950000</td>\n",
       "    </tr>\n",
       "    <tr>\n",
       "      <th>50%</th>\n",
       "      <td>38.000000</td>\n",
       "      <td>559.000000</td>\n",
       "      <td>548.000000</td>\n",
       "      <td>1107.000000</td>\n",
       "      <td>69.000000</td>\n",
       "      <td>20.700000</td>\n",
       "      <td>20.900000</td>\n",
       "      <td>21.800000</td>\n",
       "      <td>21.300000</td>\n",
       "      <td>21.400000</td>\n",
       "      <td>52.000000</td>\n",
       "      <td>552.000000</td>\n",
       "      <td>544.000000</td>\n",
       "      <td>1098.000000</td>\n",
       "      <td>66.000000</td>\n",
       "      <td>20.200000</td>\n",
       "      <td>20.700000</td>\n",
       "      <td>21.600000</td>\n",
       "      <td>21.100000</td>\n",
       "      <td>21.300000</td>\n",
       "    </tr>\n",
       "    <tr>\n",
       "      <th>75%</th>\n",
       "      <td>66.000000</td>\n",
       "      <td>613.000000</td>\n",
       "      <td>599.000000</td>\n",
       "      <td>1212.000000</td>\n",
       "      <td>100.000000</td>\n",
       "      <td>23.300000</td>\n",
       "      <td>23.100000</td>\n",
       "      <td>24.150000</td>\n",
       "      <td>23.200000</td>\n",
       "      <td>23.600000</td>\n",
       "      <td>77.500000</td>\n",
       "      <td>610.500000</td>\n",
       "      <td>593.500000</td>\n",
       "      <td>1204.000000</td>\n",
       "      <td>100.000000</td>\n",
       "      <td>23.700000</td>\n",
       "      <td>23.150000</td>\n",
       "      <td>24.100000</td>\n",
       "      <td>23.050000</td>\n",
       "      <td>23.550000</td>\n",
       "    </tr>\n",
       "    <tr>\n",
       "      <th>max</th>\n",
       "      <td>100.000000</td>\n",
       "      <td>644.000000</td>\n",
       "      <td>651.000000</td>\n",
       "      <td>1295.000000</td>\n",
       "      <td>100.000000</td>\n",
       "      <td>25.500000</td>\n",
       "      <td>25.300000</td>\n",
       "      <td>26.000000</td>\n",
       "      <td>24.900000</td>\n",
       "      <td>25.500000</td>\n",
       "      <td>100.000000</td>\n",
       "      <td>643.000000</td>\n",
       "      <td>655.000000</td>\n",
       "      <td>1298.000000</td>\n",
       "      <td>100.000000</td>\n",
       "      <td>26.000000</td>\n",
       "      <td>25.200000</td>\n",
       "      <td>26.100000</td>\n",
       "      <td>24.900000</td>\n",
       "      <td>25.600000</td>\n",
       "    </tr>\n",
       "  </tbody>\n",
       "</table>\n",
       "</div>"
      ],
      "text/plain": [
       "       sat_participation_2017  sat_evidence-based_reading_and_writing_2017  \\\n",
       "count               51.000000                                    51.000000   \n",
       "mean                39.803922                                   569.117647   \n",
       "std                 35.276632                                    45.666901   \n",
       "min                  2.000000                                   482.000000   \n",
       "25%                  4.000000                                   533.500000   \n",
       "50%                 38.000000                                   559.000000   \n",
       "75%                 66.000000                                   613.000000   \n",
       "max                100.000000                                   644.000000   \n",
       "\n",
       "       sat_math_2017  sat_total_2017  act_participation_2017  \\\n",
       "count      51.000000       51.000000               51.000000   \n",
       "mean      556.882353     1126.098039               65.254902   \n",
       "std        47.121395       92.494812               32.140842   \n",
       "min       468.000000      950.000000                8.000000   \n",
       "25%       523.500000     1055.500000               31.000000   \n",
       "50%       548.000000     1107.000000               69.000000   \n",
       "75%       599.000000     1212.000000              100.000000   \n",
       "max       651.000000     1295.000000              100.000000   \n",
       "\n",
       "       act_english_2017  act_math_2017  act_reading_2017  act_science_2017  \\\n",
       "count         51.000000      51.000000         51.000000         51.000000   \n",
       "mean          20.931373      21.182353         22.013725         21.450980   \n",
       "std            2.353677       1.981989          2.067271          1.739353   \n",
       "min           16.300000      18.000000         18.100000         18.200000   \n",
       "25%           19.000000      19.400000         20.450000         19.950000   \n",
       "50%           20.700000      20.900000         21.800000         21.300000   \n",
       "75%           23.300000      23.100000         24.150000         23.200000   \n",
       "max           25.500000      25.300000         26.000000         24.900000   \n",
       "\n",
       "       act_composite_2017  sat_participation_2018  \\\n",
       "count           51.000000               51.000000   \n",
       "mean            21.519608               45.745098   \n",
       "std              2.020695               37.314256   \n",
       "min             17.800000                2.000000   \n",
       "25%             19.800000                4.500000   \n",
       "50%             21.400000               52.000000   \n",
       "75%             23.600000               77.500000   \n",
       "max             25.500000              100.000000   \n",
       "\n",
       "       sat_evidence-based_reading_and_writing_2018  sat_math_2018  \\\n",
       "count                                    51.000000      51.000000   \n",
       "mean                                    563.686275     556.235294   \n",
       "std                                      47.502627      47.772623   \n",
       "min                                     480.000000     480.000000   \n",
       "25%                                     534.500000     522.500000   \n",
       "50%                                     552.000000     544.000000   \n",
       "75%                                     610.500000     593.500000   \n",
       "max                                     643.000000     655.000000   \n",
       "\n",
       "       sat_total_2018  act_participation_2018  act_english_2018  \\\n",
       "count       51.000000               51.000000         51.000000   \n",
       "mean      1120.019608               61.647059         20.988235   \n",
       "std         94.155083               34.080976          2.446356   \n",
       "min        977.000000                7.000000         16.600000   \n",
       "25%       1057.500000               28.500000         19.100000   \n",
       "50%       1098.000000               66.000000         20.200000   \n",
       "75%       1204.000000              100.000000         23.700000   \n",
       "max       1298.000000              100.000000         26.000000   \n",
       "\n",
       "       act_math_2018  act_reading_2018  act_science_2018  act_composite_2018  \n",
       "count      51.000000         51.000000         51.000000           51.000000  \n",
       "mean       21.125490         22.015686         21.345098           21.486275  \n",
       "std         2.035765          2.167245          1.870114            2.106278  \n",
       "min        17.800000         18.000000         17.900000           17.700000  \n",
       "25%        19.400000         20.450000         19.850000           19.950000  \n",
       "50%        20.700000         21.600000         21.100000           21.300000  \n",
       "75%        23.150000         24.100000         23.050000           23.550000  \n",
       "max        25.200000         26.100000         24.900000           25.600000  "
      ]
     },
     "execution_count": 37,
     "metadata": {},
     "output_type": "execute_result"
    }
   ],
   "source": [
    "#Check overview of numeric feature\n",
    "data1718.describe()"
   ]
  },
  {
   "cell_type": "markdown",
   "metadata": {},
   "source": [
    "#### Manually calculate standard deviation\n",
    "\n",
    "$$\\sigma = \\sqrt{\\frac{1}{n}\\sum_{i=1}^n(x_i - \\mu)^2}$$\n",
    "\n",
    "- Write a function to calculate standard deviation using the formula above"
   ]
  },
  {
   "cell_type": "code",
   "execution_count": 38,
   "metadata": {},
   "outputs": [],
   "source": [
    "#Create function that manually calculates standard deviation\n",
    "def calc_stddev(x):\n",
    "    n = len(x)\n",
    "    mean_ = sum(x) / n\n",
    "    var_ = sum((item - mean_)**2 for item in x) / (n)\n",
    "    std_ = var_ ** 0.5\n",
    "    return std_"
   ]
  },
  {
   "cell_type": "markdown",
   "metadata": {},
   "source": [
    "- Use a **dictionary comprehension** to apply your standard deviation function to each numeric column in the dataframe.  **No loops**  \n",
    "- Assign the output to variable `sd` as a dictionary where: \n",
    "    - Each column name is now a key \n",
    "    - That standard deviation of the column is the value \n",
    "     \n",
    "*Example Output :* `{'ACT_Math': 120, 'ACT_Reading': 120, ...}`"
   ]
  },
  {
   "cell_type": "code",
   "execution_count": 39,
   "metadata": {},
   "outputs": [
    {
     "data": {
      "text/plain": [
       "{'sat_participation_2017': 34.92907076664508,\n",
       " 'sat_evidence-based_reading_and_writing_2017': 45.21697020437866,\n",
       " 'sat_math_2017': 46.65713364485503,\n",
       " 'sat_total_2017': 91.58351056778743,\n",
       " 'act_participation_2017': 31.824175751231806,\n",
       " 'act_english_2017': 2.3304876369363363,\n",
       " 'act_math_2017': 1.9624620273436781,\n",
       " 'act_reading_2017': 2.0469029314842646,\n",
       " 'act_science_2017': 1.7222161451443676,\n",
       " 'act_composite_2017': 2.000786081581989,\n",
       " 'sat_participation_2018': 36.946619223539415,\n",
       " 'sat_evidence-based_reading_and_writing_2018': 47.03460978357609,\n",
       " 'sat_math_2018': 47.30194550378352,\n",
       " 'sat_total_2018': 93.22742384464433,\n",
       " 'act_participation_2018': 33.745194881997506,\n",
       " 'act_english_2018': 2.4222536143202795,\n",
       " 'act_math_2018': 2.015707255555717,\n",
       " 'act_reading_2018': 2.145891884510421,\n",
       " 'act_science_2018': 1.8516885484833543,\n",
       " 'act_composite_2018': 2.0855261815801147}"
      ]
     },
     "execution_count": 39,
     "metadata": {},
     "output_type": "execute_result"
    }
   ],
   "source": [
    "#Make data into a dictionary with values in a list\n",
    "field = data1718.to_dict('list')\n",
    "\n",
    "#Remove 'State' from dataset (do not want to get std dev for 'state')\n",
    "field.pop('state')\n",
    "\n",
    "#Using dictionary comprehension, apply manual function to calculate standard deviation\n",
    "{k:calc_stddev((v)) for k,v in field.items()}"
   ]
  },
  {
   "cell_type": "code",
   "execution_count": 40,
   "metadata": {
    "scrolled": true
   },
   "outputs": [
    {
     "data": {
      "text/html": [
       "<div>\n",
       "<style scoped>\n",
       "    .dataframe tbody tr th:only-of-type {\n",
       "        vertical-align: middle;\n",
       "    }\n",
       "\n",
       "    .dataframe tbody tr th {\n",
       "        vertical-align: top;\n",
       "    }\n",
       "\n",
       "    .dataframe thead th {\n",
       "        text-align: right;\n",
       "    }\n",
       "</style>\n",
       "<table border=\"1\" class=\"dataframe\">\n",
       "  <thead>\n",
       "    <tr style=\"text-align: right;\">\n",
       "      <th></th>\n",
       "      <th>sat_participation_2017</th>\n",
       "      <th>sat_evidence-based_reading_and_writing_2017</th>\n",
       "      <th>sat_math_2017</th>\n",
       "      <th>sat_total_2017</th>\n",
       "      <th>act_participation_2017</th>\n",
       "      <th>act_english_2017</th>\n",
       "      <th>act_math_2017</th>\n",
       "      <th>act_reading_2017</th>\n",
       "      <th>act_science_2017</th>\n",
       "      <th>act_composite_2017</th>\n",
       "      <th>sat_participation_2018</th>\n",
       "      <th>sat_evidence-based_reading_and_writing_2018</th>\n",
       "      <th>sat_math_2018</th>\n",
       "      <th>sat_total_2018</th>\n",
       "      <th>act_participation_2018</th>\n",
       "      <th>act_english_2018</th>\n",
       "      <th>act_math_2018</th>\n",
       "      <th>act_reading_2018</th>\n",
       "      <th>act_science_2018</th>\n",
       "      <th>act_composite_2018</th>\n",
       "    </tr>\n",
       "  </thead>\n",
       "  <tbody>\n",
       "    <tr>\n",
       "      <th>count</th>\n",
       "      <td>51.000000</td>\n",
       "      <td>51.000000</td>\n",
       "      <td>51.000000</td>\n",
       "      <td>51.000000</td>\n",
       "      <td>51.000000</td>\n",
       "      <td>51.000000</td>\n",
       "      <td>51.000000</td>\n",
       "      <td>51.000000</td>\n",
       "      <td>51.000000</td>\n",
       "      <td>51.000000</td>\n",
       "      <td>51.000000</td>\n",
       "      <td>51.000000</td>\n",
       "      <td>51.000000</td>\n",
       "      <td>51.000000</td>\n",
       "      <td>51.000000</td>\n",
       "      <td>51.000000</td>\n",
       "      <td>51.000000</td>\n",
       "      <td>51.000000</td>\n",
       "      <td>51.000000</td>\n",
       "      <td>51.000000</td>\n",
       "    </tr>\n",
       "    <tr>\n",
       "      <th>mean</th>\n",
       "      <td>39.803922</td>\n",
       "      <td>569.117647</td>\n",
       "      <td>556.882353</td>\n",
       "      <td>1126.098039</td>\n",
       "      <td>65.254902</td>\n",
       "      <td>20.931373</td>\n",
       "      <td>21.182353</td>\n",
       "      <td>22.013725</td>\n",
       "      <td>21.450980</td>\n",
       "      <td>21.519608</td>\n",
       "      <td>45.745098</td>\n",
       "      <td>563.686275</td>\n",
       "      <td>556.235294</td>\n",
       "      <td>1120.019608</td>\n",
       "      <td>61.647059</td>\n",
       "      <td>20.988235</td>\n",
       "      <td>21.125490</td>\n",
       "      <td>22.015686</td>\n",
       "      <td>21.345098</td>\n",
       "      <td>21.486275</td>\n",
       "    </tr>\n",
       "    <tr>\n",
       "      <th>std</th>\n",
       "      <td>35.276632</td>\n",
       "      <td>45.666901</td>\n",
       "      <td>47.121395</td>\n",
       "      <td>92.494812</td>\n",
       "      <td>32.140842</td>\n",
       "      <td>2.353677</td>\n",
       "      <td>1.981989</td>\n",
       "      <td>2.067271</td>\n",
       "      <td>1.739353</td>\n",
       "      <td>2.020695</td>\n",
       "      <td>37.314256</td>\n",
       "      <td>47.502627</td>\n",
       "      <td>47.772623</td>\n",
       "      <td>94.155083</td>\n",
       "      <td>34.080976</td>\n",
       "      <td>2.446356</td>\n",
       "      <td>2.035765</td>\n",
       "      <td>2.167245</td>\n",
       "      <td>1.870114</td>\n",
       "      <td>2.106278</td>\n",
       "    </tr>\n",
       "    <tr>\n",
       "      <th>min</th>\n",
       "      <td>2.000000</td>\n",
       "      <td>482.000000</td>\n",
       "      <td>468.000000</td>\n",
       "      <td>950.000000</td>\n",
       "      <td>8.000000</td>\n",
       "      <td>16.300000</td>\n",
       "      <td>18.000000</td>\n",
       "      <td>18.100000</td>\n",
       "      <td>18.200000</td>\n",
       "      <td>17.800000</td>\n",
       "      <td>2.000000</td>\n",
       "      <td>480.000000</td>\n",
       "      <td>480.000000</td>\n",
       "      <td>977.000000</td>\n",
       "      <td>7.000000</td>\n",
       "      <td>16.600000</td>\n",
       "      <td>17.800000</td>\n",
       "      <td>18.000000</td>\n",
       "      <td>17.900000</td>\n",
       "      <td>17.700000</td>\n",
       "    </tr>\n",
       "    <tr>\n",
       "      <th>25%</th>\n",
       "      <td>4.000000</td>\n",
       "      <td>533.500000</td>\n",
       "      <td>523.500000</td>\n",
       "      <td>1055.500000</td>\n",
       "      <td>31.000000</td>\n",
       "      <td>19.000000</td>\n",
       "      <td>19.400000</td>\n",
       "      <td>20.450000</td>\n",
       "      <td>19.950000</td>\n",
       "      <td>19.800000</td>\n",
       "      <td>4.500000</td>\n",
       "      <td>534.500000</td>\n",
       "      <td>522.500000</td>\n",
       "      <td>1057.500000</td>\n",
       "      <td>28.500000</td>\n",
       "      <td>19.100000</td>\n",
       "      <td>19.400000</td>\n",
       "      <td>20.450000</td>\n",
       "      <td>19.850000</td>\n",
       "      <td>19.950000</td>\n",
       "    </tr>\n",
       "    <tr>\n",
       "      <th>50%</th>\n",
       "      <td>38.000000</td>\n",
       "      <td>559.000000</td>\n",
       "      <td>548.000000</td>\n",
       "      <td>1107.000000</td>\n",
       "      <td>69.000000</td>\n",
       "      <td>20.700000</td>\n",
       "      <td>20.900000</td>\n",
       "      <td>21.800000</td>\n",
       "      <td>21.300000</td>\n",
       "      <td>21.400000</td>\n",
       "      <td>52.000000</td>\n",
       "      <td>552.000000</td>\n",
       "      <td>544.000000</td>\n",
       "      <td>1098.000000</td>\n",
       "      <td>66.000000</td>\n",
       "      <td>20.200000</td>\n",
       "      <td>20.700000</td>\n",
       "      <td>21.600000</td>\n",
       "      <td>21.100000</td>\n",
       "      <td>21.300000</td>\n",
       "    </tr>\n",
       "    <tr>\n",
       "      <th>75%</th>\n",
       "      <td>66.000000</td>\n",
       "      <td>613.000000</td>\n",
       "      <td>599.000000</td>\n",
       "      <td>1212.000000</td>\n",
       "      <td>100.000000</td>\n",
       "      <td>23.300000</td>\n",
       "      <td>23.100000</td>\n",
       "      <td>24.150000</td>\n",
       "      <td>23.200000</td>\n",
       "      <td>23.600000</td>\n",
       "      <td>77.500000</td>\n",
       "      <td>610.500000</td>\n",
       "      <td>593.500000</td>\n",
       "      <td>1204.000000</td>\n",
       "      <td>100.000000</td>\n",
       "      <td>23.700000</td>\n",
       "      <td>23.150000</td>\n",
       "      <td>24.100000</td>\n",
       "      <td>23.050000</td>\n",
       "      <td>23.550000</td>\n",
       "    </tr>\n",
       "    <tr>\n",
       "      <th>max</th>\n",
       "      <td>100.000000</td>\n",
       "      <td>644.000000</td>\n",
       "      <td>651.000000</td>\n",
       "      <td>1295.000000</td>\n",
       "      <td>100.000000</td>\n",
       "      <td>25.500000</td>\n",
       "      <td>25.300000</td>\n",
       "      <td>26.000000</td>\n",
       "      <td>24.900000</td>\n",
       "      <td>25.500000</td>\n",
       "      <td>100.000000</td>\n",
       "      <td>643.000000</td>\n",
       "      <td>655.000000</td>\n",
       "      <td>1298.000000</td>\n",
       "      <td>100.000000</td>\n",
       "      <td>26.000000</td>\n",
       "      <td>25.200000</td>\n",
       "      <td>26.100000</td>\n",
       "      <td>24.900000</td>\n",
       "      <td>25.600000</td>\n",
       "    </tr>\n",
       "  </tbody>\n",
       "</table>\n",
       "</div>"
      ],
      "text/plain": [
       "       sat_participation_2017  sat_evidence-based_reading_and_writing_2017  \\\n",
       "count               51.000000                                    51.000000   \n",
       "mean                39.803922                                   569.117647   \n",
       "std                 35.276632                                    45.666901   \n",
       "min                  2.000000                                   482.000000   \n",
       "25%                  4.000000                                   533.500000   \n",
       "50%                 38.000000                                   559.000000   \n",
       "75%                 66.000000                                   613.000000   \n",
       "max                100.000000                                   644.000000   \n",
       "\n",
       "       sat_math_2017  sat_total_2017  act_participation_2017  \\\n",
       "count      51.000000       51.000000               51.000000   \n",
       "mean      556.882353     1126.098039               65.254902   \n",
       "std        47.121395       92.494812               32.140842   \n",
       "min       468.000000      950.000000                8.000000   \n",
       "25%       523.500000     1055.500000               31.000000   \n",
       "50%       548.000000     1107.000000               69.000000   \n",
       "75%       599.000000     1212.000000              100.000000   \n",
       "max       651.000000     1295.000000              100.000000   \n",
       "\n",
       "       act_english_2017  act_math_2017  act_reading_2017  act_science_2017  \\\n",
       "count         51.000000      51.000000         51.000000         51.000000   \n",
       "mean          20.931373      21.182353         22.013725         21.450980   \n",
       "std            2.353677       1.981989          2.067271          1.739353   \n",
       "min           16.300000      18.000000         18.100000         18.200000   \n",
       "25%           19.000000      19.400000         20.450000         19.950000   \n",
       "50%           20.700000      20.900000         21.800000         21.300000   \n",
       "75%           23.300000      23.100000         24.150000         23.200000   \n",
       "max           25.500000      25.300000         26.000000         24.900000   \n",
       "\n",
       "       act_composite_2017  sat_participation_2018  \\\n",
       "count           51.000000               51.000000   \n",
       "mean            21.519608               45.745098   \n",
       "std              2.020695               37.314256   \n",
       "min             17.800000                2.000000   \n",
       "25%             19.800000                4.500000   \n",
       "50%             21.400000               52.000000   \n",
       "75%             23.600000               77.500000   \n",
       "max             25.500000              100.000000   \n",
       "\n",
       "       sat_evidence-based_reading_and_writing_2018  sat_math_2018  \\\n",
       "count                                    51.000000      51.000000   \n",
       "mean                                    563.686275     556.235294   \n",
       "std                                      47.502627      47.772623   \n",
       "min                                     480.000000     480.000000   \n",
       "25%                                     534.500000     522.500000   \n",
       "50%                                     552.000000     544.000000   \n",
       "75%                                     610.500000     593.500000   \n",
       "max                                     643.000000     655.000000   \n",
       "\n",
       "       sat_total_2018  act_participation_2018  act_english_2018  \\\n",
       "count       51.000000               51.000000         51.000000   \n",
       "mean      1120.019608               61.647059         20.988235   \n",
       "std         94.155083               34.080976          2.446356   \n",
       "min        977.000000                7.000000         16.600000   \n",
       "25%       1057.500000               28.500000         19.100000   \n",
       "50%       1098.000000               66.000000         20.200000   \n",
       "75%       1204.000000              100.000000         23.700000   \n",
       "max       1298.000000              100.000000         26.000000   \n",
       "\n",
       "       act_math_2018  act_reading_2018  act_science_2018  act_composite_2018  \n",
       "count      51.000000         51.000000         51.000000           51.000000  \n",
       "mean       21.125490         22.015686         21.345098           21.486275  \n",
       "std         2.035765          2.167245          1.870114            2.106278  \n",
       "min        17.800000         18.000000         17.900000           17.700000  \n",
       "25%        19.400000         20.450000         19.850000           19.950000  \n",
       "50%        20.700000         21.600000         21.100000           21.300000  \n",
       "75%        23.150000         24.100000         23.050000           23.550000  \n",
       "max        25.200000         26.100000         24.900000           25.600000  "
      ]
     },
     "execution_count": 40,
     "metadata": {},
     "output_type": "execute_result"
    }
   ],
   "source": [
    "#Print out pandas .describe() function for comparison\n",
    "data1718.describe()"
   ]
  },
  {
   "cell_type": "code",
   "execution_count": 41,
   "metadata": {},
   "outputs": [
    {
     "data": {
      "text/plain": [
       "{'sat_participation_2017': 34.929070766645076,\n",
       " 'sat_evidence-based_reading_and_writing_2017': 45.21697020437866,\n",
       " 'sat_math_2017': 46.65713364485504,\n",
       " 'sat_total_2017': 91.58351056778743,\n",
       " 'act_participation_2017': 31.824175751231806,\n",
       " 'act_english_2017': 2.3304876369363368,\n",
       " 'act_math_2017': 1.9624620273436781,\n",
       " 'act_reading_2017': 2.046902931484265,\n",
       " 'act_science_2017': 1.7222161451443672,\n",
       " 'act_composite_2017': 2.0007860815819893,\n",
       " 'sat_participation_2018': 36.946619223539415,\n",
       " 'sat_evidence-based_reading_and_writing_2018': 47.03460978357609,\n",
       " 'sat_math_2018': 47.301945503783536,\n",
       " 'sat_total_2018': 93.22742384464432,\n",
       " 'act_participation_2018': 33.745194881997506,\n",
       " 'act_english_2018': 2.4222536143202795,\n",
       " 'act_math_2018': 2.0157072555557174,\n",
       " 'act_reading_2018': 2.1458918845104216,\n",
       " 'act_science_2018': 1.8516885484833538,\n",
       " 'act_composite_2018': 2.0855261815801143}"
      ]
     },
     "execution_count": 41,
     "metadata": {},
     "output_type": "execute_result"
    }
   ],
   "source": [
    "#Print out values using numpy's .std function for comparison\n",
    "{k:np.std(v) for k,v in field.items()}"
   ]
  },
  {
   "cell_type": "markdown",
   "metadata": {},
   "source": [
    "Do your manually calculated standard deviations match up with the output from pandas `describe`? What about numpy's `std` method?"
   ]
  },
  {
   "cell_type": "markdown",
   "metadata": {},
   "source": [
    "Answer:  \n",
    "**Does not match up, pandas .describe() method is slightly higher.   \n",
    "Values for manual calculation and numpy's .std() matched up instead.**\n",
    "\n",
    "\n",
    "\"The reason it's different is because pandas uses bottleneck (if it's installed) when calling the mean operation, as opposed to just relying on numpy. bottleneck is presumably used since it appears to be faster than numpy (at least on my machine), but at the cost of precision. They happen to match for the 64 bit version, but differ in 32 bit land (which is the interesting part).\"\n",
    "\n",
    "From:  \n",
    "https://stackoverflow.com/questions/53042250/mean-from-pandas-and-numpy-differ"
   ]
  },
  {
   "cell_type": "markdown",
   "metadata": {},
   "source": [
    "#### Investigate trends in the data\n",
    "Using sorting and/or masking (along with the `.head` method to not print our entire dataframe), consider the following questions:\n",
    "\n",
    "- Which states have the highest and lowest participation rates for the:\n",
    "    - 2017 SAT?\n",
    "    - 2018 SAT?\n",
    "    - 2017 ACT?\n",
    "    - 2018 ACT?\n",
    "- Which states have the highest and lowest mean total/composite scores for the:\n",
    "    - 2017 SAT?\n",
    "    - 2018 SAT?\n",
    "    - 2017 ACT?\n",
    "    - 2018 ACT?\n",
    "- Do any states with 100% participation on a given test have a rate change year-to-year?\n",
    "- Do any states show have >50% participation on *both* tests either year?\n",
    "\n",
    "Based on what you've just observed, have you identified any states that you're especially interested in? **Make a note of these and state *why* you think they're interesting**.\n",
    "\n",
    "**You should comment on your findings at each step in a markdown cell below your code block**. Make sure you include at least one example of sorting your dataframe by a column, and one example of using boolean filtering (i.e., masking) to select a subset of the dataframe."
   ]
  },
  {
   "cell_type": "code",
   "execution_count": 78,
   "metadata": {
    "scrolled": true
   },
   "outputs": [
    {
     "data": {
      "text/html": [
       "<div>\n",
       "<style scoped>\n",
       "    .dataframe tbody tr th:only-of-type {\n",
       "        vertical-align: middle;\n",
       "    }\n",
       "\n",
       "    .dataframe tbody tr th {\n",
       "        vertical-align: top;\n",
       "    }\n",
       "\n",
       "    .dataframe thead th {\n",
       "        text-align: right;\n",
       "    }\n",
       "</style>\n",
       "<table border=\"1\" class=\"dataframe\">\n",
       "  <thead>\n",
       "    <tr style=\"text-align: right;\">\n",
       "      <th></th>\n",
       "      <th>state</th>\n",
       "      <th>sat_participation_2017</th>\n",
       "      <th>sat_evidence-based_reading_and_writing_2017</th>\n",
       "      <th>sat_math_2017</th>\n",
       "      <th>sat_total_2017</th>\n",
       "      <th>act_participation_2017</th>\n",
       "      <th>act_english_2017</th>\n",
       "      <th>act_math_2017</th>\n",
       "      <th>act_reading_2017</th>\n",
       "      <th>act_science_2017</th>\n",
       "      <th>...</th>\n",
       "      <th>act_participation_2018</th>\n",
       "      <th>act_english_2018</th>\n",
       "      <th>act_math_2018</th>\n",
       "      <th>act_reading_2018</th>\n",
       "      <th>act_science_2018</th>\n",
       "      <th>act_composite_2018</th>\n",
       "      <th>act_ptcpt_change</th>\n",
       "      <th>compo_change</th>\n",
       "      <th>sat_ptcpt_change</th>\n",
       "      <th>total_change</th>\n",
       "    </tr>\n",
       "  </thead>\n",
       "  <tbody>\n",
       "    <tr>\n",
       "      <th>8</th>\n",
       "      <td>District of Columbia</td>\n",
       "      <td>100</td>\n",
       "      <td>482</td>\n",
       "      <td>468</td>\n",
       "      <td>950</td>\n",
       "      <td>32</td>\n",
       "      <td>24.4</td>\n",
       "      <td>23.5</td>\n",
       "      <td>24.9</td>\n",
       "      <td>23.5</td>\n",
       "      <td>...</td>\n",
       "      <td>32</td>\n",
       "      <td>23.7</td>\n",
       "      <td>22.7</td>\n",
       "      <td>24.4</td>\n",
       "      <td>23.0</td>\n",
       "      <td>23.6</td>\n",
       "      <td>0</td>\n",
       "      <td>-0.6</td>\n",
       "      <td>-8</td>\n",
       "      <td>27</td>\n",
       "    </tr>\n",
       "    <tr>\n",
       "      <th>22</th>\n",
       "      <td>Michigan</td>\n",
       "      <td>100</td>\n",
       "      <td>509</td>\n",
       "      <td>495</td>\n",
       "      <td>1005</td>\n",
       "      <td>29</td>\n",
       "      <td>24.1</td>\n",
       "      <td>23.7</td>\n",
       "      <td>24.5</td>\n",
       "      <td>23.8</td>\n",
       "      <td>...</td>\n",
       "      <td>22</td>\n",
       "      <td>24.5</td>\n",
       "      <td>23.9</td>\n",
       "      <td>24.7</td>\n",
       "      <td>23.9</td>\n",
       "      <td>24.4</td>\n",
       "      <td>-7</td>\n",
       "      <td>0.3</td>\n",
       "      <td>0</td>\n",
       "      <td>6</td>\n",
       "    </tr>\n",
       "    <tr>\n",
       "      <th>6</th>\n",
       "      <td>Connecticut</td>\n",
       "      <td>100</td>\n",
       "      <td>530</td>\n",
       "      <td>512</td>\n",
       "      <td>1041</td>\n",
       "      <td>31</td>\n",
       "      <td>25.5</td>\n",
       "      <td>24.6</td>\n",
       "      <td>25.6</td>\n",
       "      <td>24.6</td>\n",
       "      <td>...</td>\n",
       "      <td>26</td>\n",
       "      <td>26.0</td>\n",
       "      <td>24.8</td>\n",
       "      <td>26.1</td>\n",
       "      <td>24.9</td>\n",
       "      <td>25.6</td>\n",
       "      <td>-5</td>\n",
       "      <td>0.4</td>\n",
       "      <td>0</td>\n",
       "      <td>12</td>\n",
       "    </tr>\n",
       "    <tr>\n",
       "      <th>7</th>\n",
       "      <td>Delaware</td>\n",
       "      <td>100</td>\n",
       "      <td>503</td>\n",
       "      <td>492</td>\n",
       "      <td>996</td>\n",
       "      <td>18</td>\n",
       "      <td>24.1</td>\n",
       "      <td>23.4</td>\n",
       "      <td>24.8</td>\n",
       "      <td>23.6</td>\n",
       "      <td>...</td>\n",
       "      <td>17</td>\n",
       "      <td>23.7</td>\n",
       "      <td>23.1</td>\n",
       "      <td>24.5</td>\n",
       "      <td>23.4</td>\n",
       "      <td>23.2</td>\n",
       "      <td>-1</td>\n",
       "      <td>-0.9</td>\n",
       "      <td>0</td>\n",
       "      <td>2</td>\n",
       "    </tr>\n",
       "    <tr>\n",
       "      <th>29</th>\n",
       "      <td>New Hampshire</td>\n",
       "      <td>96</td>\n",
       "      <td>532</td>\n",
       "      <td>520</td>\n",
       "      <td>1052</td>\n",
       "      <td>18</td>\n",
       "      <td>25.4</td>\n",
       "      <td>25.1</td>\n",
       "      <td>26.0</td>\n",
       "      <td>24.9</td>\n",
       "      <td>...</td>\n",
       "      <td>16</td>\n",
       "      <td>25.1</td>\n",
       "      <td>24.7</td>\n",
       "      <td>25.6</td>\n",
       "      <td>24.4</td>\n",
       "      <td>25.1</td>\n",
       "      <td>-2</td>\n",
       "      <td>-0.4</td>\n",
       "      <td>0</td>\n",
       "      <td>11</td>\n",
       "    </tr>\n",
       "  </tbody>\n",
       "</table>\n",
       "<p>5 rows × 25 columns</p>\n",
       "</div>"
      ],
      "text/plain": [
       "                   state  sat_participation_2017  \\\n",
       "8   District of Columbia                     100   \n",
       "22              Michigan                     100   \n",
       "6            Connecticut                     100   \n",
       "7               Delaware                     100   \n",
       "29         New Hampshire                      96   \n",
       "\n",
       "    sat_evidence-based_reading_and_writing_2017  sat_math_2017  \\\n",
       "8                                           482            468   \n",
       "22                                          509            495   \n",
       "6                                           530            512   \n",
       "7                                           503            492   \n",
       "29                                          532            520   \n",
       "\n",
       "    sat_total_2017  act_participation_2017  act_english_2017  act_math_2017  \\\n",
       "8              950                      32              24.4           23.5   \n",
       "22            1005                      29              24.1           23.7   \n",
       "6             1041                      31              25.5           24.6   \n",
       "7              996                      18              24.1           23.4   \n",
       "29            1052                      18              25.4           25.1   \n",
       "\n",
       "    act_reading_2017  act_science_2017  ...  act_participation_2018  \\\n",
       "8               24.9              23.5  ...                      32   \n",
       "22              24.5              23.8  ...                      22   \n",
       "6               25.6              24.6  ...                      26   \n",
       "7               24.8              23.6  ...                      17   \n",
       "29              26.0              24.9  ...                      16   \n",
       "\n",
       "    act_english_2018  act_math_2018  act_reading_2018  act_science_2018  \\\n",
       "8               23.7           22.7              24.4              23.0   \n",
       "22              24.5           23.9              24.7              23.9   \n",
       "6               26.0           24.8              26.1              24.9   \n",
       "7               23.7           23.1              24.5              23.4   \n",
       "29              25.1           24.7              25.6              24.4   \n",
       "\n",
       "    act_composite_2018  act_ptcpt_change  compo_change  sat_ptcpt_change  \\\n",
       "8                 23.6                 0          -0.6                -8   \n",
       "22                24.4                -7           0.3                 0   \n",
       "6                 25.6                -5           0.4                 0   \n",
       "7                 23.2                -1          -0.9                 0   \n",
       "29                25.1                -2          -0.4                 0   \n",
       "\n",
       "    total_change  \n",
       "8             27  \n",
       "22             6  \n",
       "6             12  \n",
       "7              2  \n",
       "29            11  \n",
       "\n",
       "[5 rows x 25 columns]"
      ]
     },
     "execution_count": 78,
     "metadata": {},
     "output_type": "execute_result"
    }
   ],
   "source": [
    "#Use .sort_values to find states with highest and lowest participation rates\n",
    "#Sorting method\n",
    "data1718.sort_values('sat_participation_2017', ascending=False).head(5)"
   ]
  },
  {
   "cell_type": "code",
   "execution_count": 43,
   "metadata": {},
   "outputs": [
    {
     "data": {
      "text/html": [
       "<div>\n",
       "<style scoped>\n",
       "    .dataframe tbody tr th:only-of-type {\n",
       "        vertical-align: middle;\n",
       "    }\n",
       "\n",
       "    .dataframe tbody tr th {\n",
       "        vertical-align: top;\n",
       "    }\n",
       "\n",
       "    .dataframe thead th {\n",
       "        text-align: right;\n",
       "    }\n",
       "</style>\n",
       "<table border=\"1\" class=\"dataframe\">\n",
       "  <thead>\n",
       "    <tr style=\"text-align: right;\">\n",
       "      <th></th>\n",
       "      <th>state</th>\n",
       "      <th>act_participation_2017</th>\n",
       "      <th>act_composite_2017</th>\n",
       "    </tr>\n",
       "  </thead>\n",
       "  <tbody>\n",
       "    <tr>\n",
       "      <th>29</th>\n",
       "      <td>New Hampshire</td>\n",
       "      <td>18</td>\n",
       "      <td>25.5</td>\n",
       "    </tr>\n",
       "    <tr>\n",
       "      <th>21</th>\n",
       "      <td>Massachusetts</td>\n",
       "      <td>29</td>\n",
       "      <td>25.4</td>\n",
       "    </tr>\n",
       "    <tr>\n",
       "      <th>6</th>\n",
       "      <td>Connecticut</td>\n",
       "      <td>31</td>\n",
       "      <td>25.2</td>\n",
       "    </tr>\n",
       "    <tr>\n",
       "      <th>19</th>\n",
       "      <td>Maine</td>\n",
       "      <td>8</td>\n",
       "      <td>24.3</td>\n",
       "    </tr>\n",
       "    <tr>\n",
       "      <th>8</th>\n",
       "      <td>District of Columbia</td>\n",
       "      <td>32</td>\n",
       "      <td>24.2</td>\n",
       "    </tr>\n",
       "  </tbody>\n",
       "</table>\n",
       "</div>"
      ],
      "text/plain": [
       "                   state  act_participation_2017  act_composite_2017\n",
       "29         New Hampshire                      18                25.5\n",
       "21         Massachusetts                      29                25.4\n",
       "6            Connecticut                      31                25.2\n",
       "19                 Maine                       8                24.3\n",
       "8   District of Columbia                      32                24.2"
      ]
     },
     "execution_count": 43,
     "metadata": {},
     "output_type": "execute_result"
    }
   ],
   "source": [
    "#Use .sort_values to find states with highest and lowest total/composite scores\n",
    "data1718[['state','act_participation_2017','act_composite_2017']].sort_values('act_composite_2017', ascending=False).head()"
   ]
  },
  {
   "cell_type": "markdown",
   "metadata": {},
   "source": [
    "Answer:\n",
    "\n",
    "**Highest Participation**  \n",
    "2017 SAT - District of Columbia, Michigan, Connecticut, Delaware  \n",
    "2018 SAT - Colorado, Connecticut, Delaware, Michigan   \n",
    "2017 ACT - Alabama, Arkansas, Colorado, Kentucky, Louisiana, Minnesota, Mississippi, Missouri, Montana, Nevada, NorthCarolina, Oklahoma, SouthCarolina, Tennessee, Utah, Wisconsin, Wyoming  \n",
    "2018 ACT - Alabama, Arkansas, Kentucky, Louisiana, Mississippi, Missouri, Montana, Nevada, NorthCarolina, Oklahoma, SouthCarolina, Tennessee, Utah, Wisconsin, Wyoming, Ohio, Nebraska   \n",
    "\n",
    "**Lowest Participation**  \n",
    "2017 SAT - Iowa, Mississippi, NorthDakota  \n",
    "2018 SAT - NorthDakota  \n",
    "2017 ACT - Maine  \n",
    "2018 ACT - Maine  \n",
    "\n",
    "**Highest Mean Total/Composite**  \n",
    "2017 SAT - Minnesota  \n",
    "2018 SAT - Minnesota   \n",
    "2017 ACT - New Hampshire  \n",
    "2018 ACT - Connecticut  \n",
    "\n",
    "**Lowest Mean Total/Composite**  \n",
    "2017 SAT - District of Columbia  \n",
    "2018 SAT - District of Columbia  \n",
    "2017 ACT - Nevada   \n",
    "2018 ACT - Nevada  "
   ]
  },
  {
   "cell_type": "markdown",
   "metadata": {},
   "source": [
    "**Observations:**\n",
    "\n",
    "1. At the moment, there are a lot of states that go for ACT (17 total states with 100% participation in 2017 & 2018!)  \n",
    "   Compared to SAT, there are less than 5 with 100% participation  \n",
    "   Seems that ACT is still more popular than SAT currently.  \n",
    "   \n",
    "   \n",
    "2. States that have high participation in one test have very low mean scores in that particular test, vice versa.  \n",
    "   Example: District of Columbia has 100% participation in SAT, but had the lowest SAT mean score  \n",
    "   This holds the same for Nevada in ACT."
   ]
  },
  {
   "cell_type": "code",
   "execution_count": 44,
   "metadata": {
    "scrolled": true
   },
   "outputs": [
    {
     "data": {
      "text/html": [
       "<div>\n",
       "<style scoped>\n",
       "    .dataframe tbody tr th:only-of-type {\n",
       "        vertical-align: middle;\n",
       "    }\n",
       "\n",
       "    .dataframe tbody tr th {\n",
       "        vertical-align: top;\n",
       "    }\n",
       "\n",
       "    .dataframe thead th {\n",
       "        text-align: right;\n",
       "    }\n",
       "</style>\n",
       "<table border=\"1\" class=\"dataframe\">\n",
       "  <thead>\n",
       "    <tr style=\"text-align: right;\">\n",
       "      <th></th>\n",
       "      <th>state</th>\n",
       "      <th>sat_participation_2017</th>\n",
       "      <th>sat_evidence-based_reading_and_writing_2017</th>\n",
       "      <th>sat_math_2017</th>\n",
       "      <th>sat_total_2017</th>\n",
       "      <th>act_participation_2017</th>\n",
       "      <th>act_english_2017</th>\n",
       "      <th>act_math_2017</th>\n",
       "      <th>act_reading_2017</th>\n",
       "      <th>act_science_2017</th>\n",
       "      <th>...</th>\n",
       "      <th>sat_participation_2018</th>\n",
       "      <th>sat_evidence-based_reading_and_writing_2018</th>\n",
       "      <th>sat_math_2018</th>\n",
       "      <th>sat_total_2018</th>\n",
       "      <th>act_participation_2018</th>\n",
       "      <th>act_english_2018</th>\n",
       "      <th>act_math_2018</th>\n",
       "      <th>act_reading_2018</th>\n",
       "      <th>act_science_2018</th>\n",
       "      <th>act_composite_2018</th>\n",
       "    </tr>\n",
       "  </thead>\n",
       "  <tbody>\n",
       "    <tr>\n",
       "      <th>8</th>\n",
       "      <td>District of Columbia</td>\n",
       "      <td>100</td>\n",
       "      <td>482</td>\n",
       "      <td>468</td>\n",
       "      <td>950</td>\n",
       "      <td>32</td>\n",
       "      <td>24.4</td>\n",
       "      <td>23.5</td>\n",
       "      <td>24.9</td>\n",
       "      <td>23.5</td>\n",
       "      <td>...</td>\n",
       "      <td>92</td>\n",
       "      <td>497</td>\n",
       "      <td>480</td>\n",
       "      <td>977</td>\n",
       "      <td>32</td>\n",
       "      <td>23.7</td>\n",
       "      <td>22.7</td>\n",
       "      <td>24.4</td>\n",
       "      <td>23.0</td>\n",
       "      <td>23.6</td>\n",
       "    </tr>\n",
       "  </tbody>\n",
       "</table>\n",
       "<p>1 rows × 21 columns</p>\n",
       "</div>"
      ],
      "text/plain": [
       "                  state  sat_participation_2017  \\\n",
       "8  District of Columbia                     100   \n",
       "\n",
       "   sat_evidence-based_reading_and_writing_2017  sat_math_2017  sat_total_2017  \\\n",
       "8                                          482            468             950   \n",
       "\n",
       "   act_participation_2017  act_english_2017  act_math_2017  act_reading_2017  \\\n",
       "8                      32              24.4           23.5              24.9   \n",
       "\n",
       "   act_science_2017  ...  sat_participation_2018  \\\n",
       "8              23.5  ...                      92   \n",
       "\n",
       "   sat_evidence-based_reading_and_writing_2018  sat_math_2018  sat_total_2018  \\\n",
       "8                                          497            480             977   \n",
       "\n",
       "   act_participation_2018  act_english_2018  act_math_2018  act_reading_2018  \\\n",
       "8                      32              23.7           22.7              24.4   \n",
       "\n",
       "   act_science_2018  act_composite_2018  \n",
       "8              23.0                23.6  \n",
       "\n",
       "[1 rows x 21 columns]"
      ]
     },
     "execution_count": 44,
     "metadata": {},
     "output_type": "execute_result"
    }
   ],
   "source": [
    "#Define search rule for year-on-year change (100% in 2017 and dropped in 2018) and check answer\n",
    "#boolean masking method\n",
    "rule = (data1718['sat_participation_2017'] == 100) & (data1718['sat_participation_2018'] != 100)\n",
    "#Print ans\n",
    "data1718[rule]"
   ]
  },
  {
   "cell_type": "code",
   "execution_count": 45,
   "metadata": {
    "scrolled": true
   },
   "outputs": [
    {
     "data": {
      "text/html": [
       "<div>\n",
       "<style scoped>\n",
       "    .dataframe tbody tr th:only-of-type {\n",
       "        vertical-align: middle;\n",
       "    }\n",
       "\n",
       "    .dataframe tbody tr th {\n",
       "        vertical-align: top;\n",
       "    }\n",
       "\n",
       "    .dataframe thead th {\n",
       "        text-align: right;\n",
       "    }\n",
       "</style>\n",
       "<table border=\"1\" class=\"dataframe\">\n",
       "  <thead>\n",
       "    <tr style=\"text-align: right;\">\n",
       "      <th></th>\n",
       "      <th>state</th>\n",
       "      <th>sat_participation_2017</th>\n",
       "      <th>sat_evidence-based_reading_and_writing_2017</th>\n",
       "      <th>sat_math_2017</th>\n",
       "      <th>sat_total_2017</th>\n",
       "      <th>act_participation_2017</th>\n",
       "      <th>act_english_2017</th>\n",
       "      <th>act_math_2017</th>\n",
       "      <th>act_reading_2017</th>\n",
       "      <th>act_science_2017</th>\n",
       "      <th>...</th>\n",
       "      <th>sat_participation_2018</th>\n",
       "      <th>sat_evidence-based_reading_and_writing_2018</th>\n",
       "      <th>sat_math_2018</th>\n",
       "      <th>sat_total_2018</th>\n",
       "      <th>act_participation_2018</th>\n",
       "      <th>act_english_2018</th>\n",
       "      <th>act_math_2018</th>\n",
       "      <th>act_reading_2018</th>\n",
       "      <th>act_science_2018</th>\n",
       "      <th>act_composite_2018</th>\n",
       "    </tr>\n",
       "  </thead>\n",
       "  <tbody>\n",
       "    <tr>\n",
       "      <th>4</th>\n",
       "      <td>California</td>\n",
       "      <td>53</td>\n",
       "      <td>531</td>\n",
       "      <td>524</td>\n",
       "      <td>1055</td>\n",
       "      <td>31</td>\n",
       "      <td>22.5</td>\n",
       "      <td>22.7</td>\n",
       "      <td>23.1</td>\n",
       "      <td>22.2</td>\n",
       "      <td>...</td>\n",
       "      <td>60</td>\n",
       "      <td>540</td>\n",
       "      <td>536</td>\n",
       "      <td>1076</td>\n",
       "      <td>27</td>\n",
       "      <td>22.5</td>\n",
       "      <td>22.5</td>\n",
       "      <td>23.0</td>\n",
       "      <td>22.1</td>\n",
       "      <td>22.7</td>\n",
       "    </tr>\n",
       "    <tr>\n",
       "      <th>6</th>\n",
       "      <td>Connecticut</td>\n",
       "      <td>100</td>\n",
       "      <td>530</td>\n",
       "      <td>512</td>\n",
       "      <td>1041</td>\n",
       "      <td>31</td>\n",
       "      <td>25.5</td>\n",
       "      <td>24.6</td>\n",
       "      <td>25.6</td>\n",
       "      <td>24.6</td>\n",
       "      <td>...</td>\n",
       "      <td>100</td>\n",
       "      <td>535</td>\n",
       "      <td>519</td>\n",
       "      <td>1053</td>\n",
       "      <td>26</td>\n",
       "      <td>26.0</td>\n",
       "      <td>24.8</td>\n",
       "      <td>26.1</td>\n",
       "      <td>24.9</td>\n",
       "      <td>25.6</td>\n",
       "    </tr>\n",
       "    <tr>\n",
       "      <th>7</th>\n",
       "      <td>Delaware</td>\n",
       "      <td>100</td>\n",
       "      <td>503</td>\n",
       "      <td>492</td>\n",
       "      <td>996</td>\n",
       "      <td>18</td>\n",
       "      <td>24.1</td>\n",
       "      <td>23.4</td>\n",
       "      <td>24.8</td>\n",
       "      <td>23.6</td>\n",
       "      <td>...</td>\n",
       "      <td>100</td>\n",
       "      <td>505</td>\n",
       "      <td>492</td>\n",
       "      <td>998</td>\n",
       "      <td>17</td>\n",
       "      <td>23.7</td>\n",
       "      <td>23.1</td>\n",
       "      <td>24.5</td>\n",
       "      <td>23.4</td>\n",
       "      <td>23.2</td>\n",
       "    </tr>\n",
       "    <tr>\n",
       "      <th>8</th>\n",
       "      <td>District of Columbia</td>\n",
       "      <td>100</td>\n",
       "      <td>482</td>\n",
       "      <td>468</td>\n",
       "      <td>950</td>\n",
       "      <td>32</td>\n",
       "      <td>24.4</td>\n",
       "      <td>23.5</td>\n",
       "      <td>24.9</td>\n",
       "      <td>23.5</td>\n",
       "      <td>...</td>\n",
       "      <td>92</td>\n",
       "      <td>497</td>\n",
       "      <td>480</td>\n",
       "      <td>977</td>\n",
       "      <td>32</td>\n",
       "      <td>23.7</td>\n",
       "      <td>22.7</td>\n",
       "      <td>24.4</td>\n",
       "      <td>23.0</td>\n",
       "      <td>23.6</td>\n",
       "    </tr>\n",
       "    <tr>\n",
       "      <th>9</th>\n",
       "      <td>Florida</td>\n",
       "      <td>83</td>\n",
       "      <td>520</td>\n",
       "      <td>497</td>\n",
       "      <td>1017</td>\n",
       "      <td>73</td>\n",
       "      <td>19.0</td>\n",
       "      <td>19.4</td>\n",
       "      <td>21.0</td>\n",
       "      <td>19.4</td>\n",
       "      <td>...</td>\n",
       "      <td>56</td>\n",
       "      <td>550</td>\n",
       "      <td>549</td>\n",
       "      <td>1099</td>\n",
       "      <td>66</td>\n",
       "      <td>19.2</td>\n",
       "      <td>19.3</td>\n",
       "      <td>21.1</td>\n",
       "      <td>19.5</td>\n",
       "      <td>19.9</td>\n",
       "    </tr>\n",
       "  </tbody>\n",
       "</table>\n",
       "<p>5 rows × 21 columns</p>\n",
       "</div>"
      ],
      "text/plain": [
       "                  state  sat_participation_2017  \\\n",
       "4            California                      53   \n",
       "6           Connecticut                     100   \n",
       "7              Delaware                     100   \n",
       "8  District of Columbia                     100   \n",
       "9               Florida                      83   \n",
       "\n",
       "   sat_evidence-based_reading_and_writing_2017  sat_math_2017  sat_total_2017  \\\n",
       "4                                          531            524            1055   \n",
       "6                                          530            512            1041   \n",
       "7                                          503            492             996   \n",
       "8                                          482            468             950   \n",
       "9                                          520            497            1017   \n",
       "\n",
       "   act_participation_2017  act_english_2017  act_math_2017  act_reading_2017  \\\n",
       "4                      31              22.5           22.7              23.1   \n",
       "6                      31              25.5           24.6              25.6   \n",
       "7                      18              24.1           23.4              24.8   \n",
       "8                      32              24.4           23.5              24.9   \n",
       "9                      73              19.0           19.4              21.0   \n",
       "\n",
       "   act_science_2017  ...  sat_participation_2018  \\\n",
       "4              22.2  ...                      60   \n",
       "6              24.6  ...                     100   \n",
       "7              23.6  ...                     100   \n",
       "8              23.5  ...                      92   \n",
       "9              19.4  ...                      56   \n",
       "\n",
       "   sat_evidence-based_reading_and_writing_2018  sat_math_2018  sat_total_2018  \\\n",
       "4                                          540            536            1076   \n",
       "6                                          535            519            1053   \n",
       "7                                          505            492             998   \n",
       "8                                          497            480             977   \n",
       "9                                          550            549            1099   \n",
       "\n",
       "   act_participation_2018  act_english_2018  act_math_2018  act_reading_2018  \\\n",
       "4                      27              22.5           22.5              23.0   \n",
       "6                      26              26.0           24.8              26.1   \n",
       "7                      17              23.7           23.1              24.5   \n",
       "8                      32              23.7           22.7              24.4   \n",
       "9                      66              19.2           19.3              21.1   \n",
       "\n",
       "   act_science_2018  act_composite_2018  \n",
       "4              22.1                22.7  \n",
       "6              24.9                25.6  \n",
       "7              23.4                23.2  \n",
       "8              23.0                23.6  \n",
       "9              19.5                19.9  \n",
       "\n",
       "[5 rows x 21 columns]"
      ]
     },
     "execution_count": 45,
     "metadata": {},
     "output_type": "execute_result"
    }
   ],
   "source": [
    "#Define search rule where participation of both years is >50% and check answer\n",
    "rule = (data1718['sat_participation_2017'] >= 50) & (data1718['sat_participation_2018'] >= 50)\n",
    "#Print ans\n",
    "data1718[rule].head()"
   ]
  },
  {
   "cell_type": "markdown",
   "metadata": {},
   "source": [
    "**States with 100% participation on a given test have a rate change year-to-year**  \n",
    "Ans:   \n",
    "**SAT**  \n",
    "District of Columbia   \n",
    "**ACT**  \n",
    "Colorado, Minnesota\n",
    "\n",
    "**States with >50% participation on both tests either year**  \n",
    "Ans:   \n",
    "**SAT**  \n",
    "California, Connecticut, Delaware, District of Columbia, Florida, Georgia, Hawaii, Idaho, Indiana, Maine, Maryland, Massachusetts, Michigan, NewHampshire, NewJersey, NewYork, Pennsylvania, Rhode Island, SouthCarolina, Texas, Vermont, Virginia, Washington  \n",
    "**ACT**  \n",
    "Alabama, Arizona, Arkansas, Florida, Gerogia, Hawaii, Iowa, Kansas, Kentucky, Louisiana, Minnesota,Mississippi, Misouri, Montana, Nebraska, Nevada, NewMexico, NorthCarolina, NorthDakota, Ohio, Oklahoma, SouthCarolina, SouthDakota, Tennessee, Utah, WestVirginia, Wisconsin, Wyoming"
   ]
  },
  {
   "cell_type": "code",
   "execution_count": 105,
   "metadata": {},
   "outputs": [
    {
     "data": {
      "text/html": [
       "<div>\n",
       "<style scoped>\n",
       "    .dataframe tbody tr th:only-of-type {\n",
       "        vertical-align: middle;\n",
       "    }\n",
       "\n",
       "    .dataframe tbody tr th {\n",
       "        vertical-align: top;\n",
       "    }\n",
       "\n",
       "    .dataframe thead th {\n",
       "        text-align: right;\n",
       "    }\n",
       "</style>\n",
       "<table border=\"1\" class=\"dataframe\">\n",
       "  <thead>\n",
       "    <tr style=\"text-align: right;\">\n",
       "      <th></th>\n",
       "      <th>state</th>\n",
       "      <th>sat_participation_2017</th>\n",
       "      <th>sat_participation_2018</th>\n",
       "      <th>sat_total_2017</th>\n",
       "      <th>sat_total_2018</th>\n",
       "      <th>act_composite_2017</th>\n",
       "      <th>act_composite_2018</th>\n",
       "      <th>act_participation_2017</th>\n",
       "      <th>act_participation_2018</th>\n",
       "    </tr>\n",
       "  </thead>\n",
       "  <tbody>\n",
       "    <tr>\n",
       "      <th>23</th>\n",
       "      <td>Minnesota</td>\n",
       "      <td>3</td>\n",
       "      <td>4</td>\n",
       "      <td>1295</td>\n",
       "      <td>1298</td>\n",
       "      <td>21.5</td>\n",
       "      <td>21.3</td>\n",
       "      <td>100</td>\n",
       "      <td>99</td>\n",
       "    </tr>\n",
       "    <tr>\n",
       "      <th>49</th>\n",
       "      <td>Wisconsin</td>\n",
       "      <td>3</td>\n",
       "      <td>3</td>\n",
       "      <td>1291</td>\n",
       "      <td>1294</td>\n",
       "      <td>20.5</td>\n",
       "      <td>20.5</td>\n",
       "      <td>100</td>\n",
       "      <td>100</td>\n",
       "    </tr>\n",
       "    <tr>\n",
       "      <th>15</th>\n",
       "      <td>Iowa</td>\n",
       "      <td>2</td>\n",
       "      <td>3</td>\n",
       "      <td>1275</td>\n",
       "      <td>1265</td>\n",
       "      <td>21.9</td>\n",
       "      <td>21.8</td>\n",
       "      <td>67</td>\n",
       "      <td>68</td>\n",
       "    </tr>\n",
       "    <tr>\n",
       "      <th>25</th>\n",
       "      <td>Missouri</td>\n",
       "      <td>3</td>\n",
       "      <td>4</td>\n",
       "      <td>1271</td>\n",
       "      <td>1262</td>\n",
       "      <td>20.4</td>\n",
       "      <td>20.0</td>\n",
       "      <td>100</td>\n",
       "      <td>100</td>\n",
       "    </tr>\n",
       "    <tr>\n",
       "      <th>16</th>\n",
       "      <td>Kansas</td>\n",
       "      <td>4</td>\n",
       "      <td>4</td>\n",
       "      <td>1260</td>\n",
       "      <td>1265</td>\n",
       "      <td>21.7</td>\n",
       "      <td>21.6</td>\n",
       "      <td>73</td>\n",
       "      <td>71</td>\n",
       "    </tr>\n",
       "  </tbody>\n",
       "</table>\n",
       "</div>"
      ],
      "text/plain": [
       "        state  sat_participation_2017  sat_participation_2018  sat_total_2017  \\\n",
       "23  Minnesota                       3                       4            1295   \n",
       "49  Wisconsin                       3                       3            1291   \n",
       "15       Iowa                       2                       3            1275   \n",
       "25   Missouri                       3                       4            1271   \n",
       "16     Kansas                       4                       4            1260   \n",
       "\n",
       "    sat_total_2018  act_composite_2017  act_composite_2018  \\\n",
       "23            1298                21.5                21.3   \n",
       "49            1294                20.5                20.5   \n",
       "15            1265                21.9                21.8   \n",
       "25            1262                20.4                20.0   \n",
       "16            1265                21.7                21.6   \n",
       "\n",
       "    act_participation_2017  act_participation_2018  \n",
       "23                     100                      99  \n",
       "49                     100                     100  \n",
       "15                      67                      68  \n",
       "25                     100                     100  \n",
       "16                      73                      71  "
      ]
     },
     "execution_count": 105,
     "metadata": {},
     "output_type": "execute_result"
    }
   ],
   "source": [
    "#Check data of states that is more interesting\n",
    "data1718[['state','sat_participation_2017','sat_participation_2018','sat_total_2017','sat_total_2018','act_composite_2017','act_composite_2018','act_participation_2017','act_participation_2018']].sort_values('sat_total_2017', ascending=False).head(5)"
   ]
  },
  {
   "cell_type": "markdown",
   "metadata": {},
   "source": [
    "State that seems interesting: Iowa\n",
    "\n",
    "<u>Reason</u>\n",
    "- has the lowest SAT participation scores (2~3%)\n",
    "- the opposite test (ACT) expect to have high participation rate (close to top), but only has a midrange participation (67~68%)\n",
    "- however, Iowa has above average (top 20) ACT composite scores (21.8~21.9) despite NOT having mid-range participation in ACT"
   ]
  },
  {
   "cell_type": "markdown",
   "metadata": {},
   "source": [
    "## Visualize the data\n",
    "\n",
    "There's not a magic bullet recommendation for the right number of plots to understand a given dataset, but visualizing your data is *always* a good idea. Not only does it allow you to quickly convey your findings (even if you have a non-technical audience), it will often reveal trends in your data that escaped you when you were looking only at numbers.\n",
    "\n",
    "Some recommendations on plotting:\n",
    "- Plots have titles\n",
    "- Plots have axis labels\n",
    "- Plots have appropriate tick labels\n",
    "- All text is legible in a plot\n",
    "- Plots demonstrate meaningful and valid relationships\n",
    "- Plots are interpreted to aid understanding\n",
    "\n",
    "There is such a thing as too many plots, and there are a *lot* of bad plots. You might make some! (But hopefully not with the guided prompts below)."
   ]
  },
  {
   "cell_type": "markdown",
   "metadata": {},
   "source": [
    "#### Use Seaborn's heatmap with pandas `.corr()` to visualize correlations between all numeric features\n",
    "\n",
    "Heatmaps are generally not appropriate for presentations, and should often be excluded from reports as they can be visually overwhelming. **However**, they can be extremely useful in identify relationships of potential interest (as well as identifying potential collinearity before modeling).\n",
    "\n",
    "*example*:\n",
    "```python\n",
    "sns.heatmap(df.corr())\n",
    "```\n",
    "\n",
    "Please take time to format your output, adding a title. Look through some of the additional arguments and options. (Axis labels aren't really necessary, as long as the title is informative)."
   ]
  },
  {
   "cell_type": "code",
   "execution_count": 46,
   "metadata": {},
   "outputs": [
    {
     "data": {
      "text/plain": [
       "Text(0.5, 1.0, 'Correlation Heatmap of All Factors in ACT/SAT Exams')"
      ]
     },
     "execution_count": 46,
     "metadata": {},
     "output_type": "execute_result"
    },
    {
     "data": {
      "image/png": "[encoded data removed]",
      "text/plain": [
       "<Figure size 1080x1080 with 2 Axes>"
      ]
     },
     "metadata": {
      "needs_background": "light"
     },
     "output_type": "display_data"
    }
   ],
   "source": [
    "#Plot heatmap using Seaborn\n",
    "\n",
    "#Establish size of figure.\n",
    "plt.figure(figsize =(15,15))\n",
    "\n",
    "#Set up mask to be \"True\" in the upper triangle.\n",
    "mask = np.zeros_like(data1718.corr())\n",
    "mask[np.triu_indices_from(mask)] = True\n",
    "\n",
    "#Plot our correlation heatmap, while masking the upper triangle to be white.\n",
    "with sns.axes_style(\"white\"):\n",
    "    sns.heatmap(data1718.corr(), mask=mask, vmax=.3, square=True, annot=True, cmap=\"RdBu\")\n",
    "\n",
    "#Set title    \n",
    "plt.title('Correlation Heatmap of All Factors in ACT/SAT Exams')"
   ]
  },
  {
   "cell_type": "markdown",
   "metadata": {},
   "source": [
    "**Observation**\n",
    "\n",
    "1. Particpations for any given year is negatively correlated to the subject test scores of that particular test\n",
    "   These can be seen in the high corr scores in the range of -0.7~-0.9\n",
    "2. Inversely, subject test scores of the opposite exam (SAT<->ACT, vice versa) will be highly correlated 0.7~0.9\n",
    "\n",
    "- Example: SAT participation is negatively correlation to SAT subject scores and highly correlated to ACT subject scores!\n",
    "\n",
    "3. Total/Composite scores of any particular tests are also highly correlated to the individual tests.\n",
    "   This is true because the former is the average of the latter."
   ]
  },
  {
   "cell_type": "markdown",
   "metadata": {},
   "source": [
    "#### Define a custom function to subplot histograms\n",
    "\n",
    "We have data for two tests for two years. We only have composite (and not subtest scores) for the 2018 ACT. We should write a function that will take the names of 2+ columns and subplot histograms. While you can use pandas plotting or Seaborn here, matplotlib gives you greater control over all aspects of your plots.\n",
    "\n",
    "[Helpful Link for Plotting Multiple Figures](https://matplotlib.org/users/pyplot_tutorial.html#working-with-multiple-figures-and-axes)\n",
    "\n",
    "Here's some starter code:"
   ]
  },
  {
   "cell_type": "code",
   "execution_count": 47,
   "metadata": {},
   "outputs": [],
   "source": [
    "def subplot_histograms(dataframe, list_of_columns, list_of_titles, list_of_xlabels):\n",
    "    nrows = int(np.ceil(len(list_of_columns)/2)) # Makes sure you have enough rows\n",
    "    fig, ax = plt.subplots(nrows=nrows, ncols=2, figsize=(15, 12)) # You'll want to specify your figsize\n",
    "    ax = ax.ravel() # Ravel turns a matrix into a vector, which is easier to iterate\n",
    "    for i, column in enumerate(list_of_columns): # Gives us an index value to get into all our lists\n",
    "        ax[i].hist(dataframe[column]) # feel free to add more settings\n",
    "        ax[i].set_title(column)\n",
    "        ax[i].set_xlabel(list_of_xlabels)\n",
    "        ax[i].set_ylabel('Freq')\n",
    "        # Set titles, labels, etc here for each subplot"
   ]
  },
  {
   "cell_type": "code",
   "execution_count": 48,
   "metadata": {},
   "outputs": [],
   "source": [
    "#set seaborn theme for plots\n",
    "sns.set()"
   ]
  },
  {
   "cell_type": "markdown",
   "metadata": {},
   "source": [
    "#### Plot and interpret histograms \n",
    "For each of the following:\n",
    "- Participation rates for SAT & ACT\n",
    "- Math scores for SAT & ACT\n",
    "- Reading/verbal scores for SAT & ACT"
   ]
  },
  {
   "cell_type": "markdown",
   "metadata": {},
   "source": [
    "**Participation rates for SAT & ACT**"
   ]
  },
  {
   "cell_type": "code",
   "execution_count": 49,
   "metadata": {},
   "outputs": [
    {
     "data": {
      "image/png": "[encoded data removed]",
      "text/plain": [
       "<Figure size 1080x864 with 4 Axes>"
      ]
     },
     "metadata": {},
     "output_type": "display_data"
    }
   ],
   "source": [
    "#Plot participation rates for SAT and ACT\n",
    "#put list of data into observed data (obs_data)\n",
    "obs_data = []\n",
    "for i in data1718.columns:\n",
    "    if 'participation' in i:\n",
    "        obs_data.append(i)\n",
    "subplot_histograms(data1718, obs_data, obs_data, 'Participation (%)')"
   ]
  },
  {
   "cell_type": "markdown",
   "metadata": {},
   "source": [
    "**Observation**\n",
    "\n",
    "1. Overall, there is not much shift in the participation rate between 2017 and 2018 for both tests.\n",
    "2. <span style=\"color:blue\">There are many states that have not accepted SAT yet, judging from the high peak towards the left end (0-10%)</span>\n",
    "3. <span style=\"color:blue\">These states are also likely to be supporting students to take ACT, as there is a very high peak towards the right end in ACT charts (90-100%)</span>"
   ]
  },
  {
   "cell_type": "markdown",
   "metadata": {},
   "source": [
    "**Math scores for SAT & ACT**"
   ]
  },
  {
   "cell_type": "code",
   "execution_count": 50,
   "metadata": {},
   "outputs": [
    {
     "data": {
      "image/png": "[encoded data removed]",
      "text/plain": [
       "<Figure size 1080x864 with 4 Axes>"
      ]
     },
     "metadata": {},
     "output_type": "display_data"
    }
   ],
   "source": [
    "#Plot math scores for SAT and ACT\n",
    "hist_data = ['sat_math_2017','sat_math_2018','act_math_2017','act_math_2018']\n",
    "subplot_histograms(data1718, hist_data, hist_data, 'Scores')"
   ]
  },
  {
   "cell_type": "markdown",
   "metadata": {},
   "source": [
    "**Observation**\n",
    "\n",
    "1. There is an overall decrease in SAT Math scores (peak is lower and more right-skewed)\n",
    "2. ACT math scores look more stable, with more states improving their average scores closer to the 75% quantile range"
   ]
  },
  {
   "cell_type": "markdown",
   "metadata": {},
   "source": [
    "**Reading/verbal scores for SAT & ACT**"
   ]
  },
  {
   "cell_type": "code",
   "execution_count": 51,
   "metadata": {},
   "outputs": [
    {
     "data": {
      "image/png": "[encoded data removed]",
      "text/plain": [
       "<Figure size 1080x864 with 4 Axes>"
      ]
     },
     "metadata": {},
     "output_type": "display_data"
    }
   ],
   "source": [
    "#Plot reading/verbal scores for SAT and ACT\n",
    "hist_data = ['sat_evidence-based_reading_and_writing_2017','sat_evidence-based_reading_and_writing_2018','act_reading_2017','act_reading_2018']\n",
    "subplot_histograms(data1718, hist_data, hist_data, 'Scores')"
   ]
  },
  {
   "cell_type": "markdown",
   "metadata": {},
   "source": [
    "**Observation**\n",
    "\n",
    "1. Reading/Verbal scores for both SAT and ACT did not have any much changes either"
   ]
  },
  {
   "cell_type": "markdown",
   "metadata": {},
   "source": [
    "#### Plot and interpret scatter plots\n",
    "\n",
    "For each of the following:\n",
    "- SAT vs. ACT math scores for 2017\n",
    "- SAT vs. ACT verbal/reading scores for 2017\n",
    "- SAT vs. ACT total/composite scores for 2017\n",
    "- Total scores for SAT 2017 vs. 2018\n",
    "- Composite scores for ACT 2017 vs. 2018\n",
    "\n",
    "Plot the two variables against each other using matplotlib or Seaborn\n",
    "\n",
    "Your plots should show:\n",
    "- Two clearly labeled axes\n",
    "- A proper title\n",
    "- Using colors and symbols that are clear and unmistakable\n",
    "\n",
    "**Feel free to write a custom function, and subplot if you'd like.** Functions save both time and space.\n"
   ]
  },
  {
   "cell_type": "code",
   "execution_count": 52,
   "metadata": {},
   "outputs": [],
   "source": [
    "def plot_scatter(dataframe,list_of_columns, list_of_titles):\n",
    "    # Establish the size of the figure.\n",
    "    plt.figure(figsize=(12, 5))\n",
    "\n",
    "    plt.scatter(dataframe[list_of_columns[0]],dataframe[list_of_columns[1]])\n",
    "\n",
    "    plt.title(list_of_titles[0]+' versus '+list_of_titles[1], fontsize = 20)\n",
    "    plt.ylabel(list_of_titles[1], fontsize = 16)\n",
    "    plt.xlabel(list_of_titles[0], fontsize = 16)\n",
    "    \n",
    "    #Add a best fit line for better interpretation\n",
    "    m, b = np.polyfit(dataframe[list_of_columns[0]], dataframe[list_of_columns[1]], 1)\n",
    "    x = dataframe[list_of_columns[0]]\n",
    "    #m = slope, b=intercept\n",
    "    plt.plot(x, m*x + b);"
   ]
  },
  {
   "cell_type": "markdown",
   "metadata": {},
   "source": [
    "**Math scores for SAT & ACT**"
   ]
  },
  {
   "cell_type": "code",
   "execution_count": 53,
   "metadata": {
    "scrolled": true
   },
   "outputs": [
    {
     "data": {
      "image/png": "[encoded data removed]",
      "text/plain": [
       "<Figure size 864x360 with 1 Axes>"
      ]
     },
     "metadata": {},
     "output_type": "display_data"
    }
   ],
   "source": [
    "#Define data into scat_data and axis title\n",
    "#Plot Math scores SAT & ACT\n",
    "scat_data = ['sat_math_2017','act_math_2017']\n",
    "title = ['SAT Math 2017','ACT Math 2017']\n",
    "plot_scatter(data1718, scat_data, title)"
   ]
  },
  {
   "cell_type": "markdown",
   "metadata": {},
   "source": [
    "**SAT vs. ACT verbal/reading scores for 2017**"
   ]
  },
  {
   "cell_type": "code",
   "execution_count": 54,
   "metadata": {},
   "outputs": [
    {
     "data": {
      "image/png": "[encoded data removed]",
      "text/plain": [
       "<Figure size 864x360 with 1 Axes>"
      ]
     },
     "metadata": {},
     "output_type": "display_data"
    }
   ],
   "source": [
    "#Plot verbal/reading scores SAT & ACT\n",
    "scat_data = ['sat_evidence-based_reading_and_writing_2017','act_reading_2017']\n",
    "title = ['SAT Reading-Writing 2017','ACT Reading 2017']\n",
    "plot_scatter(data1718, scat_data, title)"
   ]
  },
  {
   "cell_type": "markdown",
   "metadata": {},
   "source": [
    "**SAT vs. ACT total/composite scores for 2017**"
   ]
  },
  {
   "cell_type": "code",
   "execution_count": 55,
   "metadata": {},
   "outputs": [
    {
     "data": {
      "image/png": "[encoded data removed]",
      "text/plain": [
       "<Figure size 864x360 with 1 Axes>"
      ]
     },
     "metadata": {},
     "output_type": "display_data"
    }
   ],
   "source": [
    "#Plot total/composite scores SAT & ACT\n",
    "scat_data = ['sat_total_2017','act_composite_2017']\n",
    "title = ['SAT Total 2017','ACT Composite 2017']\n",
    "plot_scatter(data1718, scat_data, title)"
   ]
  },
  {
   "cell_type": "markdown",
   "metadata": {},
   "source": [
    "**Observation**\n",
    "\n",
    "1. <span style=\"color:blue\">For above 3 plots, we can see that generally, ACT scores and SAT scores are inversely correlated.<span>\n",
    "2. For example, if a state does good in SAT, it is highly likely that it's score in ACT is going to be pretty low.\n",
    "3. **This relationship was also observed in the heatmap!**"
   ]
  },
  {
   "cell_type": "markdown",
   "metadata": {},
   "source": [
    "**Total scores for SAT 2017 vs. 2018**"
   ]
  },
  {
   "cell_type": "code",
   "execution_count": 56,
   "metadata": {},
   "outputs": [
    {
     "data": {
      "image/png": "[encoded data removed]",
      "text/plain": [
       "<Figure size 864x360 with 1 Axes>"
      ]
     },
     "metadata": {},
     "output_type": "display_data"
    }
   ],
   "source": [
    "#Plot total scores for SAT 17 vs 18\n",
    "scat_data = ['sat_total_2017','sat_total_2018']\n",
    "title = ['SAT Total 2017','SAT Total 2018']\n",
    "plot_scatter(data1718, scat_data, title)"
   ]
  },
  {
   "cell_type": "markdown",
   "metadata": {},
   "source": [
    "**Composite scores for ACT 2017 vs. 2018**"
   ]
  },
  {
   "cell_type": "code",
   "execution_count": 57,
   "metadata": {},
   "outputs": [
    {
     "data": {
      "image/png": "[encoded data removed]",
      "text/plain": [
       "<Figure size 864x360 with 1 Axes>"
      ]
     },
     "metadata": {},
     "output_type": "display_data"
    }
   ],
   "source": [
    "#Plot composite scores for ACT 17 vs 18\n",
    "scat_data = ['act_composite_2017','act_composite_2018']\n",
    "title = ['ACT Composite 2017','ACT Composite 2018']\n",
    "plot_scatter(data1718, scat_data, title)"
   ]
  },
  {
   "cell_type": "markdown",
   "metadata": {},
   "source": [
    "**Observation**\n",
    "\n",
    "1. <span style=\"color:blue\">For SAT, we can see that overall, there are more states, especially the high performing ones, that fared better in subsequent year 2018 (above the line). There are 2 outliers where scores dropped drastically, but are due to other influence (to be discussed below)<span>\n",
    "2. For ACT, scores are stable. 2 states that did much better were the states linked to SAT in point 1."
   ]
  },
  {
   "cell_type": "markdown",
   "metadata": {},
   "source": [
    "#### Plot and interpret boxplots\n",
    "\n",
    "For each numeric variable in the dataframe create a boxplot using Seaborn. Boxplots demonstrate central tendency and spread in variables. In a certain sense, these are somewhat redundant with histograms, but you may be better able to identify clear outliers or differences in IQR, etc.\n",
    "\n",
    "Multiple values can be plotted to a single boxplot as long as they are of the same relative scale (meaning they have similar min/max values).\n",
    "\n",
    "Each boxplot should:\n",
    "- Only include variables of a similar scale\n",
    "- Have clear labels for each variable\n",
    "- Have appropriate titles and labels"
   ]
  },
  {
   "cell_type": "code",
   "execution_count": 60,
   "metadata": {},
   "outputs": [],
   "source": [
    "#Put list of data into observed data (obs_data) - add participation for ACT and SAT\n",
    "obs_data = []\n",
    "for i in data1718.columns:\n",
    "    if ('act' in i or 'sat' in i) and 'participation' in i:\n",
    "        obs_data.append(i)"
   ]
  },
  {
   "cell_type": "code",
   "execution_count": 61,
   "metadata": {},
   "outputs": [
    {
     "data": {
      "image/png": "[encoded data removed]",
      "text/plain": [
       "<Figure size 720x288 with 1 Axes>"
      ]
     },
     "metadata": {},
     "output_type": "display_data"
    }
   ],
   "source": [
    "#Plot boxplot for participations\n",
    "plt.figure(figsize=(10, 4))\n",
    "sns.boxplot(data = data1718[obs_data], width=0.8, showmeans=True, \n",
    "            meanprops={\"markerfacecolor\":\"white\",\"markeredgecolor\":\"black\",\"markersize\":\"10\"});\n",
    "plt.title(\"SAT/ACT Participation\", fontsize=16)\n",
    "plt.xlabel(\"SAT/ACT Participation by Year\", fontsize=14)\n",
    "plt.ylabel(\"Participation %\", fontsize=14)\n",
    "plt.tick_params(labelsize=10)"
   ]
  },
  {
   "cell_type": "markdown",
   "metadata": {},
   "source": [
    "**Observation**\n",
    "\n",
    "1. SAT participation had increased, while ACT participation dropped\n",
    "1. <span style=\"color:blue\">More people are choosing to take SATs, this can be contributed to the rising popularity of SAT exam (further discussed below)<span>"
   ]
  },
  {
   "cell_type": "code",
   "execution_count": 62,
   "metadata": {},
   "outputs": [],
   "source": [
    "#Put list of data into observed data (obs_data) - add ACT subjects\n",
    "obs_data = []\n",
    "for i in data1718.columns:\n",
    "    if 'act' in i and 'participation' not in i:\n",
    "        obs_data.append(i)"
   ]
  },
  {
   "cell_type": "code",
   "execution_count": 63,
   "metadata": {},
   "outputs": [
    {
     "data": {
      "image/png": "[encoded data removed]",
      "text/plain": [
       "<Figure size 1296x288 with 1 Axes>"
      ]
     },
     "metadata": {},
     "output_type": "display_data"
    }
   ],
   "source": [
    "#Plot boxplot for ACT Subjects\n",
    "plt.figure(figsize=(18, 4))\n",
    "sns.boxplot(data = data1718[obs_data], width=0.8, showmeans=True, \n",
    "            meanprops={\"markerfacecolor\":\"white\",\"markeredgecolor\":\"black\",\"markersize\":\"10\"});\n",
    "plt.title(\"ACT Subjects/Composite Scores\", fontsize=16)\n",
    "plt.xlabel(\"Subjects/Composite by Year\", fontsize=14)\n",
    "plt.ylabel(\"Score\", fontsize=14)\n",
    "plt.tick_params(labelsize=10)"
   ]
  },
  {
   "cell_type": "code",
   "execution_count": 64,
   "metadata": {},
   "outputs": [],
   "source": [
    "#Put list of data into observed data (obs_data) - add SAT subjects\n",
    "obs_data = []\n",
    "for i in data1718.columns:\n",
    "    if 'sat' in i and 'total' not in i and 'part' not in i:\n",
    "        obs_data.append(i)"
   ]
  },
  {
   "cell_type": "code",
   "execution_count": 65,
   "metadata": {
    "scrolled": false
   },
   "outputs": [
    {
     "data": {
      "image/png": "[encoded data removed]",
      "text/plain": [
       "<Figure size 1296x288 with 1 Axes>"
      ]
     },
     "metadata": {},
     "output_type": "display_data"
    }
   ],
   "source": [
    "#Plot boxplot for SAT subject scores\n",
    "plt.figure(figsize=(18, 4))\n",
    "sns.boxplot(data = data1718[obs_data], width=0.8, showmeans=True, \n",
    "            meanprops={\"markerfacecolor\":\"white\",\"markeredgecolor\":\"black\",\"markersize\":\"10\"});\n",
    "plt.title(\"SAT Subject Scores\", fontsize=16)\n",
    "plt.xlabel(\"Subject Scores by Year\", fontsize=14)\n",
    "plt.ylabel(\"Score\", fontsize=14)\n",
    "plt.tick_params(labelsize=10)"
   ]
  },
  {
   "cell_type": "code",
   "execution_count": 66,
   "metadata": {},
   "outputs": [],
   "source": [
    "#Put list of data into observed data (obs_data) - add SAT scores\n",
    "obs_data = []\n",
    "for i in data1718.columns:\n",
    "    if 'sat' in i and 'total' in i:\n",
    "        obs_data.append(i)"
   ]
  },
  {
   "cell_type": "code",
   "execution_count": 67,
   "metadata": {
    "scrolled": true
   },
   "outputs": [
    {
     "data": {
      "image/png": "[encoded data removed]",
      "text/plain": [
       "<Figure size 1296x288 with 1 Axes>"
      ]
     },
     "metadata": {},
     "output_type": "display_data"
    }
   ],
   "source": [
    "#Plot boxplot for SAT total scores\n",
    "plt.figure(figsize=(18, 4))\n",
    "sns.boxplot(data = data1718[obs_data], width=0.8, showmeans=True, \n",
    "            meanprops={\"markerfacecolor\":\"white\",\"markeredgecolor\":\"black\",\"markersize\":\"10\"});\n",
    "plt.title(\"SAT Total Scores\", fontsize=16)\n",
    "plt.xlabel(\"Total Scores by Year\", fontsize=14)\n",
    "plt.ylabel(\"Score\", fontsize=14)\n",
    "plt.tick_params(labelsize=10)"
   ]
  },
  {
   "cell_type": "markdown",
   "metadata": {},
   "source": [
    "#### Feel free to do additional plots below\n",
    "*(do research and choose your own chart types & variables)*\n",
    "\n",
    "Are there any additional trends or relationships you haven't explored? Was there something interesting you saw that you'd like to dive further into? It's likely that there are a few more plots you might want to generate to support your narrative and recommendations that you are building toward. **As always, make sure you're interpreting your plots as you go**."
   ]
  },
  {
   "cell_type": "code",
   "execution_count": null,
   "metadata": {},
   "outputs": [],
   "source": []
  },
  {
   "cell_type": "markdown",
   "metadata": {},
   "source": [
    "#### (Optional): Using Tableau, create a choropleth map for each variable using a map of the US. \n",
    "\n",
    "Save this plot as an image file in an images directory, provide a relative path, and insert the image into notebook in markdown."
   ]
  },
  {
   "cell_type": "markdown",
   "metadata": {},
   "source": [
    "![part](../data/participation.JPG)"
   ]
  },
  {
   "cell_type": "markdown",
   "metadata": {},
   "source": [
    "**Choropleth of ACT/SAT Participation Rate across US**  \n",
    "Hawaii and Alaska excluded  \n",
    "(Blue - SAT / Red - ACT)  \n",
    "<u> the deeper the colour, the higher the participation rate </u>\n",
    "\n",
    "- **Most of the midlands states are more likely to take the ACT test**\n",
    "- **States closer to the coasts are more likely to prefer taking SAT test**"
   ]
  },
  {
   "cell_type": "markdown",
   "metadata": {},
   "source": [
    "![2016 US Election Result](https://static01.nyt.com/newsgraphics/2016/12/08/year-in-graphics/assets/election-results.jpg)"
   ]
  },
  {
   "cell_type": "markdown",
   "metadata": {},
   "source": [
    "**Source: https://www.nytimes.com/elections/2016/results/president**\n",
    "\n",
    "Above map is the 2016 US election result map from NYTimes. Democrats in blue and Republicans in red.  \n",
    "From a glance (comparing maps in ACT/SAT participation and above, there is a possibility that  \n",
    "- **Republican states are more biased towards ACT**\n",
    "- **Democratic states are more biased towards SAT**\n",
    "\n",
    "<u>However, this needs further discussion and is only a viewpoint assumption</u>"
   ]
  },
  {
   "cell_type": "markdown",
   "metadata": {},
   "source": [
    "## Descriptive and Inferential Statistics"
   ]
  },
  {
   "cell_type": "markdown",
   "metadata": {},
   "source": [
    "#### Summarizing Distributions\n",
    "\n",
    "Above, we used pandas `describe` to provide quick summary statistics of our numeric columns. We also demonstrated many visual relationships.\n",
    "\n",
    "As data scientists, having a complete understanding of data is imperative prior to modeling.\n",
    "\n",
    "While we will continue to build our analytic tools, we know that measures of *central tendency*, *spread*, and *shape/skewness* provide a quick summary of distributions.\n",
    "\n",
    "For each variable in your data, summarize the underlying distributions (in words & statistics)\n",
    " - Be thorough in your verbal description of these distributions.\n",
    " - Be sure to back up these summaries with statistics."
   ]
  },
  {
   "cell_type": "code",
   "execution_count": 110,
   "metadata": {
    "scrolled": false
   },
   "outputs": [
    {
     "data": {
      "text/html": [
       "<div>\n",
       "<style scoped>\n",
       "    .dataframe tbody tr th:only-of-type {\n",
       "        vertical-align: middle;\n",
       "    }\n",
       "\n",
       "    .dataframe tbody tr th {\n",
       "        vertical-align: top;\n",
       "    }\n",
       "\n",
       "    .dataframe thead th {\n",
       "        text-align: right;\n",
       "    }\n",
       "</style>\n",
       "<table border=\"1\" class=\"dataframe\">\n",
       "  <thead>\n",
       "    <tr style=\"text-align: right;\">\n",
       "      <th></th>\n",
       "      <th>sat_participation_2017</th>\n",
       "      <th>sat_evidence-based_reading_and_writing_2017</th>\n",
       "      <th>sat_math_2017</th>\n",
       "      <th>sat_total_2017</th>\n",
       "      <th>act_participation_2017</th>\n",
       "      <th>act_english_2017</th>\n",
       "      <th>act_math_2017</th>\n",
       "      <th>act_reading_2017</th>\n",
       "      <th>act_science_2017</th>\n",
       "      <th>act_composite_2017</th>\n",
       "      <th>sat_participation_2018</th>\n",
       "      <th>sat_evidence-based_reading_and_writing_2018</th>\n",
       "      <th>sat_math_2018</th>\n",
       "      <th>sat_total_2018</th>\n",
       "      <th>act_participation_2018</th>\n",
       "      <th>act_english_2018</th>\n",
       "      <th>act_math_2018</th>\n",
       "      <th>act_reading_2018</th>\n",
       "      <th>act_science_2018</th>\n",
       "      <th>act_composite_2018</th>\n",
       "      <th>act_ptcpt_change</th>\n",
       "      <th>compo_change</th>\n",
       "      <th>sat_ptcpt_change</th>\n",
       "      <th>total_change</th>\n",
       "    </tr>\n",
       "  </thead>\n",
       "  <tbody>\n",
       "    <tr>\n",
       "      <th>count</th>\n",
       "      <td>51.000000</td>\n",
       "      <td>51.000000</td>\n",
       "      <td>51.000000</td>\n",
       "      <td>51.000000</td>\n",
       "      <td>51.000000</td>\n",
       "      <td>51.000000</td>\n",
       "      <td>51.000000</td>\n",
       "      <td>51.000000</td>\n",
       "      <td>51.000000</td>\n",
       "      <td>51.000000</td>\n",
       "      <td>51.000000</td>\n",
       "      <td>51.000000</td>\n",
       "      <td>51.000000</td>\n",
       "      <td>51.000000</td>\n",
       "      <td>51.000000</td>\n",
       "      <td>51.000000</td>\n",
       "      <td>51.000000</td>\n",
       "      <td>51.000000</td>\n",
       "      <td>51.000000</td>\n",
       "      <td>51.000000</td>\n",
       "      <td>51.000000</td>\n",
       "      <td>51.000000</td>\n",
       "      <td>51.000000</td>\n",
       "      <td>51.000000</td>\n",
       "    </tr>\n",
       "    <tr>\n",
       "      <th>mean</th>\n",
       "      <td>39.803922</td>\n",
       "      <td>569.117647</td>\n",
       "      <td>556.882353</td>\n",
       "      <td>1126.098039</td>\n",
       "      <td>65.254902</td>\n",
       "      <td>20.931373</td>\n",
       "      <td>21.182353</td>\n",
       "      <td>22.013725</td>\n",
       "      <td>21.450980</td>\n",
       "      <td>21.519608</td>\n",
       "      <td>45.745098</td>\n",
       "      <td>563.686275</td>\n",
       "      <td>556.235294</td>\n",
       "      <td>1120.019608</td>\n",
       "      <td>61.647059</td>\n",
       "      <td>20.988235</td>\n",
       "      <td>21.125490</td>\n",
       "      <td>22.015686</td>\n",
       "      <td>21.345098</td>\n",
       "      <td>21.486275</td>\n",
       "      <td>-3.607843</td>\n",
       "      <td>-0.033333</td>\n",
       "      <td>5.941176</td>\n",
       "      <td>-6.078431</td>\n",
       "    </tr>\n",
       "    <tr>\n",
       "      <th>std</th>\n",
       "      <td>35.276632</td>\n",
       "      <td>45.666901</td>\n",
       "      <td>47.121395</td>\n",
       "      <td>92.494812</td>\n",
       "      <td>32.140842</td>\n",
       "      <td>2.353677</td>\n",
       "      <td>1.981989</td>\n",
       "      <td>2.067271</td>\n",
       "      <td>1.739353</td>\n",
       "      <td>2.020695</td>\n",
       "      <td>37.314256</td>\n",
       "      <td>47.502627</td>\n",
       "      <td>47.772623</td>\n",
       "      <td>94.155083</td>\n",
       "      <td>34.080976</td>\n",
       "      <td>2.446356</td>\n",
       "      <td>2.035765</td>\n",
       "      <td>2.167245</td>\n",
       "      <td>1.870114</td>\n",
       "      <td>2.106278</td>\n",
       "      <td>13.447793</td>\n",
       "      <td>0.724063</td>\n",
       "      <td>18.271740</td>\n",
       "      <td>50.674587</td>\n",
       "    </tr>\n",
       "    <tr>\n",
       "      <th>min</th>\n",
       "      <td>2.000000</td>\n",
       "      <td>482.000000</td>\n",
       "      <td>468.000000</td>\n",
       "      <td>950.000000</td>\n",
       "      <td>8.000000</td>\n",
       "      <td>16.300000</td>\n",
       "      <td>18.000000</td>\n",
       "      <td>18.100000</td>\n",
       "      <td>18.200000</td>\n",
       "      <td>17.800000</td>\n",
       "      <td>2.000000</td>\n",
       "      <td>480.000000</td>\n",
       "      <td>480.000000</td>\n",
       "      <td>977.000000</td>\n",
       "      <td>7.000000</td>\n",
       "      <td>16.600000</td>\n",
       "      <td>17.800000</td>\n",
       "      <td>18.000000</td>\n",
       "      <td>17.900000</td>\n",
       "      <td>17.700000</td>\n",
       "      <td>-70.000000</td>\n",
       "      <td>-1.700000</td>\n",
       "      <td>-27.000000</td>\n",
       "      <td>-228.000000</td>\n",
       "    </tr>\n",
       "    <tr>\n",
       "      <th>25%</th>\n",
       "      <td>4.000000</td>\n",
       "      <td>533.500000</td>\n",
       "      <td>523.500000</td>\n",
       "      <td>1055.500000</td>\n",
       "      <td>31.000000</td>\n",
       "      <td>19.000000</td>\n",
       "      <td>19.400000</td>\n",
       "      <td>20.450000</td>\n",
       "      <td>19.950000</td>\n",
       "      <td>19.800000</td>\n",
       "      <td>4.500000</td>\n",
       "      <td>534.500000</td>\n",
       "      <td>522.500000</td>\n",
       "      <td>1057.500000</td>\n",
       "      <td>28.500000</td>\n",
       "      <td>19.100000</td>\n",
       "      <td>19.400000</td>\n",
       "      <td>20.450000</td>\n",
       "      <td>19.850000</td>\n",
       "      <td>19.950000</td>\n",
       "      <td>-4.000000</td>\n",
       "      <td>-0.300000</td>\n",
       "      <td>0.000000</td>\n",
       "      <td>-2.500000</td>\n",
       "    </tr>\n",
       "    <tr>\n",
       "      <th>50%</th>\n",
       "      <td>38.000000</td>\n",
       "      <td>559.000000</td>\n",
       "      <td>548.000000</td>\n",
       "      <td>1107.000000</td>\n",
       "      <td>69.000000</td>\n",
       "      <td>20.700000</td>\n",
       "      <td>20.900000</td>\n",
       "      <td>21.800000</td>\n",
       "      <td>21.300000</td>\n",
       "      <td>21.400000</td>\n",
       "      <td>52.000000</td>\n",
       "      <td>552.000000</td>\n",
       "      <td>544.000000</td>\n",
       "      <td>1098.000000</td>\n",
       "      <td>66.000000</td>\n",
       "      <td>20.200000</td>\n",
       "      <td>20.700000</td>\n",
       "      <td>21.600000</td>\n",
       "      <td>21.100000</td>\n",
       "      <td>21.300000</td>\n",
       "      <td>-1.000000</td>\n",
       "      <td>-0.100000</td>\n",
       "      <td>1.000000</td>\n",
       "      <td>6.000000</td>\n",
       "    </tr>\n",
       "    <tr>\n",
       "      <th>75%</th>\n",
       "      <td>66.000000</td>\n",
       "      <td>613.000000</td>\n",
       "      <td>599.000000</td>\n",
       "      <td>1212.000000</td>\n",
       "      <td>100.000000</td>\n",
       "      <td>23.300000</td>\n",
       "      <td>23.100000</td>\n",
       "      <td>24.150000</td>\n",
       "      <td>23.200000</td>\n",
       "      <td>23.600000</td>\n",
       "      <td>77.500000</td>\n",
       "      <td>610.500000</td>\n",
       "      <td>593.500000</td>\n",
       "      <td>1204.000000</td>\n",
       "      <td>100.000000</td>\n",
       "      <td>23.700000</td>\n",
       "      <td>23.150000</td>\n",
       "      <td>24.100000</td>\n",
       "      <td>23.050000</td>\n",
       "      <td>23.550000</td>\n",
       "      <td>0.000000</td>\n",
       "      <td>0.100000</td>\n",
       "      <td>5.000000</td>\n",
       "      <td>16.500000</td>\n",
       "    </tr>\n",
       "    <tr>\n",
       "      <th>max</th>\n",
       "      <td>100.000000</td>\n",
       "      <td>644.000000</td>\n",
       "      <td>651.000000</td>\n",
       "      <td>1295.000000</td>\n",
       "      <td>100.000000</td>\n",
       "      <td>25.500000</td>\n",
       "      <td>25.300000</td>\n",
       "      <td>26.000000</td>\n",
       "      <td>24.900000</td>\n",
       "      <td>25.500000</td>\n",
       "      <td>100.000000</td>\n",
       "      <td>643.000000</td>\n",
       "      <td>655.000000</td>\n",
       "      <td>1298.000000</td>\n",
       "      <td>100.000000</td>\n",
       "      <td>26.000000</td>\n",
       "      <td>25.200000</td>\n",
       "      <td>26.100000</td>\n",
       "      <td>24.900000</td>\n",
       "      <td>25.600000</td>\n",
       "      <td>25.000000</td>\n",
       "      <td>3.100000</td>\n",
       "      <td>90.000000</td>\n",
       "      <td>82.000000</td>\n",
       "    </tr>\n",
       "  </tbody>\n",
       "</table>\n",
       "</div>"
      ],
      "text/plain": [
       "       sat_participation_2017  sat_evidence-based_reading_and_writing_2017  \\\n",
       "count               51.000000                                    51.000000   \n",
       "mean                39.803922                                   569.117647   \n",
       "std                 35.276632                                    45.666901   \n",
       "min                  2.000000                                   482.000000   \n",
       "25%                  4.000000                                   533.500000   \n",
       "50%                 38.000000                                   559.000000   \n",
       "75%                 66.000000                                   613.000000   \n",
       "max                100.000000                                   644.000000   \n",
       "\n",
       "       sat_math_2017  sat_total_2017  act_participation_2017  \\\n",
       "count      51.000000       51.000000               51.000000   \n",
       "mean      556.882353     1126.098039               65.254902   \n",
       "std        47.121395       92.494812               32.140842   \n",
       "min       468.000000      950.000000                8.000000   \n",
       "25%       523.500000     1055.500000               31.000000   \n",
       "50%       548.000000     1107.000000               69.000000   \n",
       "75%       599.000000     1212.000000              100.000000   \n",
       "max       651.000000     1295.000000              100.000000   \n",
       "\n",
       "       act_english_2017  act_math_2017  act_reading_2017  act_science_2017  \\\n",
       "count         51.000000      51.000000         51.000000         51.000000   \n",
       "mean          20.931373      21.182353         22.013725         21.450980   \n",
       "std            2.353677       1.981989          2.067271          1.739353   \n",
       "min           16.300000      18.000000         18.100000         18.200000   \n",
       "25%           19.000000      19.400000         20.450000         19.950000   \n",
       "50%           20.700000      20.900000         21.800000         21.300000   \n",
       "75%           23.300000      23.100000         24.150000         23.200000   \n",
       "max           25.500000      25.300000         26.000000         24.900000   \n",
       "\n",
       "       act_composite_2017  sat_participation_2018  \\\n",
       "count           51.000000               51.000000   \n",
       "mean            21.519608               45.745098   \n",
       "std              2.020695               37.314256   \n",
       "min             17.800000                2.000000   \n",
       "25%             19.800000                4.500000   \n",
       "50%             21.400000               52.000000   \n",
       "75%             23.600000               77.500000   \n",
       "max             25.500000              100.000000   \n",
       "\n",
       "       sat_evidence-based_reading_and_writing_2018  sat_math_2018  \\\n",
       "count                                    51.000000      51.000000   \n",
       "mean                                    563.686275     556.235294   \n",
       "std                                      47.502627      47.772623   \n",
       "min                                     480.000000     480.000000   \n",
       "25%                                     534.500000     522.500000   \n",
       "50%                                     552.000000     544.000000   \n",
       "75%                                     610.500000     593.500000   \n",
       "max                                     643.000000     655.000000   \n",
       "\n",
       "       sat_total_2018  act_participation_2018  act_english_2018  \\\n",
       "count       51.000000               51.000000         51.000000   \n",
       "mean      1120.019608               61.647059         20.988235   \n",
       "std         94.155083               34.080976          2.446356   \n",
       "min        977.000000                7.000000         16.600000   \n",
       "25%       1057.500000               28.500000         19.100000   \n",
       "50%       1098.000000               66.000000         20.200000   \n",
       "75%       1204.000000              100.000000         23.700000   \n",
       "max       1298.000000              100.000000         26.000000   \n",
       "\n",
       "       act_math_2018  act_reading_2018  act_science_2018  act_composite_2018  \\\n",
       "count      51.000000         51.000000         51.000000           51.000000   \n",
       "mean       21.125490         22.015686         21.345098           21.486275   \n",
       "std         2.035765          2.167245          1.870114            2.106278   \n",
       "min        17.800000         18.000000         17.900000           17.700000   \n",
       "25%        19.400000         20.450000         19.850000           19.950000   \n",
       "50%        20.700000         21.600000         21.100000           21.300000   \n",
       "75%        23.150000         24.100000         23.050000           23.550000   \n",
       "max        25.200000         26.100000         24.900000           25.600000   \n",
       "\n",
       "       act_ptcpt_change  compo_change  sat_ptcpt_change  total_change  \n",
       "count         51.000000     51.000000         51.000000     51.000000  \n",
       "mean          -3.607843     -0.033333          5.941176     -6.078431  \n",
       "std           13.447793      0.724063         18.271740     50.674587  \n",
       "min          -70.000000     -1.700000        -27.000000   -228.000000  \n",
       "25%           -4.000000     -0.300000          0.000000     -2.500000  \n",
       "50%           -1.000000     -0.100000          1.000000      6.000000  \n",
       "75%            0.000000      0.100000          5.000000     16.500000  \n",
       "max           25.000000      3.100000         90.000000     82.000000  "
      ]
     },
     "execution_count": 110,
     "metadata": {},
     "output_type": "execute_result"
    }
   ],
   "source": [
    "#Show descriptive measures (exm, mean, std) with .describe()\n",
    "data1718.describe()"
   ]
  },
  {
   "cell_type": "code",
   "execution_count": 109,
   "metadata": {},
   "outputs": [
    {
     "data": {
      "text/plain": [
       "sat_participation_2017                         0.346450\n",
       "sat_evidence-based_reading_and_writing_2017    0.272693\n",
       "sat_math_2017                                  0.365040\n",
       "sat_total_2017                                 0.310903\n",
       "act_participation_2017                        -0.197989\n",
       "act_english_2017                               0.352660\n",
       "act_math_2017                                  0.332683\n",
       "act_reading_2017                               0.269366\n",
       "act_science_2017                               0.218823\n",
       "act_composite_2017                             0.319810\n",
       "sat_participation_2018                         0.136228\n",
       "sat_evidence-based_reading_and_writing_2018    0.282300\n",
       "sat_math_2018                                  0.530407\n",
       "sat_total_2018                                 0.466432\n",
       "act_participation_2018                        -0.021916\n",
       "act_english_2018                               0.371507\n",
       "act_math_2018                                  0.269548\n",
       "act_reading_2018                               0.201361\n",
       "act_science_2018                               0.172383\n",
       "act_composite_2018                             0.281962\n",
       "act_ptcpt_change                              -3.274447\n",
       "compo_change                                   2.157529\n",
       "sat_ptcpt_change                               3.864080\n",
       "total_change                                  -2.636169\n",
       "dtype: float64"
      ]
     },
     "execution_count": 109,
     "metadata": {},
     "output_type": "execute_result"
    }
   ],
   "source": [
    "#Calculate skewness\n",
    "skewValue = data1718.skew()\n",
    "skewValue"
   ]
  },
  {
   "cell_type": "markdown",
   "metadata": {},
   "source": [
    "Participation - overall spread of the participation rate of either tests are very wide (high standard deviation). This shows that overall in the US, acceptance of both tests are mixed.\n",
    "\n",
    "SAT/ACT Subject scores - overall the spread of the scores is quite tight. Scores for either tests for all states are not too dispersed (coefficient of variation less than 1)\n",
    "\n",
    "Skewness - Based on the skewness from Pandas, we can say that **none of the features are normally distributed (skew=0)**. The closest does seem to be for participation rate of ACT in 2018 (skew= -0.02) but we already know that many states have close to full participation, so this is not valid. Quick view also shows that most of the features are skewed to the right (positive)."
   ]
  },
  {
   "cell_type": "markdown",
   "metadata": {},
   "source": [
    "#### We generally assuming that data we sample from a population will be normally distributed. Do we observe this trend?"
   ]
  },
  {
   "cell_type": "markdown",
   "metadata": {},
   "source": [
    "Answer: **NO**"
   ]
  },
  {
   "cell_type": "markdown",
   "metadata": {},
   "source": [
    "Does This Assumption Hold for:\n",
    "    - Math\n",
    "    - Reading\n",
    "    - Rates\n",
    "Explain your answers for each distribution and how you think this will affect estimates made from these data."
   ]
  },
  {
   "cell_type": "code",
   "execution_count": 69,
   "metadata": {},
   "outputs": [
    {
     "data": {
      "text/plain": [
       "<seaborn.axisgrid.FacetGrid at 0x24df3f21700>"
      ]
     },
     "execution_count": 69,
     "metadata": {},
     "output_type": "execute_result"
    },
    {
     "data": {
      "image/png": "[encoded data removed]",
      "text/plain": [
       "<Figure size 360x360 with 1 Axes>"
      ]
     },
     "metadata": {},
     "output_type": "display_data"
    }
   ],
   "source": [
    "sns.displot(data1718['act_reading_2017'])"
   ]
  },
  {
   "cell_type": "markdown",
   "metadata": {},
   "source": [
    "Answer:  \n",
    "The assumption **does not** hold for (Math/Reading/Rate) or others   \n",
    "The scores/rates are not 'normally distributed.  \n",
    "Based on Central Limit Theorem, if the samples are large enough, then the **mean** will be normally distributed.   \n",
    "The data does not hold this 'assumption'"
   ]
  },
  {
   "cell_type": "markdown",
   "metadata": {},
   "source": [
    "#### Estimate Limits of Data\n",
    "\n",
    "Suppose we only seek to understand the relationship between SAT and ACT participation rates in 2017. \n",
    "\n",
    "##### Does it make sense to conduct statistical inference given these data specifically? \n",
    "\n",
    "Why or why not?\n",
    "\n",
    "*(think about granularity, aggregation, the relationships between populations size & rates...consider the actually populations these data describe in answering this question)*"
   ]
  },
  {
   "cell_type": "markdown",
   "metadata": {},
   "source": [
    "Answer: **No**, conducting statistical inference will not help.\n",
    "\n",
    "1. We are not extracting sampling data from the population to infer any properties or unobserved parameters\n",
    "2. Because this data is highly standardized or collected, we can say that the data covers the entire population (or students)\n",
    "3. Statistical inference is making decisions based on random sampling, thus, with a population, it is not helpful.  \n",
    "   We can directly parametrize the relationship between SAT and ACT participation rate in a population (wider) context."
   ]
  },
  {
   "cell_type": "code",
   "execution_count": 70,
   "metadata": {},
   "outputs": [
    {
     "data": {
      "image/png": "[encoded data removed]",
      "text/plain": [
       "<Figure size 864x360 with 1 Axes>"
      ]
     },
     "metadata": {},
     "output_type": "display_data"
    }
   ],
   "source": [
    "#Redo participation plot --> shows the relationship between SAT participation w.r.t. ACT participation\n",
    "participation = ['sat_participation_2017','act_participation_2017']\n",
    "title = ['SAT Participation 2017','ACT Participation 2017']\n",
    "plot_scatter(data1718, participation, title)"
   ]
  },
  {
   "cell_type": "markdown",
   "metadata": {},
   "source": [
    "##### Is it appropriate to compare *these* specific SAT and ACT math scores? \n",
    "\n",
    "Why or why not?"
   ]
  },
  {
   "cell_type": "markdown",
   "metadata": {},
   "source": [
    "Answer: It would depend on the relationship/hypothesis/inference/condition that we look at.  \n",
    "We can look at the direct proportionality between the two datasets, but would be unable to make any other description without factoring in our aspects such as participation rate, etc.  \n",
    "Also, the actual tests also varies in terms of scoring (scale), types of questions, format of questions, etc."
   ]
  },
  {
   "cell_type": "markdown",
   "metadata": {},
   "source": [
    "#### Statistical Evaluation of Distributions \n",
    "\n",
    "**If you feel it's appropriate**, using methods we discussed in class, run hypothesis tests to compare variables of interest in our dataset. "
   ]
  },
  {
   "cell_type": "code",
   "execution_count": 71,
   "metadata": {},
   "outputs": [],
   "source": [
    "# Code:"
   ]
  },
  {
   "cell_type": "markdown",
   "metadata": {},
   "source": [
    "## Outside Research"
   ]
  },
  {
   "cell_type": "markdown",
   "metadata": {},
   "source": [
    "Based upon your observations, choose **three** states that demonstrate interesting trends in their SAT and/or ACT participation rates. Spend some time doing outside research on state policies that might influence these rates, and summarize your findings below. **Feel free to go back and create new plots that highlight these states of interest**. If you bring in any outside tables or charts, make sure you are explicit about having borrowed them. If you quote any text, make sure that it renders as being quoted. (Make sure that you cite your sources -- check with you local instructor for citation preferences)."
   ]
  },
  {
   "cell_type": "code",
   "execution_count": 72,
   "metadata": {},
   "outputs": [
    {
     "data": {
      "text/plain": [
       "<matplotlib.collections.LineCollection at 0x24df3f38520>"
      ]
     },
     "execution_count": 72,
     "metadata": {},
     "output_type": "execute_result"
    },
    {
     "data": {
      "image/png": "[encoded data removed]",
      "text/plain": [
       "<Figure size 864x360 with 1 Axes>"
      ]
     },
     "metadata": {},
     "output_type": "display_data"
    }
   ],
   "source": [
    "#TO OBSERVE THE RELATIONSHIP BETWEEN CHANGE IN PARTICIPATION RATE VS CHANGE IN COMPOSITE SCORE FOR ACT\n",
    "#Create new data\n",
    "new_data = data1718\n",
    "new_data['act_ptcpt_change'] = new_data['act_participation_2018'] - new_data['act_participation_2017']\n",
    "new_data['compo_change'] = new_data['act_composite_2018'] - new_data['act_composite_2017']\n",
    "#Plot new chart to see HOW CHANGE IN PARTICIPATION AFFECT CHANGE IN COMPOSITE SCORE\n",
    "sample2 = ['act_ptcpt_change','compo_change']\n",
    "sample3 = ['Change in ACT Participation Rate','Change in Composite Score']\n",
    "#add line where X=0 and Y=0 (NO CHANGE OBSERVED FOR SPECIFIC AXIS)\n",
    "plot_scatter(new_data, sample2, sample3)\n",
    "plt.vlines(x=0, ymin=-2,ymax=3,colors='red')\n",
    "plt.hlines(y=0, xmin=-70,xmax=25,colors='red')"
   ]
  },
  {
   "cell_type": "code",
   "execution_count": 73,
   "metadata": {},
   "outputs": [
    {
     "data": {
      "text/plain": [
       "<matplotlib.collections.LineCollection at 0x24df3463550>"
      ]
     },
     "execution_count": 73,
     "metadata": {},
     "output_type": "execute_result"
    },
    {
     "data": {
      "image/png": "[encoded data removed]",
      "text/plain": [
       "<Figure size 864x360 with 1 Axes>"
      ]
     },
     "metadata": {},
     "output_type": "display_data"
    }
   ],
   "source": [
    "#TO OBSERVE THE RELATIONSHIP BETWEEN CHANGE IN PARTICIPATION RATE VS CHANGE IN TOTAL SCORE FOR SAT\n",
    "#Create new data\n",
    "new_data = data1718\n",
    "new_data['sat_ptcpt_change'] = new_data['sat_participation_2018'] - new_data['sat_participation_2017']\n",
    "new_data['total_change'] = new_data['sat_total_2018'] - new_data['sat_total_2017']\n",
    "#Plot new chart to see HOW CHANGE IN PARTICIPATION AFFECT CHANGE IN COMPOSITE SCORE\n",
    "sample2 = ['sat_ptcpt_change','total_change']\n",
    "sample3 = ['Change in SAT Participation Rate','Change in Total Score']\n",
    "#add line where X=0 and Y=0 (NO CHANGE OBSERVED FOR SPECIFIC AXIS)\n",
    "plot_scatter(new_data, sample2, sample3)\n",
    "plt.vlines(x=0, ymin=-250,ymax=90,colors='red')\n",
    "plt.hlines(y=0, xmin=-40,xmax=95,colors='red')"
   ]
  },
  {
   "cell_type": "code",
   "execution_count": 74,
   "metadata": {},
   "outputs": [
    {
     "data": {
      "text/html": [
       "<div>\n",
       "<style scoped>\n",
       "    .dataframe tbody tr th:only-of-type {\n",
       "        vertical-align: middle;\n",
       "    }\n",
       "\n",
       "    .dataframe tbody tr th {\n",
       "        vertical-align: top;\n",
       "    }\n",
       "\n",
       "    .dataframe thead th {\n",
       "        text-align: right;\n",
       "    }\n",
       "</style>\n",
       "<table border=\"1\" class=\"dataframe\">\n",
       "  <thead>\n",
       "    <tr style=\"text-align: right;\">\n",
       "      <th></th>\n",
       "      <th>state</th>\n",
       "      <th>act_ptcpt_change</th>\n",
       "      <th>sat_ptcpt_change</th>\n",
       "      <th>compo_change</th>\n",
       "      <th>total_change</th>\n",
       "    </tr>\n",
       "  </thead>\n",
       "  <tbody>\n",
       "    <tr>\n",
       "      <th>0</th>\n",
       "      <td>Alabama</td>\n",
       "      <td>0</td>\n",
       "      <td>1</td>\n",
       "      <td>-0.1</td>\n",
       "      <td>1</td>\n",
       "    </tr>\n",
       "    <tr>\n",
       "      <th>1</th>\n",
       "      <td>Alaska</td>\n",
       "      <td>-32</td>\n",
       "      <td>5</td>\n",
       "      <td>1.0</td>\n",
       "      <td>26</td>\n",
       "    </tr>\n",
       "    <tr>\n",
       "      <th>2</th>\n",
       "      <td>Arizona</td>\n",
       "      <td>4</td>\n",
       "      <td>-1</td>\n",
       "      <td>-0.5</td>\n",
       "      <td>33</td>\n",
       "    </tr>\n",
       "    <tr>\n",
       "      <th>3</th>\n",
       "      <td>Arkansas</td>\n",
       "      <td>0</td>\n",
       "      <td>2</td>\n",
       "      <td>0.0</td>\n",
       "      <td>-39</td>\n",
       "    </tr>\n",
       "    <tr>\n",
       "      <th>4</th>\n",
       "      <td>California</td>\n",
       "      <td>-4</td>\n",
       "      <td>7</td>\n",
       "      <td>-0.1</td>\n",
       "      <td>21</td>\n",
       "    </tr>\n",
       "  </tbody>\n",
       "</table>\n",
       "</div>"
      ],
      "text/plain": [
       "        state  act_ptcpt_change  sat_ptcpt_change  compo_change  total_change\n",
       "0     Alabama                 0                 1          -0.1             1\n",
       "1      Alaska               -32                 5           1.0            26\n",
       "2     Arizona                 4                -1          -0.5            33\n",
       "3    Arkansas                 0                 2           0.0           -39\n",
       "4  California                -4                 7          -0.1            21"
      ]
     },
     "execution_count": 74,
     "metadata": {},
     "output_type": "execute_result"
    }
   ],
   "source": [
    "new_data[['state','act_ptcpt_change','sat_ptcpt_change','compo_change','total_change']].head()"
   ]
  },
  {
   "cell_type": "markdown",
   "metadata": {},
   "source": [
    "<u>**STATES WITH INTERESTING TREND**</u>  \n",
    "<u>**Colorado**</u>     \n",
    "- Saw a 70% drop in ACT participation and 89% increase in SAT participaton\n",
    "  - 100% SAT participation\n",
    "- Due to state policy change, all students will take SATs instead<sup>1</sup>\n",
    "- <span style=\"color:blue\">State Department of Education (DOE) will cover the costs of SAT tests<sup>1</sup></span>\n",
    "- However, not all is smooth.  \n",
    "  More than 100 school district superintendents complained the state was switching tests midway of the 2015-16 academic year,  \n",
    "  leaving juniors unprepared for the new SAT<sup>2</sup>\n",
    "  - <span style=\"color:red\">Data shows that SAT total score dropped by 176 points!</span> \n",
    "  - Same as our observation above, that the <u>**increase in participation rate is inversely proportional to the change in score**</u>\n",
    "\n",
    "<u>**Illinois**</u>\n",
    "- Saw a 50% drop in ACT participation and 90% increase in SAT participaton\n",
    "  - Almost reaching 100% SAT participation too at 99% percentage\n",
    "- Similar to Colorado, new law means all students will take SATs instead<sup>3</sup>\n",
    "- <span style=\"color:blue\">Tests costs are also covered by the state (Free)<sup>4</sup></span>\n",
    "- <span style=\"color:red\">As per above 'rule', total scores for 2018 also saw a drop by 96 points</span> \n",
    "\n",
    "<u>**Ohio**</u>\n",
    "-  Saw a 25% increase in ACT participaton to:\n",
    "  - 100% ACT participation\n",
    "- Different from above 2 states where they prefer SATs\n",
    "- <span style=\"color:blue\">Same as above, the state paid for all students ACT exam<sup>5</sup></span>\n",
    "- <span style=\"color:red\">Predictably, composite scores also dropped -1.7 year-on-year</span> "
   ]
  },
  {
   "cell_type": "markdown",
   "metadata": {},
   "source": [
    "**Reference/Source**  \n",
    "[1] https://co.chalkbeat.org/2020/7/13/21323566/colorado-offers-free-sat-dates-for-the-fall  \n",
    "[2] https://www.denverpost.com/2017/03/06/colorado-juniors-sat-college-exam/  \n",
    "[3] https://chicago.chalkbeat.org/2018/7/27/21105418/illinois-has-embraced-the-sat-and-the-act-is-mad-about-it  \n",
    "[4] https://www.testive.com/illinois/  \n",
    "[5] https://www.daytondailynews.com/news/historically-low-act-scores-red-flag-for-our-country/djfx9Urp719WyEaMfykyxL/"
   ]
  },
  {
   "cell_type": "markdown",
   "metadata": {},
   "source": [
    "## Conclusions and Recommendations"
   ]
  },
  {
   "cell_type": "markdown",
   "metadata": {},
   "source": [
    "Based on your exploration of the data, what are you key takeaways and recommendations? Choose one state with a lower participation rate and provide a suggestion for how the College Board might increase participation amongst graduating seniors in this state. Are there additional data you desire that would better inform your investigations?"
   ]
  },
  {
   "cell_type": "markdown",
   "metadata": {},
   "source": [
    "<u>Key findings from summarizing our observations:</u>\n",
    "1. At the moment, more states do prefer to take ACT, but we can see that popularity with SAT rised year-on-year\n",
    "2. Participation rate in one test is negatively correlated to the participation in the other test.\n",
    "   SAT and ACT participations are mirror of each other.\n",
    "2. Participation rate is negatively correlated to the change in score, vice-versa\n",
    "3. Participation rate in one test is positively correlated to the change in score in the other test.  \n",
    "\n",
    "Most states that have high participations in either tests are likely to have policies that mandate the participation in the test<sup>5</sup>. Students that are not college-bound will also take part, thus pulling down the average scores.\n",
    "On the other hand, if participations are low, then this situation is likely due to students taking initative to undertake the exam in hopes of getting a high score and admission into college.\n",
    "\n",
    "Another potential viewpoint that was observed is that Republican states are more biased towards ACT while Democratic states are more biased towards SAT. However, this needs to be further investigated. Further data would be required to check this relationship, such as percentage of democrat/republic demographic."
   ]
  },
  {
   "cell_type": "markdown",
   "metadata": {},
   "source": [
    "<u>Why Iowa?</u>\n",
    "1. Iowa has one of the lowest SAT participation rate \n",
    "2. ACT composite scores are in top20 even with participation rate at approx 68%\n",
    "   - we know that higher participation rate should have lower score, shows that Iowa bucked the trend\n",
    "2. Iowa has a 91.4% high school graduation rate, best in the country<sup>6</sup>\n",
    "3. Iowa has one of the lowest graduation requirement standards at the state level<sup>6</sup>\n",
    "\n",
    "With a high base of students graduating out of high school, there is a bigger market to promote SAT to potential college-bound students. Subsequently we can also take up more market share from ACT.\n",
    "Also, Iowa has one of the lowest graduation requirements, in that they do not require students to undertake ACT/SAT to graduate<sup>6</sup>. Hence, these students who take either tests are intending to go to college. \n",
    "This coupled with the Iowa's performance in the ACT tests, we can conjecture that these students are likely to be more studious and serious with the exam.\n",
    "**Thus, it is aligned the College Board's mission to set these students up for college success and bring benefit to all stakeholders involved** (themselves, their family, the state and the country)."
   ]
  },
  {
   "cell_type": "markdown",
   "metadata": {},
   "source": [
    "<u>Recommendations</u>\n",
    "1. The College Board (CB) can contact the state of Iowa to sign a contract, such as Colorado or Illinois.  \n",
    "   This strong push has also help SAT expand its market share<sup>7</sup>.  \n",
    "   If the state of Iowa makes the SAT free for students who intends to go to college, then a proportion of students might not take ACT instead.  \n",
    "2. The high composite score of Iowa in the ACT can also be attributed to good teaching of covered topics in schools<sup>8</sup>. The CB should get better coaches to help train teachers in state schools. When the confidence level of the students or parents improve, then theoretically more students will partake in SAT.\n",
    "3. Prepare test prep materials for students. Students in Iowa are currently ill-equipped for SAT, if this condition can be covered, then confidence level should rise as well.\n",
    "4. Organize more career fairs in high schools to pique the students interest into taking college degrees. When students are more aware of possible career opportunities, then they might decide to enrol for college too."
   ]
  },
  {
   "cell_type": "markdown",
   "metadata": {},
   "source": [
    "**Reference/Source**  \n",
    "[5] https://www.testive.com/state-sat-act/  \n",
    "[6] https://qconline.com/news/local/education/these-4-numbers-tell-the-story-of-public-education-in-iowa/collection_3e9751ea-8939-5dde-b95b-653f96c7ab47.html#1  \n",
    "[7] https://www.washingtonpost.com/education/2018/10/23/sat-reclaims-title-most-widely-used-college-admission-test/  \n",
    "[8] https://qctimes.com/news/local/education/the-numbers-iowa-s-average-act-score-is-21-6/article_5a62d78c-6744-5979-8de4-56b3d77bd1f0.html  "
   ]
  }
 ],
 "metadata": {
  "anaconda-cloud": {},
  "kernelspec": {
   "display_name": "Python 3",
   "language": "python",
   "name": "python3"
  },
  "language_info": {
   "codemirror_mode": {
    "name": "ipython",
    "version": 3
   },
   "file_extension": ".py",
   "mimetype": "text/x-python",
   "name": "python",
   "nbconvert_exporter": "python",
   "pygments_lexer": "ipython3",
   "version": "3.8.5"
  }
 },
 "nbformat": 4,
 "nbformat_minor": 2
}
